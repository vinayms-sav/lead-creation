{
 "cells": [
  {
   "cell_type": "code",
   "execution_count": 1,
   "metadata": {},
   "outputs": [],
   "source": [
    "# Suppressing Warnings\n",
    "import warnings\n",
    "warnings.filterwarnings('ignore')"
   ]
  },
  {
   "cell_type": "code",
   "execution_count": 2,
   "metadata": {},
   "outputs": [],
   "source": [
    "# Importing necessary libraries\n",
    "import pandas as pd, numpy as np\n",
    "import matplotlib.pyplot as plt\n",
    "import seaborn as sns\n",
    "import sklearn"
   ]
  },
  {
   "cell_type": "code",
   "execution_count": 3,
   "metadata": {},
   "outputs": [
    {
     "data": {
      "text/html": [
       "<div>\n",
       "<style scoped>\n",
       "    .dataframe tbody tr th:only-of-type {\n",
       "        vertical-align: middle;\n",
       "    }\n",
       "\n",
       "    .dataframe tbody tr th {\n",
       "        vertical-align: top;\n",
       "    }\n",
       "\n",
       "    .dataframe thead th {\n",
       "        text-align: right;\n",
       "    }\n",
       "</style>\n",
       "<table border=\"1\" class=\"dataframe\">\n",
       "  <thead>\n",
       "    <tr style=\"text-align: right;\">\n",
       "      <th></th>\n",
       "      <th>Prospect ID</th>\n",
       "      <th>Lead Number</th>\n",
       "      <th>Lead Origin</th>\n",
       "      <th>Lead Source</th>\n",
       "      <th>Do Not Email</th>\n",
       "      <th>Do Not Call</th>\n",
       "      <th>Converted</th>\n",
       "      <th>TotalVisits</th>\n",
       "      <th>Total Time Spent on Website</th>\n",
       "      <th>Page Views Per Visit</th>\n",
       "      <th>...</th>\n",
       "      <th>Get updates on DM Content</th>\n",
       "      <th>Lead Profile</th>\n",
       "      <th>City</th>\n",
       "      <th>Asymmetrique Activity Index</th>\n",
       "      <th>Asymmetrique Profile Index</th>\n",
       "      <th>Asymmetrique Activity Score</th>\n",
       "      <th>Asymmetrique Profile Score</th>\n",
       "      <th>I agree to pay the amount through cheque</th>\n",
       "      <th>A free copy of Mastering The Interview</th>\n",
       "      <th>Last Notable Activity</th>\n",
       "    </tr>\n",
       "  </thead>\n",
       "  <tbody>\n",
       "    <tr>\n",
       "      <td>0</td>\n",
       "      <td>7927b2df-8bba-4d29-b9a2-b6e0beafe620</td>\n",
       "      <td>660737</td>\n",
       "      <td>API</td>\n",
       "      <td>Olark Chat</td>\n",
       "      <td>No</td>\n",
       "      <td>No</td>\n",
       "      <td>0</td>\n",
       "      <td>0.0</td>\n",
       "      <td>0</td>\n",
       "      <td>0.0</td>\n",
       "      <td>...</td>\n",
       "      <td>No</td>\n",
       "      <td>Select</td>\n",
       "      <td>Select</td>\n",
       "      <td>02.Medium</td>\n",
       "      <td>02.Medium</td>\n",
       "      <td>15.0</td>\n",
       "      <td>15.0</td>\n",
       "      <td>No</td>\n",
       "      <td>No</td>\n",
       "      <td>Modified</td>\n",
       "    </tr>\n",
       "    <tr>\n",
       "      <td>1</td>\n",
       "      <td>2a272436-5132-4136-86fa-dcc88c88f482</td>\n",
       "      <td>660728</td>\n",
       "      <td>API</td>\n",
       "      <td>Organic Search</td>\n",
       "      <td>No</td>\n",
       "      <td>No</td>\n",
       "      <td>0</td>\n",
       "      <td>5.0</td>\n",
       "      <td>674</td>\n",
       "      <td>2.5</td>\n",
       "      <td>...</td>\n",
       "      <td>No</td>\n",
       "      <td>Select</td>\n",
       "      <td>Select</td>\n",
       "      <td>02.Medium</td>\n",
       "      <td>02.Medium</td>\n",
       "      <td>15.0</td>\n",
       "      <td>15.0</td>\n",
       "      <td>No</td>\n",
       "      <td>No</td>\n",
       "      <td>Email Opened</td>\n",
       "    </tr>\n",
       "    <tr>\n",
       "      <td>2</td>\n",
       "      <td>8cc8c611-a219-4f35-ad23-fdfd2656bd8a</td>\n",
       "      <td>660727</td>\n",
       "      <td>Landing Page Submission</td>\n",
       "      <td>Direct Traffic</td>\n",
       "      <td>No</td>\n",
       "      <td>No</td>\n",
       "      <td>1</td>\n",
       "      <td>2.0</td>\n",
       "      <td>1532</td>\n",
       "      <td>2.0</td>\n",
       "      <td>...</td>\n",
       "      <td>No</td>\n",
       "      <td>Potential Lead</td>\n",
       "      <td>Mumbai</td>\n",
       "      <td>02.Medium</td>\n",
       "      <td>01.High</td>\n",
       "      <td>14.0</td>\n",
       "      <td>20.0</td>\n",
       "      <td>No</td>\n",
       "      <td>Yes</td>\n",
       "      <td>Email Opened</td>\n",
       "    </tr>\n",
       "    <tr>\n",
       "      <td>3</td>\n",
       "      <td>0cc2df48-7cf4-4e39-9de9-19797f9b38cc</td>\n",
       "      <td>660719</td>\n",
       "      <td>Landing Page Submission</td>\n",
       "      <td>Direct Traffic</td>\n",
       "      <td>No</td>\n",
       "      <td>No</td>\n",
       "      <td>0</td>\n",
       "      <td>1.0</td>\n",
       "      <td>305</td>\n",
       "      <td>1.0</td>\n",
       "      <td>...</td>\n",
       "      <td>No</td>\n",
       "      <td>Select</td>\n",
       "      <td>Mumbai</td>\n",
       "      <td>02.Medium</td>\n",
       "      <td>01.High</td>\n",
       "      <td>13.0</td>\n",
       "      <td>17.0</td>\n",
       "      <td>No</td>\n",
       "      <td>No</td>\n",
       "      <td>Modified</td>\n",
       "    </tr>\n",
       "    <tr>\n",
       "      <td>4</td>\n",
       "      <td>3256f628-e534-4826-9d63-4a8b88782852</td>\n",
       "      <td>660681</td>\n",
       "      <td>Landing Page Submission</td>\n",
       "      <td>Google</td>\n",
       "      <td>No</td>\n",
       "      <td>No</td>\n",
       "      <td>1</td>\n",
       "      <td>2.0</td>\n",
       "      <td>1428</td>\n",
       "      <td>1.0</td>\n",
       "      <td>...</td>\n",
       "      <td>No</td>\n",
       "      <td>Select</td>\n",
       "      <td>Mumbai</td>\n",
       "      <td>02.Medium</td>\n",
       "      <td>01.High</td>\n",
       "      <td>15.0</td>\n",
       "      <td>18.0</td>\n",
       "      <td>No</td>\n",
       "      <td>No</td>\n",
       "      <td>Modified</td>\n",
       "    </tr>\n",
       "  </tbody>\n",
       "</table>\n",
       "<p>5 rows × 37 columns</p>\n",
       "</div>"
      ],
      "text/plain": [
       "                            Prospect ID  Lead Number              Lead Origin  \\\n",
       "0  7927b2df-8bba-4d29-b9a2-b6e0beafe620       660737                      API   \n",
       "1  2a272436-5132-4136-86fa-dcc88c88f482       660728                      API   \n",
       "2  8cc8c611-a219-4f35-ad23-fdfd2656bd8a       660727  Landing Page Submission   \n",
       "3  0cc2df48-7cf4-4e39-9de9-19797f9b38cc       660719  Landing Page Submission   \n",
       "4  3256f628-e534-4826-9d63-4a8b88782852       660681  Landing Page Submission   \n",
       "\n",
       "      Lead Source Do Not Email Do Not Call  Converted  TotalVisits  \\\n",
       "0      Olark Chat           No          No          0          0.0   \n",
       "1  Organic Search           No          No          0          5.0   \n",
       "2  Direct Traffic           No          No          1          2.0   \n",
       "3  Direct Traffic           No          No          0          1.0   \n",
       "4          Google           No          No          1          2.0   \n",
       "\n",
       "   Total Time Spent on Website  Page Views Per Visit  ...  \\\n",
       "0                            0                   0.0  ...   \n",
       "1                          674                   2.5  ...   \n",
       "2                         1532                   2.0  ...   \n",
       "3                          305                   1.0  ...   \n",
       "4                         1428                   1.0  ...   \n",
       "\n",
       "  Get updates on DM Content    Lead Profile    City  \\\n",
       "0                        No          Select  Select   \n",
       "1                        No          Select  Select   \n",
       "2                        No  Potential Lead  Mumbai   \n",
       "3                        No          Select  Mumbai   \n",
       "4                        No          Select  Mumbai   \n",
       "\n",
       "  Asymmetrique Activity Index Asymmetrique Profile Index  \\\n",
       "0                   02.Medium                  02.Medium   \n",
       "1                   02.Medium                  02.Medium   \n",
       "2                   02.Medium                    01.High   \n",
       "3                   02.Medium                    01.High   \n",
       "4                   02.Medium                    01.High   \n",
       "\n",
       "  Asymmetrique Activity Score Asymmetrique Profile Score  \\\n",
       "0                        15.0                       15.0   \n",
       "1                        15.0                       15.0   \n",
       "2                        14.0                       20.0   \n",
       "3                        13.0                       17.0   \n",
       "4                        15.0                       18.0   \n",
       "\n",
       "  I agree to pay the amount through cheque  \\\n",
       "0                                       No   \n",
       "1                                       No   \n",
       "2                                       No   \n",
       "3                                       No   \n",
       "4                                       No   \n",
       "\n",
       "  A free copy of Mastering The Interview Last Notable Activity  \n",
       "0                                     No              Modified  \n",
       "1                                     No          Email Opened  \n",
       "2                                    Yes          Email Opened  \n",
       "3                                     No              Modified  \n",
       "4                                     No              Modified  \n",
       "\n",
       "[5 rows x 37 columns]"
      ]
     },
     "execution_count": 3,
     "metadata": {},
     "output_type": "execute_result"
    }
   ],
   "source": [
    "# Importing dataset\n",
    "lead_data = pd.read_csv(\"Leads.csv\")\n",
    "lead_data.head()"
   ]
  },
  {
   "cell_type": "code",
   "execution_count": 4,
   "metadata": {},
   "outputs": [
    {
     "data": {
      "text/plain": [
       "(9240, 37)"
      ]
     },
     "execution_count": 4,
     "metadata": {},
     "output_type": "execute_result"
    }
   ],
   "source": [
    "lead_data.shape"
   ]
  },
  {
   "cell_type": "code",
   "execution_count": 5,
   "metadata": {
    "scrolled": true
   },
   "outputs": [
    {
     "name": "stdout",
     "output_type": "stream",
     "text": [
      "<class 'pandas.core.frame.DataFrame'>\n",
      "RangeIndex: 9240 entries, 0 to 9239\n",
      "Data columns (total 37 columns):\n",
      "Prospect ID                                      9240 non-null object\n",
      "Lead Number                                      9240 non-null int64\n",
      "Lead Origin                                      9240 non-null object\n",
      "Lead Source                                      9204 non-null object\n",
      "Do Not Email                                     9240 non-null object\n",
      "Do Not Call                                      9240 non-null object\n",
      "Converted                                        9240 non-null int64\n",
      "TotalVisits                                      9103 non-null float64\n",
      "Total Time Spent on Website                      9240 non-null int64\n",
      "Page Views Per Visit                             9103 non-null float64\n",
      "Last Activity                                    9137 non-null object\n",
      "Country                                          6779 non-null object\n",
      "Specialization                                   7802 non-null object\n",
      "How did you hear about X Education               7033 non-null object\n",
      "What is your current occupation                  6550 non-null object\n",
      "What matters most to you in choosing a course    6531 non-null object\n",
      "Search                                           9240 non-null object\n",
      "Magazine                                         9240 non-null object\n",
      "Newspaper Article                                9240 non-null object\n",
      "X Education Forums                               9240 non-null object\n",
      "Newspaper                                        9240 non-null object\n",
      "Digital Advertisement                            9240 non-null object\n",
      "Through Recommendations                          9240 non-null object\n",
      "Receive More Updates About Our Courses           9240 non-null object\n",
      "Tags                                             5887 non-null object\n",
      "Lead Quality                                     4473 non-null object\n",
      "Update me on Supply Chain Content                9240 non-null object\n",
      "Get updates on DM Content                        9240 non-null object\n",
      "Lead Profile                                     6531 non-null object\n",
      "City                                             7820 non-null object\n",
      "Asymmetrique Activity Index                      5022 non-null object\n",
      "Asymmetrique Profile Index                       5022 non-null object\n",
      "Asymmetrique Activity Score                      5022 non-null float64\n",
      "Asymmetrique Profile Score                       5022 non-null float64\n",
      "I agree to pay the amount through cheque         9240 non-null object\n",
      "A free copy of Mastering The Interview           9240 non-null object\n",
      "Last Notable Activity                            9240 non-null object\n",
      "dtypes: float64(4), int64(3), object(30)\n",
      "memory usage: 2.6+ MB\n"
     ]
    }
   ],
   "source": [
    "lead_data.info()"
   ]
  },
  {
   "cell_type": "code",
   "execution_count": 6,
   "metadata": {},
   "outputs": [
    {
     "data": {
      "text/html": [
       "<div>\n",
       "<style scoped>\n",
       "    .dataframe tbody tr th:only-of-type {\n",
       "        vertical-align: middle;\n",
       "    }\n",
       "\n",
       "    .dataframe tbody tr th {\n",
       "        vertical-align: top;\n",
       "    }\n",
       "\n",
       "    .dataframe thead th {\n",
       "        text-align: right;\n",
       "    }\n",
       "</style>\n",
       "<table border=\"1\" class=\"dataframe\">\n",
       "  <thead>\n",
       "    <tr style=\"text-align: right;\">\n",
       "      <th></th>\n",
       "      <th>Lead Number</th>\n",
       "      <th>Converted</th>\n",
       "      <th>TotalVisits</th>\n",
       "      <th>Total Time Spent on Website</th>\n",
       "      <th>Page Views Per Visit</th>\n",
       "      <th>Asymmetrique Activity Score</th>\n",
       "      <th>Asymmetrique Profile Score</th>\n",
       "    </tr>\n",
       "  </thead>\n",
       "  <tbody>\n",
       "    <tr>\n",
       "      <td>count</td>\n",
       "      <td>9240.000000</td>\n",
       "      <td>9240.000000</td>\n",
       "      <td>9103.000000</td>\n",
       "      <td>9240.000000</td>\n",
       "      <td>9103.000000</td>\n",
       "      <td>5022.000000</td>\n",
       "      <td>5022.000000</td>\n",
       "    </tr>\n",
       "    <tr>\n",
       "      <td>mean</td>\n",
       "      <td>617188.435606</td>\n",
       "      <td>0.385390</td>\n",
       "      <td>3.445238</td>\n",
       "      <td>487.698268</td>\n",
       "      <td>2.362820</td>\n",
       "      <td>14.306252</td>\n",
       "      <td>16.344883</td>\n",
       "    </tr>\n",
       "    <tr>\n",
       "      <td>std</td>\n",
       "      <td>23405.995698</td>\n",
       "      <td>0.486714</td>\n",
       "      <td>4.854853</td>\n",
       "      <td>548.021466</td>\n",
       "      <td>2.161418</td>\n",
       "      <td>1.386694</td>\n",
       "      <td>1.811395</td>\n",
       "    </tr>\n",
       "    <tr>\n",
       "      <td>min</td>\n",
       "      <td>579533.000000</td>\n",
       "      <td>0.000000</td>\n",
       "      <td>0.000000</td>\n",
       "      <td>0.000000</td>\n",
       "      <td>0.000000</td>\n",
       "      <td>7.000000</td>\n",
       "      <td>11.000000</td>\n",
       "    </tr>\n",
       "    <tr>\n",
       "      <td>25%</td>\n",
       "      <td>596484.500000</td>\n",
       "      <td>0.000000</td>\n",
       "      <td>1.000000</td>\n",
       "      <td>12.000000</td>\n",
       "      <td>1.000000</td>\n",
       "      <td>14.000000</td>\n",
       "      <td>15.000000</td>\n",
       "    </tr>\n",
       "    <tr>\n",
       "      <td>50%</td>\n",
       "      <td>615479.000000</td>\n",
       "      <td>0.000000</td>\n",
       "      <td>3.000000</td>\n",
       "      <td>248.000000</td>\n",
       "      <td>2.000000</td>\n",
       "      <td>14.000000</td>\n",
       "      <td>16.000000</td>\n",
       "    </tr>\n",
       "    <tr>\n",
       "      <td>75%</td>\n",
       "      <td>637387.250000</td>\n",
       "      <td>1.000000</td>\n",
       "      <td>5.000000</td>\n",
       "      <td>936.000000</td>\n",
       "      <td>3.000000</td>\n",
       "      <td>15.000000</td>\n",
       "      <td>18.000000</td>\n",
       "    </tr>\n",
       "    <tr>\n",
       "      <td>max</td>\n",
       "      <td>660737.000000</td>\n",
       "      <td>1.000000</td>\n",
       "      <td>251.000000</td>\n",
       "      <td>2272.000000</td>\n",
       "      <td>55.000000</td>\n",
       "      <td>18.000000</td>\n",
       "      <td>20.000000</td>\n",
       "    </tr>\n",
       "  </tbody>\n",
       "</table>\n",
       "</div>"
      ],
      "text/plain": [
       "         Lead Number    Converted  TotalVisits  Total Time Spent on Website  \\\n",
       "count    9240.000000  9240.000000  9103.000000                  9240.000000   \n",
       "mean   617188.435606     0.385390     3.445238                   487.698268   \n",
       "std     23405.995698     0.486714     4.854853                   548.021466   \n",
       "min    579533.000000     0.000000     0.000000                     0.000000   \n",
       "25%    596484.500000     0.000000     1.000000                    12.000000   \n",
       "50%    615479.000000     0.000000     3.000000                   248.000000   \n",
       "75%    637387.250000     1.000000     5.000000                   936.000000   \n",
       "max    660737.000000     1.000000   251.000000                  2272.000000   \n",
       "\n",
       "       Page Views Per Visit  Asymmetrique Activity Score  \\\n",
       "count           9103.000000                  5022.000000   \n",
       "mean               2.362820                    14.306252   \n",
       "std                2.161418                     1.386694   \n",
       "min                0.000000                     7.000000   \n",
       "25%                1.000000                    14.000000   \n",
       "50%                2.000000                    14.000000   \n",
       "75%                3.000000                    15.000000   \n",
       "max               55.000000                    18.000000   \n",
       "\n",
       "       Asymmetrique Profile Score  \n",
       "count                 5022.000000  \n",
       "mean                    16.344883  \n",
       "std                      1.811395  \n",
       "min                     11.000000  \n",
       "25%                     15.000000  \n",
       "50%                     16.000000  \n",
       "75%                     18.000000  \n",
       "max                     20.000000  "
      ]
     },
     "execution_count": 6,
     "metadata": {},
     "output_type": "execute_result"
    }
   ],
   "source": [
    "lead_data.describe()"
   ]
  },
  {
   "cell_type": "markdown",
   "metadata": {},
   "source": [
    "#### Some columns have \"Select\" as an entry, which indicates that nothing was selected there and should be replaced by Null"
   ]
  },
  {
   "cell_type": "code",
   "execution_count": 7,
   "metadata": {},
   "outputs": [
    {
     "data": {
      "text/plain": [
       "['Specialization',\n",
       " 'How did you hear about X Education',\n",
       " 'Lead Profile',\n",
       " 'City']"
      ]
     },
     "execution_count": 7,
     "metadata": {},
     "output_type": "execute_result"
    }
   ],
   "source": [
    "select_present = lead_data.apply(lambda col: col.str.count('Select').sum())\n",
    "select_present_cols = select_present[select_present > 0].index.tolist()\n",
    "select_present_cols"
   ]
  },
  {
   "cell_type": "markdown",
   "metadata": {},
   "source": [
    "#### Replace Select with null"
   ]
  },
  {
   "cell_type": "code",
   "execution_count": 8,
   "metadata": {},
   "outputs": [],
   "source": [
    "lead_data[select_present_cols] = lead_data[select_present_cols].replace(\"Select\", np.nan)"
   ]
  },
  {
   "cell_type": "code",
   "execution_count": 9,
   "metadata": {},
   "outputs": [
    {
     "data": {
      "text/html": [
       "<div>\n",
       "<style scoped>\n",
       "    .dataframe tbody tr th:only-of-type {\n",
       "        vertical-align: middle;\n",
       "    }\n",
       "\n",
       "    .dataframe tbody tr th {\n",
       "        vertical-align: top;\n",
       "    }\n",
       "\n",
       "    .dataframe thead th {\n",
       "        text-align: right;\n",
       "    }\n",
       "</style>\n",
       "<table border=\"1\" class=\"dataframe\">\n",
       "  <thead>\n",
       "    <tr style=\"text-align: right;\">\n",
       "      <th></th>\n",
       "      <th>Specialization</th>\n",
       "      <th>How did you hear about X Education</th>\n",
       "      <th>Lead Profile</th>\n",
       "      <th>City</th>\n",
       "    </tr>\n",
       "  </thead>\n",
       "  <tbody>\n",
       "    <tr>\n",
       "      <td>0</td>\n",
       "      <td>NaN</td>\n",
       "      <td>NaN</td>\n",
       "      <td>NaN</td>\n",
       "      <td>NaN</td>\n",
       "    </tr>\n",
       "    <tr>\n",
       "      <td>1</td>\n",
       "      <td>NaN</td>\n",
       "      <td>NaN</td>\n",
       "      <td>NaN</td>\n",
       "      <td>NaN</td>\n",
       "    </tr>\n",
       "    <tr>\n",
       "      <td>2</td>\n",
       "      <td>Business Administration</td>\n",
       "      <td>NaN</td>\n",
       "      <td>Potential Lead</td>\n",
       "      <td>Mumbai</td>\n",
       "    </tr>\n",
       "    <tr>\n",
       "      <td>3</td>\n",
       "      <td>Media and Advertising</td>\n",
       "      <td>Word Of Mouth</td>\n",
       "      <td>NaN</td>\n",
       "      <td>Mumbai</td>\n",
       "    </tr>\n",
       "    <tr>\n",
       "      <td>4</td>\n",
       "      <td>NaN</td>\n",
       "      <td>Other</td>\n",
       "      <td>NaN</td>\n",
       "      <td>Mumbai</td>\n",
       "    </tr>\n",
       "    <tr>\n",
       "      <td>...</td>\n",
       "      <td>...</td>\n",
       "      <td>...</td>\n",
       "      <td>...</td>\n",
       "      <td>...</td>\n",
       "    </tr>\n",
       "    <tr>\n",
       "      <td>9235</td>\n",
       "      <td>IT Projects Management</td>\n",
       "      <td>NaN</td>\n",
       "      <td>Potential Lead</td>\n",
       "      <td>Mumbai</td>\n",
       "    </tr>\n",
       "    <tr>\n",
       "      <td>9236</td>\n",
       "      <td>Media and Advertising</td>\n",
       "      <td>NaN</td>\n",
       "      <td>Potential Lead</td>\n",
       "      <td>Mumbai</td>\n",
       "    </tr>\n",
       "    <tr>\n",
       "      <td>9237</td>\n",
       "      <td>Business Administration</td>\n",
       "      <td>NaN</td>\n",
       "      <td>Potential Lead</td>\n",
       "      <td>Mumbai</td>\n",
       "    </tr>\n",
       "    <tr>\n",
       "      <td>9238</td>\n",
       "      <td>Human Resource Management</td>\n",
       "      <td>Online Search</td>\n",
       "      <td>NaN</td>\n",
       "      <td>Other Metro Cities</td>\n",
       "    </tr>\n",
       "    <tr>\n",
       "      <td>9239</td>\n",
       "      <td>Supply Chain Management</td>\n",
       "      <td>NaN</td>\n",
       "      <td>Potential Lead</td>\n",
       "      <td>Other Cities</td>\n",
       "    </tr>\n",
       "  </tbody>\n",
       "</table>\n",
       "<p>9240 rows × 4 columns</p>\n",
       "</div>"
      ],
      "text/plain": [
       "                 Specialization How did you hear about X Education  \\\n",
       "0                           NaN                                NaN   \n",
       "1                           NaN                                NaN   \n",
       "2       Business Administration                                NaN   \n",
       "3         Media and Advertising                      Word Of Mouth   \n",
       "4                           NaN                              Other   \n",
       "...                         ...                                ...   \n",
       "9235     IT Projects Management                                NaN   \n",
       "9236      Media and Advertising                                NaN   \n",
       "9237    Business Administration                                NaN   \n",
       "9238  Human Resource Management                      Online Search   \n",
       "9239    Supply Chain Management                                NaN   \n",
       "\n",
       "        Lead Profile                City  \n",
       "0                NaN                 NaN  \n",
       "1                NaN                 NaN  \n",
       "2     Potential Lead              Mumbai  \n",
       "3                NaN              Mumbai  \n",
       "4                NaN              Mumbai  \n",
       "...              ...                 ...  \n",
       "9235  Potential Lead              Mumbai  \n",
       "9236  Potential Lead              Mumbai  \n",
       "9237  Potential Lead              Mumbai  \n",
       "9238             NaN  Other Metro Cities  \n",
       "9239  Potential Lead        Other Cities  \n",
       "\n",
       "[9240 rows x 4 columns]"
      ]
     },
     "execution_count": 9,
     "metadata": {},
     "output_type": "execute_result"
    }
   ],
   "source": [
    "lead_data[select_present_cols]"
   ]
  },
  {
   "cell_type": "markdown",
   "metadata": {},
   "source": [
    "### Understandind the data (Shape,info,description)"
   ]
  },
  {
   "cell_type": "code",
   "execution_count": 10,
   "metadata": {},
   "outputs": [
    {
     "data": {
      "text/plain": [
       "How did you hear about X Education               78.463203\n",
       "Lead Profile                                     74.188312\n",
       "Lead Quality                                     51.590909\n",
       "Asymmetrique Profile Score                       45.649351\n",
       "Asymmetrique Activity Score                      45.649351\n",
       "Asymmetrique Profile Index                       45.649351\n",
       "Asymmetrique Activity Index                      45.649351\n",
       "City                                             39.707792\n",
       "Specialization                                   36.580087\n",
       "Tags                                             36.287879\n",
       "What matters most to you in choosing a course    29.318182\n",
       "What is your current occupation                  29.112554\n",
       "Country                                          26.634199\n",
       "TotalVisits                                       1.482684\n",
       "Page Views Per Visit                              1.482684\n",
       "Last Activity                                     1.114719\n",
       "Lead Source                                       0.389610\n",
       "Lead Origin                                       0.000000\n",
       "Lead Number                                       0.000000\n",
       "Do Not Email                                      0.000000\n",
       "Do Not Call                                       0.000000\n",
       "Converted                                         0.000000\n",
       "Total Time Spent on Website                       0.000000\n",
       "Last Notable Activity                             0.000000\n",
       "Newspaper Article                                 0.000000\n",
       "Search                                            0.000000\n",
       "Magazine                                          0.000000\n",
       "A free copy of Mastering The Interview            0.000000\n",
       "X Education Forums                                0.000000\n",
       "Newspaper                                         0.000000\n",
       "Digital Advertisement                             0.000000\n",
       "Through Recommendations                           0.000000\n",
       "Receive More Updates About Our Courses            0.000000\n",
       "Update me on Supply Chain Content                 0.000000\n",
       "Get updates on DM Content                         0.000000\n",
       "I agree to pay the amount through cheque          0.000000\n",
       "Prospect ID                                       0.000000\n",
       "dtype: float64"
      ]
     },
     "execution_count": 10,
     "metadata": {},
     "output_type": "execute_result"
    }
   ],
   "source": [
    "# Identifying columns with null values and treat them\n",
    "100*(lead_data.isnull().sum()/lead_data.shape[0]).sort_values(ascending=False)"
   ]
  },
  {
   "cell_type": "markdown",
   "metadata": {},
   "source": [
    "#### We have a high share of missing values in the dataset. We would either have to drop the columns and impute the missing values"
   ]
  },
  {
   "cell_type": "code",
   "execution_count": 11,
   "metadata": {},
   "outputs": [
    {
     "data": {
      "text/plain": [
       "Online Search            808\n",
       "Word Of Mouth            348\n",
       "Student of SomeSchool    310\n",
       "Other                    186\n",
       "Multiple Sources         152\n",
       "Advertisements            70\n",
       "Social Media              67\n",
       "Email                     26\n",
       "SMS                       23\n",
       "Name: How did you hear about X Education, dtype: int64"
      ]
     },
     "execution_count": 11,
     "metadata": {},
     "output_type": "execute_result"
    }
   ],
   "source": [
    "lead_data[\"How did you hear about X Education\"].value_counts()"
   ]
  },
  {
   "cell_type": "markdown",
   "metadata": {},
   "source": [
    "#### 78% missing values and no pattern; hence, it is better to drop the column "
   ]
  },
  {
   "cell_type": "code",
   "execution_count": 12,
   "metadata": {},
   "outputs": [],
   "source": [
    "lead_data.drop([\"How did you hear about X Education\"],axis=1,inplace = True)"
   ]
  },
  {
   "cell_type": "code",
   "execution_count": 13,
   "metadata": {},
   "outputs": [
    {
     "data": {
      "text/plain": [
       "Potential Lead                 1613\n",
       "Other Leads                     487\n",
       "Student of SomeSchool           241\n",
       "Lateral Student                  24\n",
       "Dual Specialization Student      20\n",
       "Name: Lead Profile, dtype: int64"
      ]
     },
     "execution_count": 13,
     "metadata": {},
     "output_type": "execute_result"
    }
   ],
   "source": [
    "lead_data[\"Lead Profile\"].value_counts()"
   ]
  },
  {
   "cell_type": "markdown",
   "metadata": {},
   "source": [
    "#### 78% missing values and no pattern; hence, it is better to drop the column "
   ]
  },
  {
   "cell_type": "code",
   "execution_count": 14,
   "metadata": {},
   "outputs": [],
   "source": [
    "lead_data.drop([\"Lead Profile\"],axis=1,inplace = True)"
   ]
  },
  {
   "cell_type": "code",
   "execution_count": 15,
   "metadata": {},
   "outputs": [
    {
     "data": {
      "text/plain": [
       "Might be             1560\n",
       "Not Sure             1092\n",
       "High in Relevance     637\n",
       "Worst                 601\n",
       "Low in Relevance      583\n",
       "Name: Lead Quality, dtype: int64"
      ]
     },
     "execution_count": 15,
     "metadata": {},
     "output_type": "execute_result"
    }
   ],
   "source": [
    "lead_data[\"Lead Quality\"].value_counts()"
   ]
  },
  {
   "cell_type": "markdown",
   "metadata": {},
   "source": [
    "#### Given we have an entry that highlights the Not sure attribute, we can change NA to Not Sure"
   ]
  },
  {
   "cell_type": "code",
   "execution_count": 16,
   "metadata": {},
   "outputs": [],
   "source": [
    "lead_data[\"Lead Quality\"].replace(np.nan,\"Not Sure\", inplace = True)"
   ]
  },
  {
   "cell_type": "code",
   "execution_count": 17,
   "metadata": {},
   "outputs": [
    {
     "data": {
      "text/plain": [
       "Not Sure             5859\n",
       "Might be             1560\n",
       "High in Relevance     637\n",
       "Worst                 601\n",
       "Low in Relevance      583\n",
       "Name: Lead Quality, dtype: int64"
      ]
     },
     "execution_count": 17,
     "metadata": {},
     "output_type": "execute_result"
    }
   ],
   "source": [
    "lead_data[\"Lead Quality\"].value_counts()"
   ]
  },
  {
   "cell_type": "markdown",
   "metadata": {},
   "source": [
    "#### Given Assymetrique scores are given based on activities and the basis of score allocation is not provided we can not impute values here and hence would have to drop these cols"
   ]
  },
  {
   "cell_type": "code",
   "execution_count": 18,
   "metadata": {},
   "outputs": [],
   "source": [
    "lead_data.drop(['Asymmetrique Activity Index', 'Asymmetrique Profile Index',\n",
    "                'Asymmetrique Activity Score', 'Asymmetrique Profile Score'],axis=1,inplace = True)"
   ]
  },
  {
   "cell_type": "code",
   "execution_count": 19,
   "metadata": {},
   "outputs": [
    {
     "data": {
      "text/plain": [
       "Mumbai                         3222\n",
       "Thane & Outskirts               752\n",
       "Other Cities                    686\n",
       "Other Cities of Maharashtra     457\n",
       "Other Metro Cities              380\n",
       "Tier II Cities                   74\n",
       "Name: City, dtype: int64"
      ]
     },
     "execution_count": 19,
     "metadata": {},
     "output_type": "execute_result"
    }
   ],
   "source": [
    "lead_data[\"City\"].value_counts()"
   ]
  },
  {
   "cell_type": "markdown",
   "metadata": {},
   "source": [
    "#### Since null values can not be directly categorized anywhere, we will remove city too"
   ]
  },
  {
   "cell_type": "code",
   "execution_count": 20,
   "metadata": {},
   "outputs": [],
   "source": [
    "lead_data.drop([\"City\"],axis=1,inplace = True)"
   ]
  },
  {
   "cell_type": "code",
   "execution_count": 21,
   "metadata": {},
   "outputs": [
    {
     "data": {
      "text/plain": [
       "Finance Management                   976\n",
       "Human Resource Management            848\n",
       "Marketing Management                 838\n",
       "Operations Management                503\n",
       "Business Administration              403\n",
       "IT Projects Management               366\n",
       "Supply Chain Management              349\n",
       "Banking, Investment And Insurance    338\n",
       "Travel and Tourism                   203\n",
       "Media and Advertising                203\n",
       "International Business               178\n",
       "Healthcare Management                159\n",
       "Hospitality Management               114\n",
       "E-COMMERCE                           112\n",
       "Retail Management                    100\n",
       "Rural and Agribusiness                73\n",
       "E-Business                            57\n",
       "Services Excellence                   40\n",
       "Name: Specialization, dtype: int64"
      ]
     },
     "execution_count": 21,
     "metadata": {},
     "output_type": "execute_result"
    }
   ],
   "source": [
    "lead_data[\"Specialization\"].value_counts()"
   ]
  },
  {
   "cell_type": "markdown",
   "metadata": {},
   "source": [
    "#### Specialization is well distributed and can be utilized for model building, will replace null with not mentioned"
   ]
  },
  {
   "cell_type": "code",
   "execution_count": 22,
   "metadata": {},
   "outputs": [],
   "source": [
    "lead_data[\"Specialization\"].replace(np.nan,\"Not Mentioned\", inplace = True)"
   ]
  },
  {
   "cell_type": "code",
   "execution_count": 23,
   "metadata": {},
   "outputs": [
    {
     "data": {
      "text/plain": [
       "Will revert after reading the email                  2072\n",
       "Ringing                                              1203\n",
       "Interested in other courses                           513\n",
       "Already a student                                     465\n",
       "Closed by Horizzon                                    358\n",
       "switched off                                          240\n",
       "Busy                                                  186\n",
       "Lost to EINS                                          175\n",
       "Not doing further education                           145\n",
       "Interested  in full time MBA                          117\n",
       "Graduation in progress                                111\n",
       "invalid number                                         83\n",
       "Diploma holder (Not Eligible)                          63\n",
       "wrong number given                                     47\n",
       "opp hangup                                             33\n",
       "number not provided                                    27\n",
       "in touch with EINS                                     12\n",
       "Lost to Others                                          7\n",
       "Still Thinking                                          6\n",
       "Want to take admission but has financial problems       6\n",
       "In confusion whether part time or DLP                   5\n",
       "Interested in Next batch                                5\n",
       "Lateral student                                         3\n",
       "Shall take in the next coming month                     2\n",
       "University not recognized                               2\n",
       "Recognition issue (DEC approval)                        1\n",
       "Name: Tags, dtype: int64"
      ]
     },
     "execution_count": 23,
     "metadata": {},
     "output_type": "execute_result"
    }
   ],
   "source": [
    "lead_data[\"Tags\"].value_counts()"
   ]
  },
  {
   "cell_type": "markdown",
   "metadata": {},
   "source": [
    "#### Tags columns seems like an entry based on service support agents purview and is very situation specific, we will remove it"
   ]
  },
  {
   "cell_type": "code",
   "execution_count": 24,
   "metadata": {},
   "outputs": [],
   "source": [
    "lead_data.drop([\"Tags\"],axis=1,inplace = True)"
   ]
  },
  {
   "cell_type": "code",
   "execution_count": 25,
   "metadata": {},
   "outputs": [
    {
     "data": {
      "text/plain": [
       "Better Career Prospects      6528\n",
       "Flexibility & Convenience       2\n",
       "Other                           1\n",
       "Name: What matters most to you in choosing a course, dtype: int64"
      ]
     },
     "execution_count": 25,
     "metadata": {},
     "output_type": "execute_result"
    }
   ],
   "source": [
    "lead_data[\"What matters most to you in choosing a course\"].value_counts()"
   ]
  },
  {
   "cell_type": "markdown",
   "metadata": {},
   "source": [
    "#### Will drop as it is dominated by just one group"
   ]
  },
  {
   "cell_type": "code",
   "execution_count": 26,
   "metadata": {},
   "outputs": [],
   "source": [
    "lead_data.drop([\"What matters most to you in choosing a course\"],axis=1,inplace = True)"
   ]
  },
  {
   "cell_type": "code",
   "execution_count": 27,
   "metadata": {},
   "outputs": [
    {
     "data": {
      "text/plain": [
       "Unemployed              5600\n",
       "Working Professional     706\n",
       "Student                  210\n",
       "Other                     16\n",
       "Housewife                 10\n",
       "Businessman                8\n",
       "Name: What is your current occupation, dtype: int64"
      ]
     },
     "execution_count": 27,
     "metadata": {},
     "output_type": "execute_result"
    }
   ],
   "source": [
    "lead_data[\"What is your current occupation\"].value_counts()"
   ]
  },
  {
   "cell_type": "markdown",
   "metadata": {},
   "source": [
    "#### Will drop as it is dominated by just one group"
   ]
  },
  {
   "cell_type": "code",
   "execution_count": 28,
   "metadata": {},
   "outputs": [],
   "source": [
    "lead_data.drop([\"What is your current occupation\"],axis=1,inplace = True)"
   ]
  },
  {
   "cell_type": "code",
   "execution_count": 29,
   "metadata": {},
   "outputs": [
    {
     "data": {
      "text/plain": [
       "India                   6492\n",
       "United States             69\n",
       "United Arab Emirates      53\n",
       "Singapore                 24\n",
       "Saudi Arabia              21\n",
       "United Kingdom            15\n",
       "Australia                 13\n",
       "Qatar                     10\n",
       "Bahrain                    7\n",
       "Hong Kong                  7\n",
       "Oman                       6\n",
       "France                     6\n",
       "unknown                    5\n",
       "South Africa               4\n",
       "Kuwait                     4\n",
       "Canada                     4\n",
       "Nigeria                    4\n",
       "Germany                    4\n",
       "Sweden                     3\n",
       "Asia/Pacific Region        2\n",
       "Uganda                     2\n",
       "Philippines                2\n",
       "Netherlands                2\n",
       "Italy                      2\n",
       "Bangladesh                 2\n",
       "Belgium                    2\n",
       "Ghana                      2\n",
       "China                      2\n",
       "Tanzania                   1\n",
       "Liberia                    1\n",
       "Kenya                      1\n",
       "Switzerland                1\n",
       "Vietnam                    1\n",
       "Russia                     1\n",
       "Malaysia                   1\n",
       "Indonesia                  1\n",
       "Sri Lanka                  1\n",
       "Denmark                    1\n",
       "Name: Country, dtype: int64"
      ]
     },
     "execution_count": 29,
     "metadata": {},
     "output_type": "execute_result"
    }
   ],
   "source": [
    "lead_data[\"Country\"].value_counts()"
   ]
  },
  {
   "cell_type": "markdown",
   "metadata": {},
   "source": [
    "#### Will drop as dominated by one group"
   ]
  },
  {
   "cell_type": "code",
   "execution_count": 30,
   "metadata": {},
   "outputs": [],
   "source": [
    "lead_data.drop([\"Country\"],axis=1,inplace = True)"
   ]
  },
  {
   "cell_type": "markdown",
   "metadata": {},
   "source": [
    "#### Given the numerical values only have 1% missing values, we will replace them with median "
   ]
  },
  {
   "cell_type": "code",
   "execution_count": 31,
   "metadata": {},
   "outputs": [],
   "source": [
    "TotalVisits_median = lead_data[\"TotalVisits\"].median()"
   ]
  },
  {
   "cell_type": "code",
   "execution_count": 32,
   "metadata": {},
   "outputs": [],
   "source": [
    "lead_data[\"TotalVisits\"].replace(np.nan,TotalVisits_median, inplace = True)"
   ]
  },
  {
   "cell_type": "code",
   "execution_count": 33,
   "metadata": {},
   "outputs": [],
   "source": [
    "PageVisit_median = lead_data[\"Page Views Per Visit\"].median()"
   ]
  },
  {
   "cell_type": "code",
   "execution_count": 34,
   "metadata": {},
   "outputs": [],
   "source": [
    "lead_data[\"Page Views Per Visit\"].replace(np.nan,PageVisit_median, inplace = True)"
   ]
  },
  {
   "cell_type": "code",
   "execution_count": 35,
   "metadata": {},
   "outputs": [
    {
     "data": {
      "text/plain": [
       "Email Opened                    3437\n",
       "SMS Sent                        2745\n",
       "Olark Chat Conversation          973\n",
       "Page Visited on Website          640\n",
       "Converted to Lead                428\n",
       "Email Bounced                    326\n",
       "Email Link Clicked               267\n",
       "Form Submitted on Website        116\n",
       "Unreachable                       93\n",
       "Unsubscribed                      61\n",
       "Had a Phone Conversation          30\n",
       "Approached upfront                 9\n",
       "View in browser link Clicked       6\n",
       "Email Marked Spam                  2\n",
       "Email Received                     2\n",
       "Visited Booth in Tradeshow         1\n",
       "Resubscribed to emails             1\n",
       "Name: Last Activity, dtype: int64"
      ]
     },
     "execution_count": 35,
     "metadata": {},
     "output_type": "execute_result"
    }
   ],
   "source": [
    "lead_data[\"Last Activity\"].value_counts()"
   ]
  },
  {
   "cell_type": "markdown",
   "metadata": {},
   "source": [
    "#### Well distributed values, so we can replace null with not sure"
   ]
  },
  {
   "cell_type": "code",
   "execution_count": 36,
   "metadata": {},
   "outputs": [],
   "source": [
    "lead_data[\"Last Activity\"].replace(np.nan,\"Not Sure\", inplace = True)"
   ]
  },
  {
   "cell_type": "code",
   "execution_count": 37,
   "metadata": {},
   "outputs": [
    {
     "data": {
      "text/plain": [
       "Google               2868\n",
       "Direct Traffic       2543\n",
       "Olark Chat           1755\n",
       "Organic Search       1154\n",
       "Reference             534\n",
       "Welingak Website      142\n",
       "Referral Sites        125\n",
       "Facebook               55\n",
       "bing                    6\n",
       "google                  5\n",
       "Click2call              4\n",
       "Live Chat               2\n",
       "Social Media            2\n",
       "Press_Release           2\n",
       "NC_EDM                  1\n",
       "blog                    1\n",
       "Pay per Click Ads       1\n",
       "welearnblog_Home        1\n",
       "testone                 1\n",
       "youtubechannel          1\n",
       "WeLearn                 1\n",
       "Name: Lead Source, dtype: int64"
      ]
     },
     "execution_count": 37,
     "metadata": {},
     "output_type": "execute_result"
    }
   ],
   "source": [
    "lead_data[\"Lead Source\"].value_counts()"
   ]
  },
  {
   "cell_type": "code",
   "execution_count": 38,
   "metadata": {},
   "outputs": [],
   "source": [
    "#Google is present twice so need to replace it \n",
    "lead_data[\"Lead Source\"].replace(\"google\",\"Google\", inplace = True)"
   ]
  },
  {
   "cell_type": "code",
   "execution_count": 39,
   "metadata": {},
   "outputs": [],
   "source": [
    "lead_data[\"Lead Source\"].replace(np.nan,\"Not Sure\", inplace = True)"
   ]
  },
  {
   "cell_type": "markdown",
   "metadata": {},
   "source": [
    "#### Dropping columns that are just identifiers"
   ]
  },
  {
   "cell_type": "code",
   "execution_count": 40,
   "metadata": {},
   "outputs": [],
   "source": [
    "lead_data = lead_data.drop([\"Prospect ID\",\"Lead Number\"],axis=1)"
   ]
  },
  {
   "cell_type": "code",
   "execution_count": 41,
   "metadata": {},
   "outputs": [
    {
     "data": {
      "text/plain": [
       "Last Notable Activity                       0.0\n",
       "A free copy of Mastering The Interview      0.0\n",
       "Lead Source                                 0.0\n",
       "Do Not Email                                0.0\n",
       "Do Not Call                                 0.0\n",
       "Converted                                   0.0\n",
       "TotalVisits                                 0.0\n",
       "Total Time Spent on Website                 0.0\n",
       "Page Views Per Visit                        0.0\n",
       "Last Activity                               0.0\n",
       "Specialization                              0.0\n",
       "Search                                      0.0\n",
       "Magazine                                    0.0\n",
       "Newspaper Article                           0.0\n",
       "X Education Forums                          0.0\n",
       "Newspaper                                   0.0\n",
       "Digital Advertisement                       0.0\n",
       "Through Recommendations                     0.0\n",
       "Receive More Updates About Our Courses      0.0\n",
       "Lead Quality                                0.0\n",
       "Update me on Supply Chain Content           0.0\n",
       "Get updates on DM Content                   0.0\n",
       "I agree to pay the amount through cheque    0.0\n",
       "Lead Origin                                 0.0\n",
       "dtype: float64"
      ]
     },
     "execution_count": 41,
     "metadata": {},
     "output_type": "execute_result"
    }
   ],
   "source": [
    "# Identifying columns with null values and treat them\n",
    "100*(lead_data.isnull().sum()/lead_data.shape[0]).sort_values(ascending=False)"
   ]
  },
  {
   "cell_type": "markdown",
   "metadata": {},
   "source": [
    "### Before converting datasets into binary and dummy variables, identifying trends in dataset"
   ]
  },
  {
   "cell_type": "code",
   "execution_count": 42,
   "metadata": {},
   "outputs": [
    {
     "data": {
      "image/png": "[encoded data removed]",
      "text/plain": [
       "<Figure size 1080x360 with 1 Axes>"
      ]
     },
     "metadata": {
      "needs_background": "light"
     },
     "output_type": "display_data"
    },
    {
     "data": {
      "image/png": "[encoded data removed]",
      "text/plain": [
       "<Figure size 1080x360 with 1 Axes>"
      ]
     },
     "metadata": {
      "needs_background": "light"
     },
     "output_type": "display_data"
    },
    {
     "data": {
      "image/png": "[encoded data removed]",
      "text/plain": [
       "<Figure size 1080x360 with 1 Axes>"
      ]
     },
     "metadata": {
      "needs_background": "light"
     },
     "output_type": "display_data"
    },
    {
     "data": {
      "image/png": "[encoded data removed]",
      "text/plain": [
       "<Figure size 1080x360 with 1 Axes>"
      ]
     },
     "metadata": {
      "needs_background": "light"
     },
     "output_type": "display_data"
    },
    {
     "data": {
      "image/png": "[encoded data removed]",
      "text/plain": [
       "<Figure size 1080x360 with 1 Axes>"
      ]
     },
     "metadata": {
      "needs_background": "light"
     },
     "output_type": "display_data"
    },
    {
     "data": {
      "image/png": "[encoded data removed]",
      "text/plain": [
       "<Figure size 1080x360 with 1 Axes>"
      ]
     },
     "metadata": {
      "needs_background": "light"
     },
     "output_type": "display_data"
    },
    {
     "data": {
      "image/png": "[encoded data removed]",
      "text/plain": [
       "<Figure size 1080x360 with 1 Axes>"
      ]
     },
     "metadata": {
      "needs_background": "light"
     },
     "output_type": "display_data"
    },
    {
     "data": {
      "image/png": "[encoded data removed]",
      "text/plain": [
       "<Figure size 1080x360 with 1 Axes>"
      ]
     },
     "metadata": {
      "needs_background": "light"
     },
     "output_type": "display_data"
    },
    {
     "data": {
      "image/png": "[encoded data removed]",
      "text/plain": [
       "<Figure size 1080x360 with 1 Axes>"
      ]
     },
     "metadata": {
      "needs_background": "light"
     },
     "output_type": "display_data"
    },
    {
     "data": {
      "image/png": "[encoded data removed]",
      "text/plain": [
       "<Figure size 1080x360 with 1 Axes>"
      ]
     },
     "metadata": {
      "needs_background": "light"
     },
     "output_type": "display_data"
    },
    {
     "data": {
      "image/png": "[encoded data removed]",
      "text/plain": [
       "<Figure size 1080x360 with 1 Axes>"
      ]
     },
     "metadata": {
      "needs_background": "light"
     },
     "output_type": "display_data"
    },
    {
     "data": {
      "image/png": "[encoded data removed]",
      "text/plain": [
       "<Figure size 1080x360 with 1 Axes>"
      ]
     },
     "metadata": {
      "needs_background": "light"
     },
     "output_type": "display_data"
    },
    {
     "data": {
      "image/png": "[encoded data removed]",
      "text/plain": [
       "<Figure size 1080x360 with 1 Axes>"
      ]
     },
     "metadata": {
      "needs_background": "light"
     },
     "output_type": "display_data"
    },
    {
     "data": {
      "image/png": "[encoded data removed]",
      "text/plain": [
       "<Figure size 1080x360 with 1 Axes>"
      ]
     },
     "metadata": {
      "needs_background": "light"
     },
     "output_type": "display_data"
    },
    {
     "data": {
      "image/png": "[encoded data removed]",
      "text/plain": [
       "<Figure size 1080x360 with 1 Axes>"
      ]
     },
     "metadata": {
      "needs_background": "light"
     },
     "output_type": "display_data"
    },
    {
     "data": {
      "image/png": "[encoded data removed]",
      "text/plain": [
       "<Figure size 1080x360 with 1 Axes>"
      ]
     },
     "metadata": {
      "needs_background": "light"
     },
     "output_type": "display_data"
    },
    {
     "data": {
      "image/png": "[encoded data removed]",
      "text/plain": [
       "<Figure size 1080x360 with 1 Axes>"
      ]
     },
     "metadata": {
      "needs_background": "light"
     },
     "output_type": "display_data"
    },
    {
     "data": {
      "image/png": "[encoded data removed]",
      "text/plain": [
       "<Figure size 1080x360 with 1 Axes>"
      ]
     },
     "metadata": {
      "needs_background": "light"
     },
     "output_type": "display_data"
    },
    {
     "data": {
      "image/png": "[encoded data removed]",
      "text/plain": [
       "<Figure size 1080x360 with 1 Axes>"
      ]
     },
     "metadata": {
      "needs_background": "light"
     },
     "output_type": "display_data"
    },
    {
     "data": {
      "image/png": "[encoded data removed]",
      "text/plain": [
       "<Figure size 1080x360 with 1 Axes>"
      ]
     },
     "metadata": {
      "needs_background": "light"
     },
     "output_type": "display_data"
    }
   ],
   "source": [
    "#Visulaizing the cateogarical features against the target feature Converted\n",
    "temp2 = lead_data.select_dtypes(include =\"object\").columns\n",
    "for i in temp2:\n",
    "    \n",
    "    plt.figure(figsize =(15,5))\n",
    "    sns.countplot(lead_data[i], hue=lead_data.Converted)\n",
    "    plt.xticks(rotation = 90)\n",
    "    plt.xlabel(i)\n",
    "    plt.tight_layout()\n",
    "    plt.show()\n",
    "    "
   ]
  },
  {
   "cell_type": "markdown",
   "metadata": {},
   "source": [
    "#### Observation are as follows from EDA\n",
    "#1. SMS sent feature has the highest conversion,Followed by Email Opened,Modified and page visit\n",
    "#2.FREE copy of mastering interview features opted as YES also shows healthy conversion\n",
    "#3.LEAD TO CONVERSION RATIO for these features were noticed to be above 80% \n",
    "    Business adminstration,Media & Advertising,Marketing managment, Insurance & banking,ops managment, health care & hospitality managment\n",
    "#5. LEAD SOURCE feature we observe referals ,Welinkak website have the highest conversion compared to others"
   ]
  },
  {
   "cell_type": "markdown",
   "metadata": {},
   "source": [
    "### Data Processing"
   ]
  },
  {
   "cell_type": "markdown",
   "metadata": {},
   "source": [
    "#### We have a lot of object items that needs to be changed to binary"
   ]
  },
  {
   "cell_type": "code",
   "execution_count": 43,
   "metadata": {},
   "outputs": [
    {
     "data": {
      "text/plain": [
       "['Do Not Email',\n",
       " 'Do Not Call',\n",
       " 'Search',\n",
       " 'Newspaper Article',\n",
       " 'X Education Forums',\n",
       " 'Newspaper',\n",
       " 'Digital Advertisement',\n",
       " 'Through Recommendations',\n",
       " 'A free copy of Mastering The Interview']"
      ]
     },
     "execution_count": 43,
     "metadata": {},
     "output_type": "execute_result"
    }
   ],
   "source": [
    "#identifying the cols with no and yes as values\n",
    "yes_counts = lead_data.apply(lambda col: col.str.count('Yes').sum())\n",
    "columns_with_yes = yes_counts[yes_counts > 0].index.tolist()\n",
    "columns_with_yes"
   ]
  },
  {
   "cell_type": "code",
   "execution_count": 44,
   "metadata": {
    "scrolled": true
   },
   "outputs": [],
   "source": [
    "# Defining the map function\n",
    "def binary_map(x):\n",
    "    return x.map({'Yes': 1, \"No\": 0})\n",
    "\n",
    "# Applying the function to the housing list\n",
    "lead_data[columns_with_yes] = lead_data[columns_with_yes].apply(binary_map)"
   ]
  },
  {
   "cell_type": "code",
   "execution_count": 45,
   "metadata": {},
   "outputs": [
    {
     "data": {
      "text/html": [
       "<div>\n",
       "<style scoped>\n",
       "    .dataframe tbody tr th:only-of-type {\n",
       "        vertical-align: middle;\n",
       "    }\n",
       "\n",
       "    .dataframe tbody tr th {\n",
       "        vertical-align: top;\n",
       "    }\n",
       "\n",
       "    .dataframe thead th {\n",
       "        text-align: right;\n",
       "    }\n",
       "</style>\n",
       "<table border=\"1\" class=\"dataframe\">\n",
       "  <thead>\n",
       "    <tr style=\"text-align: right;\">\n",
       "      <th></th>\n",
       "      <th>Lead Origin</th>\n",
       "      <th>Lead Source</th>\n",
       "      <th>Do Not Email</th>\n",
       "      <th>Do Not Call</th>\n",
       "      <th>Converted</th>\n",
       "      <th>TotalVisits</th>\n",
       "      <th>Total Time Spent on Website</th>\n",
       "      <th>Page Views Per Visit</th>\n",
       "      <th>Last Activity</th>\n",
       "      <th>Specialization</th>\n",
       "      <th>...</th>\n",
       "      <th>Newspaper</th>\n",
       "      <th>Digital Advertisement</th>\n",
       "      <th>Through Recommendations</th>\n",
       "      <th>Receive More Updates About Our Courses</th>\n",
       "      <th>Lead Quality</th>\n",
       "      <th>Update me on Supply Chain Content</th>\n",
       "      <th>Get updates on DM Content</th>\n",
       "      <th>I agree to pay the amount through cheque</th>\n",
       "      <th>A free copy of Mastering The Interview</th>\n",
       "      <th>Last Notable Activity</th>\n",
       "    </tr>\n",
       "  </thead>\n",
       "  <tbody>\n",
       "    <tr>\n",
       "      <td>0</td>\n",
       "      <td>API</td>\n",
       "      <td>Olark Chat</td>\n",
       "      <td>0</td>\n",
       "      <td>0</td>\n",
       "      <td>0</td>\n",
       "      <td>0.0</td>\n",
       "      <td>0</td>\n",
       "      <td>0.0</td>\n",
       "      <td>Page Visited on Website</td>\n",
       "      <td>Not Mentioned</td>\n",
       "      <td>...</td>\n",
       "      <td>0</td>\n",
       "      <td>0</td>\n",
       "      <td>0</td>\n",
       "      <td>No</td>\n",
       "      <td>Low in Relevance</td>\n",
       "      <td>No</td>\n",
       "      <td>No</td>\n",
       "      <td>No</td>\n",
       "      <td>0</td>\n",
       "      <td>Modified</td>\n",
       "    </tr>\n",
       "    <tr>\n",
       "      <td>1</td>\n",
       "      <td>API</td>\n",
       "      <td>Organic Search</td>\n",
       "      <td>0</td>\n",
       "      <td>0</td>\n",
       "      <td>0</td>\n",
       "      <td>5.0</td>\n",
       "      <td>674</td>\n",
       "      <td>2.5</td>\n",
       "      <td>Email Opened</td>\n",
       "      <td>Not Mentioned</td>\n",
       "      <td>...</td>\n",
       "      <td>0</td>\n",
       "      <td>0</td>\n",
       "      <td>0</td>\n",
       "      <td>No</td>\n",
       "      <td>Not Sure</td>\n",
       "      <td>No</td>\n",
       "      <td>No</td>\n",
       "      <td>No</td>\n",
       "      <td>0</td>\n",
       "      <td>Email Opened</td>\n",
       "    </tr>\n",
       "    <tr>\n",
       "      <td>2</td>\n",
       "      <td>Landing Page Submission</td>\n",
       "      <td>Direct Traffic</td>\n",
       "      <td>0</td>\n",
       "      <td>0</td>\n",
       "      <td>1</td>\n",
       "      <td>2.0</td>\n",
       "      <td>1532</td>\n",
       "      <td>2.0</td>\n",
       "      <td>Email Opened</td>\n",
       "      <td>Business Administration</td>\n",
       "      <td>...</td>\n",
       "      <td>0</td>\n",
       "      <td>0</td>\n",
       "      <td>0</td>\n",
       "      <td>No</td>\n",
       "      <td>Might be</td>\n",
       "      <td>No</td>\n",
       "      <td>No</td>\n",
       "      <td>No</td>\n",
       "      <td>1</td>\n",
       "      <td>Email Opened</td>\n",
       "    </tr>\n",
       "    <tr>\n",
       "      <td>3</td>\n",
       "      <td>Landing Page Submission</td>\n",
       "      <td>Direct Traffic</td>\n",
       "      <td>0</td>\n",
       "      <td>0</td>\n",
       "      <td>0</td>\n",
       "      <td>1.0</td>\n",
       "      <td>305</td>\n",
       "      <td>1.0</td>\n",
       "      <td>Unreachable</td>\n",
       "      <td>Media and Advertising</td>\n",
       "      <td>...</td>\n",
       "      <td>0</td>\n",
       "      <td>0</td>\n",
       "      <td>0</td>\n",
       "      <td>No</td>\n",
       "      <td>Not Sure</td>\n",
       "      <td>No</td>\n",
       "      <td>No</td>\n",
       "      <td>No</td>\n",
       "      <td>0</td>\n",
       "      <td>Modified</td>\n",
       "    </tr>\n",
       "    <tr>\n",
       "      <td>4</td>\n",
       "      <td>Landing Page Submission</td>\n",
       "      <td>Google</td>\n",
       "      <td>0</td>\n",
       "      <td>0</td>\n",
       "      <td>1</td>\n",
       "      <td>2.0</td>\n",
       "      <td>1428</td>\n",
       "      <td>1.0</td>\n",
       "      <td>Converted to Lead</td>\n",
       "      <td>Not Mentioned</td>\n",
       "      <td>...</td>\n",
       "      <td>0</td>\n",
       "      <td>0</td>\n",
       "      <td>0</td>\n",
       "      <td>No</td>\n",
       "      <td>Might be</td>\n",
       "      <td>No</td>\n",
       "      <td>No</td>\n",
       "      <td>No</td>\n",
       "      <td>0</td>\n",
       "      <td>Modified</td>\n",
       "    </tr>\n",
       "  </tbody>\n",
       "</table>\n",
       "<p>5 rows × 24 columns</p>\n",
       "</div>"
      ],
      "text/plain": [
       "               Lead Origin     Lead Source  Do Not Email  Do Not Call  \\\n",
       "0                      API      Olark Chat             0            0   \n",
       "1                      API  Organic Search             0            0   \n",
       "2  Landing Page Submission  Direct Traffic             0            0   \n",
       "3  Landing Page Submission  Direct Traffic             0            0   \n",
       "4  Landing Page Submission          Google             0            0   \n",
       "\n",
       "   Converted  TotalVisits  Total Time Spent on Website  Page Views Per Visit  \\\n",
       "0          0          0.0                            0                   0.0   \n",
       "1          0          5.0                          674                   2.5   \n",
       "2          1          2.0                         1532                   2.0   \n",
       "3          0          1.0                          305                   1.0   \n",
       "4          1          2.0                         1428                   1.0   \n",
       "\n",
       "             Last Activity           Specialization  ...  Newspaper  \\\n",
       "0  Page Visited on Website            Not Mentioned  ...          0   \n",
       "1             Email Opened            Not Mentioned  ...          0   \n",
       "2             Email Opened  Business Administration  ...          0   \n",
       "3              Unreachable    Media and Advertising  ...          0   \n",
       "4        Converted to Lead            Not Mentioned  ...          0   \n",
       "\n",
       "  Digital Advertisement  Through Recommendations  \\\n",
       "0                     0                        0   \n",
       "1                     0                        0   \n",
       "2                     0                        0   \n",
       "3                     0                        0   \n",
       "4                     0                        0   \n",
       "\n",
       "   Receive More Updates About Our Courses      Lead Quality  \\\n",
       "0                                      No  Low in Relevance   \n",
       "1                                      No          Not Sure   \n",
       "2                                      No          Might be   \n",
       "3                                      No          Not Sure   \n",
       "4                                      No          Might be   \n",
       "\n",
       "   Update me on Supply Chain Content  Get updates on DM Content  \\\n",
       "0                                 No                         No   \n",
       "1                                 No                         No   \n",
       "2                                 No                         No   \n",
       "3                                 No                         No   \n",
       "4                                 No                         No   \n",
       "\n",
       "  I agree to pay the amount through cheque  \\\n",
       "0                                       No   \n",
       "1                                       No   \n",
       "2                                       No   \n",
       "3                                       No   \n",
       "4                                       No   \n",
       "\n",
       "  A free copy of Mastering The Interview Last Notable Activity  \n",
       "0                                      0              Modified  \n",
       "1                                      0          Email Opened  \n",
       "2                                      1          Email Opened  \n",
       "3                                      0              Modified  \n",
       "4                                      0              Modified  \n",
       "\n",
       "[5 rows x 24 columns]"
      ]
     },
     "execution_count": 45,
     "metadata": {},
     "output_type": "execute_result"
    }
   ],
   "source": [
    "lead_data.head()"
   ]
  },
  {
   "cell_type": "markdown",
   "metadata": {},
   "source": [
    "#### Magazine, Receive More Updates About Our Courses, Update me on Supply Chain Content, Get updates on DM Content, I agree to pay the amount through cheque columns have only No so we will drop these as well "
   ]
  },
  {
   "cell_type": "code",
   "execution_count": 46,
   "metadata": {},
   "outputs": [],
   "source": [
    "lead_data = lead_data.drop([\"Magazine\", \"Receive More Updates About Our Courses\",\n",
    "                            \"Update me on Supply Chain Content\", \"Get updates on DM Content\",\n",
    "                            \"I agree to pay the amount through cheque\"],axis=1)"
   ]
  },
  {
   "cell_type": "code",
   "execution_count": 47,
   "metadata": {},
   "outputs": [
    {
     "data": {
      "text/html": [
       "<div>\n",
       "<style scoped>\n",
       "    .dataframe tbody tr th:only-of-type {\n",
       "        vertical-align: middle;\n",
       "    }\n",
       "\n",
       "    .dataframe tbody tr th {\n",
       "        vertical-align: top;\n",
       "    }\n",
       "\n",
       "    .dataframe thead th {\n",
       "        text-align: right;\n",
       "    }\n",
       "</style>\n",
       "<table border=\"1\" class=\"dataframe\">\n",
       "  <thead>\n",
       "    <tr style=\"text-align: right;\">\n",
       "      <th></th>\n",
       "      <th>Lead Origin</th>\n",
       "      <th>Lead Source</th>\n",
       "      <th>Last Activity</th>\n",
       "      <th>Specialization</th>\n",
       "      <th>Lead Quality</th>\n",
       "      <th>Last Notable Activity</th>\n",
       "    </tr>\n",
       "  </thead>\n",
       "  <tbody>\n",
       "    <tr>\n",
       "      <td>0</td>\n",
       "      <td>API</td>\n",
       "      <td>Olark Chat</td>\n",
       "      <td>Page Visited on Website</td>\n",
       "      <td>Not Mentioned</td>\n",
       "      <td>Low in Relevance</td>\n",
       "      <td>Modified</td>\n",
       "    </tr>\n",
       "    <tr>\n",
       "      <td>1</td>\n",
       "      <td>API</td>\n",
       "      <td>Organic Search</td>\n",
       "      <td>Email Opened</td>\n",
       "      <td>Not Mentioned</td>\n",
       "      <td>Not Sure</td>\n",
       "      <td>Email Opened</td>\n",
       "    </tr>\n",
       "    <tr>\n",
       "      <td>2</td>\n",
       "      <td>Landing Page Submission</td>\n",
       "      <td>Direct Traffic</td>\n",
       "      <td>Email Opened</td>\n",
       "      <td>Business Administration</td>\n",
       "      <td>Might be</td>\n",
       "      <td>Email Opened</td>\n",
       "    </tr>\n",
       "    <tr>\n",
       "      <td>3</td>\n",
       "      <td>Landing Page Submission</td>\n",
       "      <td>Direct Traffic</td>\n",
       "      <td>Unreachable</td>\n",
       "      <td>Media and Advertising</td>\n",
       "      <td>Not Sure</td>\n",
       "      <td>Modified</td>\n",
       "    </tr>\n",
       "    <tr>\n",
       "      <td>4</td>\n",
       "      <td>Landing Page Submission</td>\n",
       "      <td>Google</td>\n",
       "      <td>Converted to Lead</td>\n",
       "      <td>Not Mentioned</td>\n",
       "      <td>Might be</td>\n",
       "      <td>Modified</td>\n",
       "    </tr>\n",
       "    <tr>\n",
       "      <td>...</td>\n",
       "      <td>...</td>\n",
       "      <td>...</td>\n",
       "      <td>...</td>\n",
       "      <td>...</td>\n",
       "      <td>...</td>\n",
       "      <td>...</td>\n",
       "    </tr>\n",
       "    <tr>\n",
       "      <td>9235</td>\n",
       "      <td>Landing Page Submission</td>\n",
       "      <td>Direct Traffic</td>\n",
       "      <td>Email Marked Spam</td>\n",
       "      <td>IT Projects Management</td>\n",
       "      <td>High in Relevance</td>\n",
       "      <td>Email Marked Spam</td>\n",
       "    </tr>\n",
       "    <tr>\n",
       "      <td>9236</td>\n",
       "      <td>Landing Page Submission</td>\n",
       "      <td>Direct Traffic</td>\n",
       "      <td>SMS Sent</td>\n",
       "      <td>Media and Advertising</td>\n",
       "      <td>Might be</td>\n",
       "      <td>SMS Sent</td>\n",
       "    </tr>\n",
       "    <tr>\n",
       "      <td>9237</td>\n",
       "      <td>Landing Page Submission</td>\n",
       "      <td>Direct Traffic</td>\n",
       "      <td>SMS Sent</td>\n",
       "      <td>Business Administration</td>\n",
       "      <td>Not Sure</td>\n",
       "      <td>SMS Sent</td>\n",
       "    </tr>\n",
       "    <tr>\n",
       "      <td>9238</td>\n",
       "      <td>Landing Page Submission</td>\n",
       "      <td>Google</td>\n",
       "      <td>SMS Sent</td>\n",
       "      <td>Human Resource Management</td>\n",
       "      <td>Not Sure</td>\n",
       "      <td>SMS Sent</td>\n",
       "    </tr>\n",
       "    <tr>\n",
       "      <td>9239</td>\n",
       "      <td>Landing Page Submission</td>\n",
       "      <td>Direct Traffic</td>\n",
       "      <td>SMS Sent</td>\n",
       "      <td>Supply Chain Management</td>\n",
       "      <td>Might be</td>\n",
       "      <td>Modified</td>\n",
       "    </tr>\n",
       "  </tbody>\n",
       "</table>\n",
       "<p>9240 rows × 6 columns</p>\n",
       "</div>"
      ],
      "text/plain": [
       "                  Lead Origin     Lead Source            Last Activity  \\\n",
       "0                         API      Olark Chat  Page Visited on Website   \n",
       "1                         API  Organic Search             Email Opened   \n",
       "2     Landing Page Submission  Direct Traffic             Email Opened   \n",
       "3     Landing Page Submission  Direct Traffic              Unreachable   \n",
       "4     Landing Page Submission          Google        Converted to Lead   \n",
       "...                       ...             ...                      ...   \n",
       "9235  Landing Page Submission  Direct Traffic        Email Marked Spam   \n",
       "9236  Landing Page Submission  Direct Traffic                 SMS Sent   \n",
       "9237  Landing Page Submission  Direct Traffic                 SMS Sent   \n",
       "9238  Landing Page Submission          Google                 SMS Sent   \n",
       "9239  Landing Page Submission  Direct Traffic                 SMS Sent   \n",
       "\n",
       "                 Specialization       Lead Quality Last Notable Activity  \n",
       "0                 Not Mentioned   Low in Relevance              Modified  \n",
       "1                 Not Mentioned           Not Sure          Email Opened  \n",
       "2       Business Administration           Might be          Email Opened  \n",
       "3         Media and Advertising           Not Sure              Modified  \n",
       "4                 Not Mentioned           Might be              Modified  \n",
       "...                         ...                ...                   ...  \n",
       "9235     IT Projects Management  High in Relevance     Email Marked Spam  \n",
       "9236      Media and Advertising           Might be              SMS Sent  \n",
       "9237    Business Administration           Not Sure              SMS Sent  \n",
       "9238  Human Resource Management           Not Sure              SMS Sent  \n",
       "9239    Supply Chain Management           Might be              Modified  \n",
       "\n",
       "[9240 rows x 6 columns]"
      ]
     },
     "execution_count": 47,
     "metadata": {},
     "output_type": "execute_result"
    }
   ],
   "source": [
    "dummycols = lead_data.select_dtypes(include = \"object\").columns.tolist()\n",
    "dummycols_df = lead_data[dummycols]\n",
    "dummycols_df"
   ]
  },
  {
   "cell_type": "code",
   "execution_count": 48,
   "metadata": {},
   "outputs": [],
   "source": [
    "def create_dummy_variables(data, columns):\n",
    "    # Initialize an empty DataFrame to store the dummy variables\n",
    "    dummy_df = pd.DataFrame()\n",
    "\n",
    "    for col in columns:\n",
    "        # Create dummy variables using pandas' get_dummies() function\n",
    "        dummy = pd.get_dummies(data[col], prefix=col, drop_first=True)\n",
    "        \n",
    "        # Concatenate the dummy variables to the dummy_df DataFrame\n",
    "        dummy_df = pd.concat([dummy_df, dummy], axis=1)\n",
    "\n",
    "    return pd.concat([data, dummy_df], axis=1)\n"
   ]
  },
  {
   "cell_type": "code",
   "execution_count": 49,
   "metadata": {},
   "outputs": [],
   "source": [
    "dumdf = create_dummy_variables(dummycols_df,dummycols)"
   ]
  },
  {
   "cell_type": "code",
   "execution_count": 50,
   "metadata": {},
   "outputs": [],
   "source": [
    "dumdf.drop(dummycols,axis = 1, inplace=True)"
   ]
  },
  {
   "cell_type": "code",
   "execution_count": 51,
   "metadata": {},
   "outputs": [
    {
     "data": {
      "text/html": [
       "<div>\n",
       "<style scoped>\n",
       "    .dataframe tbody tr th:only-of-type {\n",
       "        vertical-align: middle;\n",
       "    }\n",
       "\n",
       "    .dataframe tbody tr th {\n",
       "        vertical-align: top;\n",
       "    }\n",
       "\n",
       "    .dataframe thead th {\n",
       "        text-align: right;\n",
       "    }\n",
       "</style>\n",
       "<table border=\"1\" class=\"dataframe\">\n",
       "  <thead>\n",
       "    <tr style=\"text-align: right;\">\n",
       "      <th></th>\n",
       "      <th>Lead Origin_Landing Page Submission</th>\n",
       "      <th>Lead Origin_Lead Add Form</th>\n",
       "      <th>Lead Origin_Lead Import</th>\n",
       "      <th>Lead Origin_Quick Add Form</th>\n",
       "      <th>Lead Source_Direct Traffic</th>\n",
       "      <th>Lead Source_Facebook</th>\n",
       "      <th>Lead Source_Google</th>\n",
       "      <th>Lead Source_Live Chat</th>\n",
       "      <th>Lead Source_NC_EDM</th>\n",
       "      <th>Lead Source_Not Sure</th>\n",
       "      <th>...</th>\n",
       "      <th>Last Notable Activity_Form Submitted on Website</th>\n",
       "      <th>Last Notable Activity_Had a Phone Conversation</th>\n",
       "      <th>Last Notable Activity_Modified</th>\n",
       "      <th>Last Notable Activity_Olark Chat Conversation</th>\n",
       "      <th>Last Notable Activity_Page Visited on Website</th>\n",
       "      <th>Last Notable Activity_Resubscribed to emails</th>\n",
       "      <th>Last Notable Activity_SMS Sent</th>\n",
       "      <th>Last Notable Activity_Unreachable</th>\n",
       "      <th>Last Notable Activity_Unsubscribed</th>\n",
       "      <th>Last Notable Activity_View in browser link Clicked</th>\n",
       "    </tr>\n",
       "  </thead>\n",
       "  <tbody>\n",
       "    <tr>\n",
       "      <td>0</td>\n",
       "      <td>0</td>\n",
       "      <td>0</td>\n",
       "      <td>0</td>\n",
       "      <td>0</td>\n",
       "      <td>0</td>\n",
       "      <td>0</td>\n",
       "      <td>0</td>\n",
       "      <td>0</td>\n",
       "      <td>0</td>\n",
       "      <td>0</td>\n",
       "      <td>...</td>\n",
       "      <td>0</td>\n",
       "      <td>0</td>\n",
       "      <td>1</td>\n",
       "      <td>0</td>\n",
       "      <td>0</td>\n",
       "      <td>0</td>\n",
       "      <td>0</td>\n",
       "      <td>0</td>\n",
       "      <td>0</td>\n",
       "      <td>0</td>\n",
       "    </tr>\n",
       "    <tr>\n",
       "      <td>1</td>\n",
       "      <td>0</td>\n",
       "      <td>0</td>\n",
       "      <td>0</td>\n",
       "      <td>0</td>\n",
       "      <td>0</td>\n",
       "      <td>0</td>\n",
       "      <td>0</td>\n",
       "      <td>0</td>\n",
       "      <td>0</td>\n",
       "      <td>0</td>\n",
       "      <td>...</td>\n",
       "      <td>0</td>\n",
       "      <td>0</td>\n",
       "      <td>0</td>\n",
       "      <td>0</td>\n",
       "      <td>0</td>\n",
       "      <td>0</td>\n",
       "      <td>0</td>\n",
       "      <td>0</td>\n",
       "      <td>0</td>\n",
       "      <td>0</td>\n",
       "    </tr>\n",
       "    <tr>\n",
       "      <td>2</td>\n",
       "      <td>1</td>\n",
       "      <td>0</td>\n",
       "      <td>0</td>\n",
       "      <td>0</td>\n",
       "      <td>1</td>\n",
       "      <td>0</td>\n",
       "      <td>0</td>\n",
       "      <td>0</td>\n",
       "      <td>0</td>\n",
       "      <td>0</td>\n",
       "      <td>...</td>\n",
       "      <td>0</td>\n",
       "      <td>0</td>\n",
       "      <td>0</td>\n",
       "      <td>0</td>\n",
       "      <td>0</td>\n",
       "      <td>0</td>\n",
       "      <td>0</td>\n",
       "      <td>0</td>\n",
       "      <td>0</td>\n",
       "      <td>0</td>\n",
       "    </tr>\n",
       "    <tr>\n",
       "      <td>3</td>\n",
       "      <td>1</td>\n",
       "      <td>0</td>\n",
       "      <td>0</td>\n",
       "      <td>0</td>\n",
       "      <td>1</td>\n",
       "      <td>0</td>\n",
       "      <td>0</td>\n",
       "      <td>0</td>\n",
       "      <td>0</td>\n",
       "      <td>0</td>\n",
       "      <td>...</td>\n",
       "      <td>0</td>\n",
       "      <td>0</td>\n",
       "      <td>1</td>\n",
       "      <td>0</td>\n",
       "      <td>0</td>\n",
       "      <td>0</td>\n",
       "      <td>0</td>\n",
       "      <td>0</td>\n",
       "      <td>0</td>\n",
       "      <td>0</td>\n",
       "    </tr>\n",
       "    <tr>\n",
       "      <td>4</td>\n",
       "      <td>1</td>\n",
       "      <td>0</td>\n",
       "      <td>0</td>\n",
       "      <td>0</td>\n",
       "      <td>0</td>\n",
       "      <td>0</td>\n",
       "      <td>1</td>\n",
       "      <td>0</td>\n",
       "      <td>0</td>\n",
       "      <td>0</td>\n",
       "      <td>...</td>\n",
       "      <td>0</td>\n",
       "      <td>0</td>\n",
       "      <td>1</td>\n",
       "      <td>0</td>\n",
       "      <td>0</td>\n",
       "      <td>0</td>\n",
       "      <td>0</td>\n",
       "      <td>0</td>\n",
       "      <td>0</td>\n",
       "      <td>0</td>\n",
       "    </tr>\n",
       "  </tbody>\n",
       "</table>\n",
       "<p>5 rows × 78 columns</p>\n",
       "</div>"
      ],
      "text/plain": [
       "   Lead Origin_Landing Page Submission  Lead Origin_Lead Add Form  \\\n",
       "0                                    0                          0   \n",
       "1                                    0                          0   \n",
       "2                                    1                          0   \n",
       "3                                    1                          0   \n",
       "4                                    1                          0   \n",
       "\n",
       "   Lead Origin_Lead Import  Lead Origin_Quick Add Form  \\\n",
       "0                        0                           0   \n",
       "1                        0                           0   \n",
       "2                        0                           0   \n",
       "3                        0                           0   \n",
       "4                        0                           0   \n",
       "\n",
       "   Lead Source_Direct Traffic  Lead Source_Facebook  Lead Source_Google  \\\n",
       "0                           0                     0                   0   \n",
       "1                           0                     0                   0   \n",
       "2                           1                     0                   0   \n",
       "3                           1                     0                   0   \n",
       "4                           0                     0                   1   \n",
       "\n",
       "   Lead Source_Live Chat  Lead Source_NC_EDM  Lead Source_Not Sure  ...  \\\n",
       "0                      0                   0                     0  ...   \n",
       "1                      0                   0                     0  ...   \n",
       "2                      0                   0                     0  ...   \n",
       "3                      0                   0                     0  ...   \n",
       "4                      0                   0                     0  ...   \n",
       "\n",
       "   Last Notable Activity_Form Submitted on Website  \\\n",
       "0                                                0   \n",
       "1                                                0   \n",
       "2                                                0   \n",
       "3                                                0   \n",
       "4                                                0   \n",
       "\n",
       "   Last Notable Activity_Had a Phone Conversation  \\\n",
       "0                                               0   \n",
       "1                                               0   \n",
       "2                                               0   \n",
       "3                                               0   \n",
       "4                                               0   \n",
       "\n",
       "   Last Notable Activity_Modified  \\\n",
       "0                               1   \n",
       "1                               0   \n",
       "2                               0   \n",
       "3                               1   \n",
       "4                               1   \n",
       "\n",
       "   Last Notable Activity_Olark Chat Conversation  \\\n",
       "0                                              0   \n",
       "1                                              0   \n",
       "2                                              0   \n",
       "3                                              0   \n",
       "4                                              0   \n",
       "\n",
       "   Last Notable Activity_Page Visited on Website  \\\n",
       "0                                              0   \n",
       "1                                              0   \n",
       "2                                              0   \n",
       "3                                              0   \n",
       "4                                              0   \n",
       "\n",
       "   Last Notable Activity_Resubscribed to emails  \\\n",
       "0                                             0   \n",
       "1                                             0   \n",
       "2                                             0   \n",
       "3                                             0   \n",
       "4                                             0   \n",
       "\n",
       "   Last Notable Activity_SMS Sent  Last Notable Activity_Unreachable  \\\n",
       "0                               0                                  0   \n",
       "1                               0                                  0   \n",
       "2                               0                                  0   \n",
       "3                               0                                  0   \n",
       "4                               0                                  0   \n",
       "\n",
       "   Last Notable Activity_Unsubscribed  \\\n",
       "0                                   0   \n",
       "1                                   0   \n",
       "2                                   0   \n",
       "3                                   0   \n",
       "4                                   0   \n",
       "\n",
       "   Last Notable Activity_View in browser link Clicked  \n",
       "0                                                  0   \n",
       "1                                                  0   \n",
       "2                                                  0   \n",
       "3                                                  0   \n",
       "4                                                  0   \n",
       "\n",
       "[5 rows x 78 columns]"
      ]
     },
     "execution_count": 51,
     "metadata": {},
     "output_type": "execute_result"
    }
   ],
   "source": [
    "dumdf.head()"
   ]
  },
  {
   "cell_type": "markdown",
   "metadata": {},
   "source": [
    "#### Merging datasets"
   ]
  },
  {
   "cell_type": "code",
   "execution_count": 52,
   "metadata": {},
   "outputs": [],
   "source": [
    "lead_data = pd.concat([lead_data,dumdf],axis=1)"
   ]
  },
  {
   "cell_type": "code",
   "execution_count": 53,
   "metadata": {},
   "outputs": [
    {
     "data": {
      "text/plain": [
       "(9240, 97)"
      ]
     },
     "execution_count": 53,
     "metadata": {},
     "output_type": "execute_result"
    }
   ],
   "source": [
    "lead_data.shape"
   ]
  },
  {
   "cell_type": "code",
   "execution_count": 54,
   "metadata": {},
   "outputs": [],
   "source": [
    "lead_data.drop(dummycols,axis = 1, inplace=True)"
   ]
  },
  {
   "cell_type": "code",
   "execution_count": 55,
   "metadata": {},
   "outputs": [
    {
     "data": {
      "text/plain": [
       "(9240, 91)"
      ]
     },
     "execution_count": 55,
     "metadata": {},
     "output_type": "execute_result"
    }
   ],
   "source": [
    "lead_data.shape"
   ]
  },
  {
   "cell_type": "markdown",
   "metadata": {},
   "source": [
    "#### Identifying Outliers"
   ]
  },
  {
   "cell_type": "code",
   "execution_count": 56,
   "metadata": {},
   "outputs": [],
   "source": [
    "num_cols = valid_numeric_cols = [col for col in lead_data.select_dtypes(include=['int64', 'float64']).columns if lead_data[col].nunique() > 2]\n"
   ]
  },
  {
   "cell_type": "code",
   "execution_count": 57,
   "metadata": {},
   "outputs": [
    {
     "data": {
      "text/plain": [
       "['TotalVisits', 'Total Time Spent on Website', 'Page Views Per Visit']"
      ]
     },
     "execution_count": 57,
     "metadata": {},
     "output_type": "execute_result"
    }
   ],
   "source": [
    "num_cols"
   ]
  },
  {
   "cell_type": "code",
   "execution_count": 58,
   "metadata": {},
   "outputs": [],
   "source": [
    "def create_box_plots(data, columns):\n",
    "    for col in columns:\n",
    "        fig, ax = plt.subplots(figsize=(6, 4))\n",
    "        data.boxplot(column=col, ax=ax)\n",
    "        ax.set_title(f\"Box Plot of {col}\")\n",
    "        plt.show()"
   ]
  },
  {
   "cell_type": "code",
   "execution_count": 59,
   "metadata": {},
   "outputs": [
    {
     "data": {
      "image/png": "[encoded data removed]",
      "text/plain": [
       "<Figure size 432x288 with 1 Axes>"
      ]
     },
     "metadata": {
      "needs_background": "light"
     },
     "output_type": "display_data"
    },
    {
     "data": {
      "image/png": "[encoded data removed]",
      "text/plain": [
       "<Figure size 432x288 with 1 Axes>"
      ]
     },
     "metadata": {
      "needs_background": "light"
     },
     "output_type": "display_data"
    },
    {
     "data": {
      "image/png": "[encoded data removed]",
      "text/plain": [
       "<Figure size 432x288 with 1 Axes>"
      ]
     },
     "metadata": {
      "needs_background": "light"
     },
     "output_type": "display_data"
    }
   ],
   "source": [
    "create_box_plots(lead_data,num_cols)"
   ]
  },
  {
   "cell_type": "code",
   "execution_count": 60,
   "metadata": {},
   "outputs": [
    {
     "data": {
      "text/html": [
       "<div>\n",
       "<style scoped>\n",
       "    .dataframe tbody tr th:only-of-type {\n",
       "        vertical-align: middle;\n",
       "    }\n",
       "\n",
       "    .dataframe tbody tr th {\n",
       "        vertical-align: top;\n",
       "    }\n",
       "\n",
       "    .dataframe thead th {\n",
       "        text-align: right;\n",
       "    }\n",
       "</style>\n",
       "<table border=\"1\" class=\"dataframe\">\n",
       "  <thead>\n",
       "    <tr style=\"text-align: right;\">\n",
       "      <th></th>\n",
       "      <th>TotalVisits</th>\n",
       "      <th>Total Time Spent on Website</th>\n",
       "      <th>Page Views Per Visit</th>\n",
       "    </tr>\n",
       "  </thead>\n",
       "  <tbody>\n",
       "    <tr>\n",
       "      <td>count</td>\n",
       "      <td>9240.000000</td>\n",
       "      <td>9240.000000</td>\n",
       "      <td>9240.000000</td>\n",
       "    </tr>\n",
       "    <tr>\n",
       "      <td>mean</td>\n",
       "      <td>3.438636</td>\n",
       "      <td>487.698268</td>\n",
       "      <td>2.357440</td>\n",
       "    </tr>\n",
       "    <tr>\n",
       "      <td>std</td>\n",
       "      <td>4.819024</td>\n",
       "      <td>548.021466</td>\n",
       "      <td>2.145781</td>\n",
       "    </tr>\n",
       "    <tr>\n",
       "      <td>min</td>\n",
       "      <td>0.000000</td>\n",
       "      <td>0.000000</td>\n",
       "      <td>0.000000</td>\n",
       "    </tr>\n",
       "    <tr>\n",
       "      <td>25%</td>\n",
       "      <td>1.000000</td>\n",
       "      <td>12.000000</td>\n",
       "      <td>1.000000</td>\n",
       "    </tr>\n",
       "    <tr>\n",
       "      <td>50%</td>\n",
       "      <td>3.000000</td>\n",
       "      <td>248.000000</td>\n",
       "      <td>2.000000</td>\n",
       "    </tr>\n",
       "    <tr>\n",
       "      <td>75%</td>\n",
       "      <td>5.000000</td>\n",
       "      <td>936.000000</td>\n",
       "      <td>3.000000</td>\n",
       "    </tr>\n",
       "    <tr>\n",
       "      <td>90%</td>\n",
       "      <td>7.000000</td>\n",
       "      <td>1380.000000</td>\n",
       "      <td>5.000000</td>\n",
       "    </tr>\n",
       "    <tr>\n",
       "      <td>95%</td>\n",
       "      <td>10.000000</td>\n",
       "      <td>1562.000000</td>\n",
       "      <td>6.000000</td>\n",
       "    </tr>\n",
       "    <tr>\n",
       "      <td>99%</td>\n",
       "      <td>17.000000</td>\n",
       "      <td>1840.610000</td>\n",
       "      <td>9.000000</td>\n",
       "    </tr>\n",
       "    <tr>\n",
       "      <td>max</td>\n",
       "      <td>251.000000</td>\n",
       "      <td>2272.000000</td>\n",
       "      <td>55.000000</td>\n",
       "    </tr>\n",
       "  </tbody>\n",
       "</table>\n",
       "</div>"
      ],
      "text/plain": [
       "       TotalVisits  Total Time Spent on Website  Page Views Per Visit\n",
       "count  9240.000000                  9240.000000           9240.000000\n",
       "mean      3.438636                   487.698268              2.357440\n",
       "std       4.819024                   548.021466              2.145781\n",
       "min       0.000000                     0.000000              0.000000\n",
       "25%       1.000000                    12.000000              1.000000\n",
       "50%       3.000000                   248.000000              2.000000\n",
       "75%       5.000000                   936.000000              3.000000\n",
       "90%       7.000000                  1380.000000              5.000000\n",
       "95%      10.000000                  1562.000000              6.000000\n",
       "99%      17.000000                  1840.610000              9.000000\n",
       "max     251.000000                  2272.000000             55.000000"
      ]
     },
     "execution_count": 60,
     "metadata": {},
     "output_type": "execute_result"
    }
   ],
   "source": [
    "lead_data[num_cols].describe(percentiles=[.25,.5,.75,.90,.95,.99])"
   ]
  },
  {
   "cell_type": "markdown",
   "metadata": {},
   "source": [
    "#### Based on the 99% figures we can see that it can be used to remove outliers"
   ]
  },
  {
   "cell_type": "code",
   "execution_count": 61,
   "metadata": {},
   "outputs": [],
   "source": [
    "#Removing values higher than 99 percentile\n",
    "def drop_outliers_by_99percentile(data, columns):\n",
    "    for col in columns:\n",
    "        percentile_99 = data[col].quantile(0.99)\n",
    "        data = data[data[col] <= percentile_99]\n",
    "\n",
    "    return data"
   ]
  },
  {
   "cell_type": "code",
   "execution_count": 62,
   "metadata": {},
   "outputs": [],
   "source": [
    "lead_data = drop_outliers_by_99percentile(lead_data,num_cols)"
   ]
  },
  {
   "cell_type": "code",
   "execution_count": 63,
   "metadata": {},
   "outputs": [
    {
     "data": {
      "text/plain": [
       "(8998, 91)"
      ]
     },
     "execution_count": 63,
     "metadata": {},
     "output_type": "execute_result"
    }
   ],
   "source": [
    "lead_data.shape"
   ]
  },
  {
   "cell_type": "code",
   "execution_count": 64,
   "metadata": {},
   "outputs": [
    {
     "data": {
      "image/png": "[encoded data removed]",
      "text/plain": [
       "<Figure size 432x288 with 2 Axes>"
      ]
     },
     "metadata": {
      "needs_background": "light"
     },
     "output_type": "display_data"
    }
   ],
   "source": [
    "#Identifying correlations between num_cols\n",
    "sns.heatmap(lead_data[num_cols].corr(),annot=True,cmap=\"BrBG\")\n",
    "plt.show()"
   ]
  },
  {
   "cell_type": "markdown",
   "metadata": {},
   "source": [
    "#### Page Views Per Visit and Total Visits have a high correlation and we might have to drop one from the model "
   ]
  },
  {
   "cell_type": "markdown",
   "metadata": {},
   "source": [
    "### Building Model"
   ]
  },
  {
   "cell_type": "code",
   "execution_count": 65,
   "metadata": {},
   "outputs": [],
   "source": [
    "from sklearn.model_selection import train_test_split"
   ]
  },
  {
   "cell_type": "code",
   "execution_count": 66,
   "metadata": {},
   "outputs": [
    {
     "data": {
      "text/plain": [
       "91"
      ]
     },
     "execution_count": 66,
     "metadata": {},
     "output_type": "execute_result"
    }
   ],
   "source": [
    "#Count of columns in the final dataset\n",
    "len(lead_data.columns.tolist())"
   ]
  },
  {
   "cell_type": "code",
   "execution_count": 67,
   "metadata": {},
   "outputs": [],
   "source": [
    "#Defining the y variable\n",
    "y = lead_data[\"Converted\"]"
   ]
  },
  {
   "cell_type": "code",
   "execution_count": 68,
   "metadata": {},
   "outputs": [],
   "source": [
    "# Putting feature variable to X\n",
    "X = lead_data.drop(\"Converted\",axis =1)"
   ]
  },
  {
   "cell_type": "code",
   "execution_count": 69,
   "metadata": {},
   "outputs": [],
   "source": [
    "# Splitting the data into train and test\n",
    "X_train, X_test, y_train, y_test = train_test_split(X, y, train_size=0.7, test_size=0.3, random_state=100)"
   ]
  },
  {
   "cell_type": "code",
   "execution_count": 70,
   "metadata": {},
   "outputs": [],
   "source": [
    "from sklearn.preprocessing import MinMaxScaler"
   ]
  },
  {
   "cell_type": "code",
   "execution_count": 71,
   "metadata": {},
   "outputs": [
    {
     "data": {
      "text/html": [
       "<div>\n",
       "<style scoped>\n",
       "    .dataframe tbody tr th:only-of-type {\n",
       "        vertical-align: middle;\n",
       "    }\n",
       "\n",
       "    .dataframe tbody tr th {\n",
       "        vertical-align: top;\n",
       "    }\n",
       "\n",
       "    .dataframe thead th {\n",
       "        text-align: right;\n",
       "    }\n",
       "</style>\n",
       "<table border=\"1\" class=\"dataframe\">\n",
       "  <thead>\n",
       "    <tr style=\"text-align: right;\">\n",
       "      <th></th>\n",
       "      <th>Do Not Email</th>\n",
       "      <th>Do Not Call</th>\n",
       "      <th>TotalVisits</th>\n",
       "      <th>Total Time Spent on Website</th>\n",
       "      <th>Page Views Per Visit</th>\n",
       "      <th>Search</th>\n",
       "      <th>Newspaper Article</th>\n",
       "      <th>X Education Forums</th>\n",
       "      <th>Newspaper</th>\n",
       "      <th>Digital Advertisement</th>\n",
       "      <th>...</th>\n",
       "      <th>Last Notable Activity_Form Submitted on Website</th>\n",
       "      <th>Last Notable Activity_Had a Phone Conversation</th>\n",
       "      <th>Last Notable Activity_Modified</th>\n",
       "      <th>Last Notable Activity_Olark Chat Conversation</th>\n",
       "      <th>Last Notable Activity_Page Visited on Website</th>\n",
       "      <th>Last Notable Activity_Resubscribed to emails</th>\n",
       "      <th>Last Notable Activity_SMS Sent</th>\n",
       "      <th>Last Notable Activity_Unreachable</th>\n",
       "      <th>Last Notable Activity_Unsubscribed</th>\n",
       "      <th>Last Notable Activity_View in browser link Clicked</th>\n",
       "    </tr>\n",
       "  </thead>\n",
       "  <tbody>\n",
       "    <tr>\n",
       "      <td>4714</td>\n",
       "      <td>0</td>\n",
       "      <td>0</td>\n",
       "      <td>0.000000</td>\n",
       "      <td>0.000000</td>\n",
       "      <td>0.000000</td>\n",
       "      <td>0</td>\n",
       "      <td>0</td>\n",
       "      <td>0</td>\n",
       "      <td>0</td>\n",
       "      <td>0</td>\n",
       "      <td>...</td>\n",
       "      <td>0</td>\n",
       "      <td>0</td>\n",
       "      <td>1</td>\n",
       "      <td>0</td>\n",
       "      <td>0</td>\n",
       "      <td>0</td>\n",
       "      <td>0</td>\n",
       "      <td>0</td>\n",
       "      <td>0</td>\n",
       "      <td>0</td>\n",
       "    </tr>\n",
       "    <tr>\n",
       "      <td>5794</td>\n",
       "      <td>0</td>\n",
       "      <td>0</td>\n",
       "      <td>0.000000</td>\n",
       "      <td>0.000000</td>\n",
       "      <td>0.000000</td>\n",
       "      <td>0</td>\n",
       "      <td>0</td>\n",
       "      <td>0</td>\n",
       "      <td>0</td>\n",
       "      <td>0</td>\n",
       "      <td>...</td>\n",
       "      <td>0</td>\n",
       "      <td>0</td>\n",
       "      <td>0</td>\n",
       "      <td>0</td>\n",
       "      <td>0</td>\n",
       "      <td>0</td>\n",
       "      <td>1</td>\n",
       "      <td>0</td>\n",
       "      <td>0</td>\n",
       "      <td>0</td>\n",
       "    </tr>\n",
       "    <tr>\n",
       "      <td>876</td>\n",
       "      <td>0</td>\n",
       "      <td>0</td>\n",
       "      <td>0.000000</td>\n",
       "      <td>0.000000</td>\n",
       "      <td>0.000000</td>\n",
       "      <td>0</td>\n",
       "      <td>0</td>\n",
       "      <td>0</td>\n",
       "      <td>0</td>\n",
       "      <td>0</td>\n",
       "      <td>...</td>\n",
       "      <td>0</td>\n",
       "      <td>0</td>\n",
       "      <td>1</td>\n",
       "      <td>0</td>\n",
       "      <td>0</td>\n",
       "      <td>0</td>\n",
       "      <td>0</td>\n",
       "      <td>0</td>\n",
       "      <td>0</td>\n",
       "      <td>0</td>\n",
       "    </tr>\n",
       "    <tr>\n",
       "      <td>7767</td>\n",
       "      <td>0</td>\n",
       "      <td>0</td>\n",
       "      <td>0.764706</td>\n",
       "      <td>0.460033</td>\n",
       "      <td>0.181111</td>\n",
       "      <td>0</td>\n",
       "      <td>0</td>\n",
       "      <td>0</td>\n",
       "      <td>0</td>\n",
       "      <td>0</td>\n",
       "      <td>...</td>\n",
       "      <td>0</td>\n",
       "      <td>0</td>\n",
       "      <td>0</td>\n",
       "      <td>0</td>\n",
       "      <td>1</td>\n",
       "      <td>0</td>\n",
       "      <td>0</td>\n",
       "      <td>0</td>\n",
       "      <td>0</td>\n",
       "      <td>0</td>\n",
       "    </tr>\n",
       "    <tr>\n",
       "      <td>7895</td>\n",
       "      <td>0</td>\n",
       "      <td>0</td>\n",
       "      <td>0.117647</td>\n",
       "      <td>0.603589</td>\n",
       "      <td>0.222222</td>\n",
       "      <td>0</td>\n",
       "      <td>0</td>\n",
       "      <td>0</td>\n",
       "      <td>0</td>\n",
       "      <td>0</td>\n",
       "      <td>...</td>\n",
       "      <td>0</td>\n",
       "      <td>0</td>\n",
       "      <td>1</td>\n",
       "      <td>0</td>\n",
       "      <td>0</td>\n",
       "      <td>0</td>\n",
       "      <td>0</td>\n",
       "      <td>0</td>\n",
       "      <td>0</td>\n",
       "      <td>0</td>\n",
       "    </tr>\n",
       "  </tbody>\n",
       "</table>\n",
       "<p>5 rows × 90 columns</p>\n",
       "</div>"
      ],
      "text/plain": [
       "      Do Not Email  Do Not Call  TotalVisits  Total Time Spent on Website  \\\n",
       "4714             0            0     0.000000                     0.000000   \n",
       "5794             0            0     0.000000                     0.000000   \n",
       "876              0            0     0.000000                     0.000000   \n",
       "7767             0            0     0.764706                     0.460033   \n",
       "7895             0            0     0.117647                     0.603589   \n",
       "\n",
       "      Page Views Per Visit  Search  Newspaper Article  X Education Forums  \\\n",
       "4714              0.000000       0                  0                   0   \n",
       "5794              0.000000       0                  0                   0   \n",
       "876               0.000000       0                  0                   0   \n",
       "7767              0.181111       0                  0                   0   \n",
       "7895              0.222222       0                  0                   0   \n",
       "\n",
       "      Newspaper  Digital Advertisement  ...  \\\n",
       "4714          0                      0  ...   \n",
       "5794          0                      0  ...   \n",
       "876           0                      0  ...   \n",
       "7767          0                      0  ...   \n",
       "7895          0                      0  ...   \n",
       "\n",
       "      Last Notable Activity_Form Submitted on Website  \\\n",
       "4714                                                0   \n",
       "5794                                                0   \n",
       "876                                                 0   \n",
       "7767                                                0   \n",
       "7895                                                0   \n",
       "\n",
       "      Last Notable Activity_Had a Phone Conversation  \\\n",
       "4714                                               0   \n",
       "5794                                               0   \n",
       "876                                                0   \n",
       "7767                                               0   \n",
       "7895                                               0   \n",
       "\n",
       "      Last Notable Activity_Modified  \\\n",
       "4714                               1   \n",
       "5794                               0   \n",
       "876                                1   \n",
       "7767                               0   \n",
       "7895                               1   \n",
       "\n",
       "      Last Notable Activity_Olark Chat Conversation  \\\n",
       "4714                                              0   \n",
       "5794                                              0   \n",
       "876                                               0   \n",
       "7767                                              0   \n",
       "7895                                              0   \n",
       "\n",
       "      Last Notable Activity_Page Visited on Website  \\\n",
       "4714                                              0   \n",
       "5794                                              0   \n",
       "876                                               0   \n",
       "7767                                              1   \n",
       "7895                                              0   \n",
       "\n",
       "      Last Notable Activity_Resubscribed to emails  \\\n",
       "4714                                             0   \n",
       "5794                                             0   \n",
       "876                                              0   \n",
       "7767                                             0   \n",
       "7895                                             0   \n",
       "\n",
       "      Last Notable Activity_SMS Sent  Last Notable Activity_Unreachable  \\\n",
       "4714                               0                                  0   \n",
       "5794                               1                                  0   \n",
       "876                                0                                  0   \n",
       "7767                               0                                  0   \n",
       "7895                               0                                  0   \n",
       "\n",
       "      Last Notable Activity_Unsubscribed  \\\n",
       "4714                                   0   \n",
       "5794                                   0   \n",
       "876                                    0   \n",
       "7767                                   0   \n",
       "7895                                   0   \n",
       "\n",
       "      Last Notable Activity_View in browser link Clicked  \n",
       "4714                                                  0   \n",
       "5794                                                  0   \n",
       "876                                                   0   \n",
       "7767                                                  0   \n",
       "7895                                                  0   \n",
       "\n",
       "[5 rows x 90 columns]"
      ]
     },
     "execution_count": 71,
     "metadata": {},
     "output_type": "execute_result"
    }
   ],
   "source": [
    "#Scaling numeric variables\n",
    "scaler = MinMaxScaler()\n",
    "\n",
    "X_train[num_cols] = scaler.fit_transform(X_train[num_cols])\n",
    "\n",
    "X_train.head()"
   ]
  },
  {
   "cell_type": "code",
   "execution_count": 72,
   "metadata": {},
   "outputs": [],
   "source": [
    "from sklearn.linear_model import LogisticRegression\n",
    "logreg = LogisticRegression()"
   ]
  },
  {
   "cell_type": "markdown",
   "metadata": {},
   "source": [
    "#### Automatic variable selection using RFE"
   ]
  },
  {
   "cell_type": "code",
   "execution_count": 73,
   "metadata": {},
   "outputs": [],
   "source": [
    "from sklearn.feature_selection import RFE\n",
    "rfe = RFE(logreg, 20)             # running RFE with 20 variables as output\n",
    "rfe = rfe.fit(X_train, y_train)"
   ]
  },
  {
   "cell_type": "code",
   "execution_count": 74,
   "metadata": {},
   "outputs": [
    {
     "data": {
      "text/plain": [
       "[('Do Not Email', True, 1),\n",
       " ('Do Not Call', False, 20),\n",
       " ('TotalVisits', True, 1),\n",
       " ('Total Time Spent on Website', True, 1),\n",
       " ('Page Views Per Visit', True, 1),\n",
       " ('Search', False, 24),\n",
       " ('Newspaper Article', False, 64),\n",
       " ('X Education Forums', False, 63),\n",
       " ('Newspaper', True, 1),\n",
       " ('Digital Advertisement', False, 52),\n",
       " ('Through Recommendations', True, 1),\n",
       " ('A free copy of Mastering The Interview', False, 51),\n",
       " ('Lead Origin_Landing Page Submission', False, 15),\n",
       " ('Lead Origin_Lead Add Form', True, 1),\n",
       " ('Lead Origin_Lead Import', False, 19),\n",
       " ('Lead Origin_Quick Add Form', False, 62),\n",
       " ('Lead Source_Direct Traffic', False, 9),\n",
       " ('Lead Source_Facebook', False, 12),\n",
       " ('Lead Source_Google', False, 11),\n",
       " ('Lead Source_Live Chat', False, 34),\n",
       " ('Lead Source_NC_EDM', False, 69),\n",
       " ('Lead Source_Not Sure', True, 1),\n",
       " ('Lead Source_Olark Chat', True, 1),\n",
       " ('Lead Source_Organic Search', False, 10),\n",
       " ('Lead Source_Pay per Click Ads', False, 68),\n",
       " ('Lead Source_Press_Release', False, 60),\n",
       " ('Lead Source_Reference', False, 16),\n",
       " ('Lead Source_Referral Sites', False, 13),\n",
       " ('Lead Source_Social Media', False, 23),\n",
       " ('Lead Source_WeLearn', False, 66),\n",
       " ('Lead Source_Welingak Website', True, 1),\n",
       " ('Lead Source_bing', False, 57),\n",
       " ('Lead Source_blog', False, 31),\n",
       " ('Lead Source_testone', False, 58),\n",
       " ('Lead Source_welearnblog_Home', False, 39),\n",
       " ('Lead Source_youtubechannel', False, 45),\n",
       " ('Last Activity_Converted to Lead', False, 59),\n",
       " ('Last Activity_Email Bounced', False, 50),\n",
       " ('Last Activity_Email Link Clicked', False, 21),\n",
       " ('Last Activity_Email Marked Spam', False, 14),\n",
       " ('Last Activity_Email Opened', False, 2),\n",
       " ('Last Activity_Email Received', False, 29),\n",
       " ('Last Activity_Form Submitted on Website', False, 35),\n",
       " ('Last Activity_Had a Phone Conversation', False, 8),\n",
       " ('Last Activity_Not Sure', True, 1),\n",
       " ('Last Activity_Olark Chat Conversation', True, 1),\n",
       " ('Last Activity_Page Visited on Website', False, 41),\n",
       " ('Last Activity_Resubscribed to emails', False, 67),\n",
       " ('Last Activity_SMS Sent', True, 1),\n",
       " ('Last Activity_Unreachable', False, 47),\n",
       " ('Last Activity_Unsubscribed', False, 43),\n",
       " ('Last Activity_View in browser link Clicked', True, 1),\n",
       " ('Last Activity_Visited Booth in Tradeshow', False, 33),\n",
       " ('Specialization_Business Administration', False, 37),\n",
       " ('Specialization_E-Business', False, 36),\n",
       " ('Specialization_E-COMMERCE', False, 7),\n",
       " ('Specialization_Finance Management', False, 56),\n",
       " ('Specialization_Healthcare Management', False, 42),\n",
       " ('Specialization_Hospitality Management', False, 53),\n",
       " ('Specialization_Human Resource Management', False, 61),\n",
       " ('Specialization_IT Projects Management', False, 32),\n",
       " ('Specialization_International Business', False, 44),\n",
       " ('Specialization_Marketing Management', False, 55),\n",
       " ('Specialization_Media and Advertising', False, 48),\n",
       " ('Specialization_Not Mentioned', False, 17),\n",
       " ('Specialization_Operations Management', False, 46),\n",
       " ('Specialization_Retail Management', False, 18),\n",
       " ('Specialization_Rural and Agribusiness', False, 6),\n",
       " ('Specialization_Services Excellence', False, 40),\n",
       " ('Specialization_Supply Chain Management', False, 38),\n",
       " ('Specialization_Travel and Tourism', False, 54),\n",
       " ('Lead Quality_Low in Relevance', False, 5),\n",
       " ('Lead Quality_Might be', True, 1),\n",
       " ('Lead Quality_Not Sure', True, 1),\n",
       " ('Lead Quality_Worst', True, 1),\n",
       " ('Last Notable Activity_Email Bounced', False, 3),\n",
       " ('Last Notable Activity_Email Link Clicked', False, 22),\n",
       " ('Last Notable Activity_Email Marked Spam', False, 30),\n",
       " ('Last Notable Activity_Email Opened', False, 27),\n",
       " ('Last Notable Activity_Email Received', False, 71),\n",
       " ('Last Notable Activity_Form Submitted on Website', False, 70),\n",
       " ('Last Notable Activity_Had a Phone Conversation', True, 1),\n",
       " ('Last Notable Activity_Modified', False, 25),\n",
       " ('Last Notable Activity_Olark Chat Conversation', False, 26),\n",
       " ('Last Notable Activity_Page Visited on Website', False, 28),\n",
       " ('Last Notable Activity_Resubscribed to emails', False, 65),\n",
       " ('Last Notable Activity_SMS Sent', True, 1),\n",
       " ('Last Notable Activity_Unreachable', True, 1),\n",
       " ('Last Notable Activity_Unsubscribed', False, 4),\n",
       " ('Last Notable Activity_View in browser link Clicked', False, 49)]"
      ]
     },
     "execution_count": 74,
     "metadata": {},
     "output_type": "execute_result"
    }
   ],
   "source": [
    "list(zip(X_train.columns, rfe.support_, rfe.ranking_))"
   ]
  },
  {
   "cell_type": "code",
   "execution_count": 75,
   "metadata": {},
   "outputs": [],
   "source": [
    "col = X_train.columns[rfe.support_]"
   ]
  },
  {
   "cell_type": "code",
   "execution_count": 76,
   "metadata": {},
   "outputs": [
    {
     "data": {
      "text/plain": [
       "Index(['Do Not Email', 'TotalVisits', 'Total Time Spent on Website',\n",
       "       'Page Views Per Visit', 'Newspaper', 'Through Recommendations',\n",
       "       'Lead Origin_Lead Add Form', 'Lead Source_Not Sure',\n",
       "       'Lead Source_Olark Chat', 'Lead Source_Welingak Website',\n",
       "       'Last Activity_Not Sure', 'Last Activity_Olark Chat Conversation',\n",
       "       'Last Activity_SMS Sent', 'Last Activity_View in browser link Clicked',\n",
       "       'Lead Quality_Might be', 'Lead Quality_Not Sure', 'Lead Quality_Worst',\n",
       "       'Last Notable Activity_Had a Phone Conversation',\n",
       "       'Last Notable Activity_SMS Sent', 'Last Notable Activity_Unreachable'],\n",
       "      dtype='object')"
      ]
     },
     "execution_count": 76,
     "metadata": {},
     "output_type": "execute_result"
    }
   ],
   "source": [
    "col"
   ]
  },
  {
   "cell_type": "code",
   "execution_count": 77,
   "metadata": {},
   "outputs": [
    {
     "data": {
      "text/plain": [
       "Index(['Do Not Call', 'Search', 'Newspaper Article', 'X Education Forums',\n",
       "       'Digital Advertisement', 'A free copy of Mastering The Interview',\n",
       "       'Lead Origin_Landing Page Submission', 'Lead Origin_Lead Import',\n",
       "       'Lead Origin_Quick Add Form', 'Lead Source_Direct Traffic',\n",
       "       'Lead Source_Facebook', 'Lead Source_Google', 'Lead Source_Live Chat',\n",
       "       'Lead Source_NC_EDM', 'Lead Source_Organic Search',\n",
       "       'Lead Source_Pay per Click Ads', 'Lead Source_Press_Release',\n",
       "       'Lead Source_Reference', 'Lead Source_Referral Sites',\n",
       "       'Lead Source_Social Media', 'Lead Source_WeLearn', 'Lead Source_bing',\n",
       "       'Lead Source_blog', 'Lead Source_testone',\n",
       "       'Lead Source_welearnblog_Home', 'Lead Source_youtubechannel',\n",
       "       'Last Activity_Converted to Lead', 'Last Activity_Email Bounced',\n",
       "       'Last Activity_Email Link Clicked', 'Last Activity_Email Marked Spam',\n",
       "       'Last Activity_Email Opened', 'Last Activity_Email Received',\n",
       "       'Last Activity_Form Submitted on Website',\n",
       "       'Last Activity_Had a Phone Conversation',\n",
       "       'Last Activity_Page Visited on Website',\n",
       "       'Last Activity_Resubscribed to emails', 'Last Activity_Unreachable',\n",
       "       'Last Activity_Unsubscribed',\n",
       "       'Last Activity_Visited Booth in Tradeshow',\n",
       "       'Specialization_Business Administration', 'Specialization_E-Business',\n",
       "       'Specialization_E-COMMERCE', 'Specialization_Finance Management',\n",
       "       'Specialization_Healthcare Management',\n",
       "       'Specialization_Hospitality Management',\n",
       "       'Specialization_Human Resource Management',\n",
       "       'Specialization_IT Projects Management',\n",
       "       'Specialization_International Business',\n",
       "       'Specialization_Marketing Management',\n",
       "       'Specialization_Media and Advertising', 'Specialization_Not Mentioned',\n",
       "       'Specialization_Operations Management',\n",
       "       'Specialization_Retail Management',\n",
       "       'Specialization_Rural and Agribusiness',\n",
       "       'Specialization_Services Excellence',\n",
       "       'Specialization_Supply Chain Management',\n",
       "       'Specialization_Travel and Tourism', 'Lead Quality_Low in Relevance',\n",
       "       'Last Notable Activity_Email Bounced',\n",
       "       'Last Notable Activity_Email Link Clicked',\n",
       "       'Last Notable Activity_Email Marked Spam',\n",
       "       'Last Notable Activity_Email Opened',\n",
       "       'Last Notable Activity_Email Received',\n",
       "       'Last Notable Activity_Form Submitted on Website',\n",
       "       'Last Notable Activity_Modified',\n",
       "       'Last Notable Activity_Olark Chat Conversation',\n",
       "       'Last Notable Activity_Page Visited on Website',\n",
       "       'Last Notable Activity_Resubscribed to emails',\n",
       "       'Last Notable Activity_Unsubscribed',\n",
       "       'Last Notable Activity_View in browser link Clicked'],\n",
       "      dtype='object')"
      ]
     },
     "execution_count": 77,
     "metadata": {},
     "output_type": "execute_result"
    }
   ],
   "source": [
    "X_train.columns[~rfe.support_]"
   ]
  },
  {
   "cell_type": "code",
   "execution_count": 78,
   "metadata": {},
   "outputs": [
    {
     "data": {
      "text/html": [
       "<table class=\"simpletable\">\n",
       "<caption>Generalized Linear Model Regression Results</caption>\n",
       "<tr>\n",
       "  <th>Dep. Variable:</th>       <td>Converted</td>    <th>  No. Observations:  </th>  <td>  6298</td> \n",
       "</tr>\n",
       "<tr>\n",
       "  <th>Model:</th>                  <td>GLM</td>       <th>  Df Residuals:      </th>  <td>  6277</td> \n",
       "</tr>\n",
       "<tr>\n",
       "  <th>Model Family:</th>        <td>Binomial</td>     <th>  Df Model:          </th>  <td>    20</td> \n",
       "</tr>\n",
       "<tr>\n",
       "  <th>Link Function:</th>         <td>logit</td>      <th>  Scale:             </th> <td>  1.0000</td>\n",
       "</tr>\n",
       "<tr>\n",
       "  <th>Method:</th>                <td>IRLS</td>       <th>  Log-Likelihood:    </th> <td> -2101.1</td>\n",
       "</tr>\n",
       "<tr>\n",
       "  <th>Date:</th>            <td>Tue, 18 Jul 2023</td> <th>  Deviance:          </th> <td>  4202.2</td>\n",
       "</tr>\n",
       "<tr>\n",
       "  <th>Time:</th>                <td>09:14:33</td>     <th>  Pearson chi2:      </th> <td>6.28e+03</td>\n",
       "</tr>\n",
       "<tr>\n",
       "  <th>No. Iterations:</th>         <td>21</td>        <th>                     </th>     <td> </td>   \n",
       "</tr>\n",
       "<tr>\n",
       "  <th>Covariance Type:</th>     <td>nonrobust</td>    <th>                     </th>     <td> </td>   \n",
       "</tr>\n",
       "</table>\n",
       "<table class=\"simpletable\">\n",
       "<tr>\n",
       "                         <td></td>                           <th>coef</th>     <th>std err</th>      <th>z</th>      <th>P>|z|</th>  <th>[0.025</th>    <th>0.975]</th>  \n",
       "</tr>\n",
       "<tr>\n",
       "  <th>const</th>                                          <td>    0.3121</td> <td>    0.163</td> <td>    1.919</td> <td> 0.055</td> <td>   -0.007</td> <td>    0.631</td>\n",
       "</tr>\n",
       "<tr>\n",
       "  <th>Do Not Email</th>                                   <td>   -1.1883</td> <td>    0.185</td> <td>   -6.438</td> <td> 0.000</td> <td>   -1.550</td> <td>   -0.827</td>\n",
       "</tr>\n",
       "<tr>\n",
       "  <th>TotalVisits</th>                                    <td>    1.4539</td> <td>    0.337</td> <td>    4.318</td> <td> 0.000</td> <td>    0.794</td> <td>    2.114</td>\n",
       "</tr>\n",
       "<tr>\n",
       "  <th>Total Time Spent on Website</th>                    <td>    3.8660</td> <td>    0.158</td> <td>   24.537</td> <td> 0.000</td> <td>    3.557</td> <td>    4.175</td>\n",
       "</tr>\n",
       "<tr>\n",
       "  <th>Page Views Per Visit</th>                           <td>   -1.4852</td> <td>    0.304</td> <td>   -4.893</td> <td> 0.000</td> <td>   -2.080</td> <td>   -0.890</td>\n",
       "</tr>\n",
       "<tr>\n",
       "  <th>Newspaper</th>                                      <td>  -23.6145</td> <td> 4.82e+04</td> <td>   -0.000</td> <td> 1.000</td> <td>-9.45e+04</td> <td> 9.44e+04</td>\n",
       "</tr>\n",
       "<tr>\n",
       "  <th>Through Recommendations</th>                        <td>   21.9195</td> <td> 2.15e+04</td> <td>    0.001</td> <td> 0.999</td> <td>-4.21e+04</td> <td> 4.21e+04</td>\n",
       "</tr>\n",
       "<tr>\n",
       "  <th>Lead Origin_Lead Add Form</th>                      <td>    2.7647</td> <td>    0.257</td> <td>   10.773</td> <td> 0.000</td> <td>    2.262</td> <td>    3.268</td>\n",
       "</tr>\n",
       "<tr>\n",
       "  <th>Lead Source_Not Sure</th>                           <td>    0.9915</td> <td>    0.723</td> <td>    1.372</td> <td> 0.170</td> <td>   -0.425</td> <td>    2.408</td>\n",
       "</tr>\n",
       "<tr>\n",
       "  <th>Lead Source_Olark Chat</th>                         <td>    1.4167</td> <td>    0.143</td> <td>    9.913</td> <td> 0.000</td> <td>    1.137</td> <td>    1.697</td>\n",
       "</tr>\n",
       "<tr>\n",
       "  <th>Lead Source_Welingak Website</th>                   <td>    4.3983</td> <td>    1.037</td> <td>    4.241</td> <td> 0.000</td> <td>    2.366</td> <td>    6.431</td>\n",
       "</tr>\n",
       "<tr>\n",
       "  <th>Last Activity_Not Sure</th>                         <td>   -1.8102</td> <td>    0.488</td> <td>   -3.706</td> <td> 0.000</td> <td>   -2.767</td> <td>   -0.853</td>\n",
       "</tr>\n",
       "<tr>\n",
       "  <th>Last Activity_Olark Chat Conversation</th>          <td>   -1.2341</td> <td>    0.182</td> <td>   -6.785</td> <td> 0.000</td> <td>   -1.591</td> <td>   -0.878</td>\n",
       "</tr>\n",
       "<tr>\n",
       "  <th>Last Activity_SMS Sent</th>                         <td>    0.4349</td> <td>    0.152</td> <td>    2.863</td> <td> 0.004</td> <td>    0.137</td> <td>    0.733</td>\n",
       "</tr>\n",
       "<tr>\n",
       "  <th>Last Activity_View in browser link Clicked</th>     <td>  -22.4482</td> <td> 1.89e+04</td> <td>   -0.001</td> <td> 0.999</td> <td> -3.7e+04</td> <td>  3.7e+04</td>\n",
       "</tr>\n",
       "<tr>\n",
       "  <th>Lead Quality_Might be</th>                          <td>   -1.3692</td> <td>    0.152</td> <td>   -8.991</td> <td> 0.000</td> <td>   -1.668</td> <td>   -1.071</td>\n",
       "</tr>\n",
       "<tr>\n",
       "  <th>Lead Quality_Not Sure</th>                          <td>   -3.3786</td> <td>    0.136</td> <td>  -24.924</td> <td> 0.000</td> <td>   -3.644</td> <td>   -3.113</td>\n",
       "</tr>\n",
       "<tr>\n",
       "  <th>Lead Quality_Worst</th>                             <td>   -5.5328</td> <td>    0.391</td> <td>  -14.166</td> <td> 0.000</td> <td>   -6.298</td> <td>   -4.767</td>\n",
       "</tr>\n",
       "<tr>\n",
       "  <th>Last Notable Activity_Had a Phone Conversation</th> <td>    2.5851</td> <td>    1.227</td> <td>    2.106</td> <td> 0.035</td> <td>    0.180</td> <td>    4.991</td>\n",
       "</tr>\n",
       "<tr>\n",
       "  <th>Last Notable Activity_SMS Sent</th>                 <td>    1.3896</td> <td>    0.160</td> <td>    8.712</td> <td> 0.000</td> <td>    1.077</td> <td>    1.702</td>\n",
       "</tr>\n",
       "<tr>\n",
       "  <th>Last Notable Activity_Unreachable</th>              <td>    1.4068</td> <td>    0.557</td> <td>    2.527</td> <td> 0.011</td> <td>    0.316</td> <td>    2.498</td>\n",
       "</tr>\n",
       "</table>"
      ],
      "text/plain": [
       "<class 'statsmodels.iolib.summary.Summary'>\n",
       "\"\"\"\n",
       "                 Generalized Linear Model Regression Results                  \n",
       "==============================================================================\n",
       "Dep. Variable:              Converted   No. Observations:                 6298\n",
       "Model:                            GLM   Df Residuals:                     6277\n",
       "Model Family:                Binomial   Df Model:                           20\n",
       "Link Function:                  logit   Scale:                          1.0000\n",
       "Method:                          IRLS   Log-Likelihood:                -2101.1\n",
       "Date:                Tue, 18 Jul 2023   Deviance:                       4202.2\n",
       "Time:                        09:14:33   Pearson chi2:                 6.28e+03\n",
       "No. Iterations:                    21                                         \n",
       "Covariance Type:            nonrobust                                         \n",
       "==================================================================================================================\n",
       "                                                     coef    std err          z      P>|z|      [0.025      0.975]\n",
       "------------------------------------------------------------------------------------------------------------------\n",
       "const                                              0.3121      0.163      1.919      0.055      -0.007       0.631\n",
       "Do Not Email                                      -1.1883      0.185     -6.438      0.000      -1.550      -0.827\n",
       "TotalVisits                                        1.4539      0.337      4.318      0.000       0.794       2.114\n",
       "Total Time Spent on Website                        3.8660      0.158     24.537      0.000       3.557       4.175\n",
       "Page Views Per Visit                              -1.4852      0.304     -4.893      0.000      -2.080      -0.890\n",
       "Newspaper                                        -23.6145   4.82e+04     -0.000      1.000   -9.45e+04    9.44e+04\n",
       "Through Recommendations                           21.9195   2.15e+04      0.001      0.999   -4.21e+04    4.21e+04\n",
       "Lead Origin_Lead Add Form                          2.7647      0.257     10.773      0.000       2.262       3.268\n",
       "Lead Source_Not Sure                               0.9915      0.723      1.372      0.170      -0.425       2.408\n",
       "Lead Source_Olark Chat                             1.4167      0.143      9.913      0.000       1.137       1.697\n",
       "Lead Source_Welingak Website                       4.3983      1.037      4.241      0.000       2.366       6.431\n",
       "Last Activity_Not Sure                            -1.8102      0.488     -3.706      0.000      -2.767      -0.853\n",
       "Last Activity_Olark Chat Conversation             -1.2341      0.182     -6.785      0.000      -1.591      -0.878\n",
       "Last Activity_SMS Sent                             0.4349      0.152      2.863      0.004       0.137       0.733\n",
       "Last Activity_View in browser link Clicked       -22.4482   1.89e+04     -0.001      0.999    -3.7e+04     3.7e+04\n",
       "Lead Quality_Might be                             -1.3692      0.152     -8.991      0.000      -1.668      -1.071\n",
       "Lead Quality_Not Sure                             -3.3786      0.136    -24.924      0.000      -3.644      -3.113\n",
       "Lead Quality_Worst                                -5.5328      0.391    -14.166      0.000      -6.298      -4.767\n",
       "Last Notable Activity_Had a Phone Conversation     2.5851      1.227      2.106      0.035       0.180       4.991\n",
       "Last Notable Activity_SMS Sent                     1.3896      0.160      8.712      0.000       1.077       1.702\n",
       "Last Notable Activity_Unreachable                  1.4068      0.557      2.527      0.011       0.316       2.498\n",
       "==================================================================================================================\n",
       "\"\"\""
      ]
     },
     "execution_count": 78,
     "metadata": {},
     "output_type": "execute_result"
    }
   ],
   "source": [
    "import statsmodels.api as sm\n",
    "X_train_sm = sm.add_constant(X_train[col])\n",
    "logm2 = sm.GLM(y_train,X_train_sm, family = sm.families.Binomial())\n",
    "res = logm2.fit()\n",
    "res.summary()"
   ]
  },
  {
   "cell_type": "code",
   "execution_count": 79,
   "metadata": {},
   "outputs": [],
   "source": [
    "# Check for the VIF values of the feature variables. \n",
    "from statsmodels.stats.outliers_influence import variance_inflation_factor"
   ]
  },
  {
   "cell_type": "code",
   "execution_count": 80,
   "metadata": {},
   "outputs": [
    {
     "data": {
      "text/html": [
       "<div>\n",
       "<style scoped>\n",
       "    .dataframe tbody tr th:only-of-type {\n",
       "        vertical-align: middle;\n",
       "    }\n",
       "\n",
       "    .dataframe tbody tr th {\n",
       "        vertical-align: top;\n",
       "    }\n",
       "\n",
       "    .dataframe thead th {\n",
       "        text-align: right;\n",
       "    }\n",
       "</style>\n",
       "<table border=\"1\" class=\"dataframe\">\n",
       "  <thead>\n",
       "    <tr style=\"text-align: right;\">\n",
       "      <th></th>\n",
       "      <th>Features</th>\n",
       "      <th>VIF</th>\n",
       "    </tr>\n",
       "  </thead>\n",
       "  <tbody>\n",
       "    <tr>\n",
       "      <td>3</td>\n",
       "      <td>Page Views Per Visit</td>\n",
       "      <td>5.78</td>\n",
       "    </tr>\n",
       "    <tr>\n",
       "      <td>12</td>\n",
       "      <td>Last Activity_SMS Sent</td>\n",
       "      <td>5.24</td>\n",
       "    </tr>\n",
       "    <tr>\n",
       "      <td>1</td>\n",
       "      <td>TotalVisits</td>\n",
       "      <td>4.89</td>\n",
       "    </tr>\n",
       "    <tr>\n",
       "      <td>18</td>\n",
       "      <td>Last Notable Activity_SMS Sent</td>\n",
       "      <td>4.73</td>\n",
       "    </tr>\n",
       "    <tr>\n",
       "      <td>15</td>\n",
       "      <td>Lead Quality_Not Sure</td>\n",
       "      <td>3.37</td>\n",
       "    </tr>\n",
       "    <tr>\n",
       "      <td>2</td>\n",
       "      <td>Total Time Spent on Website</td>\n",
       "      <td>2.10</td>\n",
       "    </tr>\n",
       "    <tr>\n",
       "      <td>8</td>\n",
       "      <td>Lead Source_Olark Chat</td>\n",
       "      <td>1.96</td>\n",
       "    </tr>\n",
       "    <tr>\n",
       "      <td>14</td>\n",
       "      <td>Lead Quality_Might be</td>\n",
       "      <td>1.85</td>\n",
       "    </tr>\n",
       "    <tr>\n",
       "      <td>6</td>\n",
       "      <td>Lead Origin_Lead Add Form</td>\n",
       "      <td>1.60</td>\n",
       "    </tr>\n",
       "    <tr>\n",
       "      <td>11</td>\n",
       "      <td>Last Activity_Olark Chat Conversation</td>\n",
       "      <td>1.46</td>\n",
       "    </tr>\n",
       "    <tr>\n",
       "      <td>9</td>\n",
       "      <td>Lead Source_Welingak Website</td>\n",
       "      <td>1.29</td>\n",
       "    </tr>\n",
       "    <tr>\n",
       "      <td>16</td>\n",
       "      <td>Lead Quality_Worst</td>\n",
       "      <td>1.21</td>\n",
       "    </tr>\n",
       "    <tr>\n",
       "      <td>10</td>\n",
       "      <td>Last Activity_Not Sure</td>\n",
       "      <td>1.18</td>\n",
       "    </tr>\n",
       "    <tr>\n",
       "      <td>0</td>\n",
       "      <td>Do Not Email</td>\n",
       "      <td>1.12</td>\n",
       "    </tr>\n",
       "    <tr>\n",
       "      <td>7</td>\n",
       "      <td>Lead Source_Not Sure</td>\n",
       "      <td>1.08</td>\n",
       "    </tr>\n",
       "    <tr>\n",
       "      <td>5</td>\n",
       "      <td>Through Recommendations</td>\n",
       "      <td>1.02</td>\n",
       "    </tr>\n",
       "    <tr>\n",
       "      <td>19</td>\n",
       "      <td>Last Notable Activity_Unreachable</td>\n",
       "      <td>1.02</td>\n",
       "    </tr>\n",
       "    <tr>\n",
       "      <td>17</td>\n",
       "      <td>Last Notable Activity_Had a Phone Conversation</td>\n",
       "      <td>1.01</td>\n",
       "    </tr>\n",
       "    <tr>\n",
       "      <td>13</td>\n",
       "      <td>Last Activity_View in browser link Clicked</td>\n",
       "      <td>1.00</td>\n",
       "    </tr>\n",
       "    <tr>\n",
       "      <td>4</td>\n",
       "      <td>Newspaper</td>\n",
       "      <td>1.00</td>\n",
       "    </tr>\n",
       "  </tbody>\n",
       "</table>\n",
       "</div>"
      ],
      "text/plain": [
       "                                          Features   VIF\n",
       "3                             Page Views Per Visit  5.78\n",
       "12                          Last Activity_SMS Sent  5.24\n",
       "1                                      TotalVisits  4.89\n",
       "18                  Last Notable Activity_SMS Sent  4.73\n",
       "15                           Lead Quality_Not Sure  3.37\n",
       "2                      Total Time Spent on Website  2.10\n",
       "8                           Lead Source_Olark Chat  1.96\n",
       "14                           Lead Quality_Might be  1.85\n",
       "6                        Lead Origin_Lead Add Form  1.60\n",
       "11           Last Activity_Olark Chat Conversation  1.46\n",
       "9                     Lead Source_Welingak Website  1.29\n",
       "16                              Lead Quality_Worst  1.21\n",
       "10                          Last Activity_Not Sure  1.18\n",
       "0                                     Do Not Email  1.12\n",
       "7                             Lead Source_Not Sure  1.08\n",
       "5                          Through Recommendations  1.02\n",
       "19               Last Notable Activity_Unreachable  1.02\n",
       "17  Last Notable Activity_Had a Phone Conversation  1.01\n",
       "13      Last Activity_View in browser link Clicked  1.00\n",
       "4                                        Newspaper  1.00"
      ]
     },
     "execution_count": 80,
     "metadata": {},
     "output_type": "execute_result"
    }
   ],
   "source": [
    "# Create a dataframe that will contain the names of all the feature variables and their respective VIFs\n",
    "vif = pd.DataFrame()\n",
    "vif['Features'] = X_train[col].columns\n",
    "vif['VIF'] = [variance_inflation_factor(X_train[col].values, i) for i in range(X_train[col].shape[1])]\n",
    "vif['VIF'] = round(vif['VIF'], 2)\n",
    "vif = vif.sort_values(by = \"VIF\", ascending = False)\n",
    "vif"
   ]
  },
  {
   "cell_type": "markdown",
   "metadata": {},
   "source": [
    "#### Model 2 without Last Activity_SMS Sent\tas it has high VIF"
   ]
  },
  {
   "cell_type": "code",
   "execution_count": 81,
   "metadata": {},
   "outputs": [],
   "source": [
    "X_train = X_train.drop(\"Last Activity_SMS Sent\",axis=1)\n",
    "col = col.drop(\"Last Activity_SMS Sent\")"
   ]
  },
  {
   "cell_type": "code",
   "execution_count": 82,
   "metadata": {},
   "outputs": [
    {
     "data": {
      "text/html": [
       "<table class=\"simpletable\">\n",
       "<caption>Generalized Linear Model Regression Results</caption>\n",
       "<tr>\n",
       "  <th>Dep. Variable:</th>       <td>Converted</td>    <th>  No. Observations:  </th>  <td>  6298</td> \n",
       "</tr>\n",
       "<tr>\n",
       "  <th>Model:</th>                  <td>GLM</td>       <th>  Df Residuals:      </th>  <td>  6278</td> \n",
       "</tr>\n",
       "<tr>\n",
       "  <th>Model Family:</th>        <td>Binomial</td>     <th>  Df Model:          </th>  <td>    19</td> \n",
       "</tr>\n",
       "<tr>\n",
       "  <th>Link Function:</th>         <td>logit</td>      <th>  Scale:             </th> <td>  1.0000</td>\n",
       "</tr>\n",
       "<tr>\n",
       "  <th>Method:</th>                <td>IRLS</td>       <th>  Log-Likelihood:    </th> <td> -2105.1</td>\n",
       "</tr>\n",
       "<tr>\n",
       "  <th>Date:</th>            <td>Tue, 18 Jul 2023</td> <th>  Deviance:          </th> <td>  4210.2</td>\n",
       "</tr>\n",
       "<tr>\n",
       "  <th>Time:</th>                <td>09:14:34</td>     <th>  Pearson chi2:      </th> <td>6.31e+03</td>\n",
       "</tr>\n",
       "<tr>\n",
       "  <th>No. Iterations:</th>         <td>21</td>        <th>                     </th>     <td> </td>   \n",
       "</tr>\n",
       "<tr>\n",
       "  <th>Covariance Type:</th>     <td>nonrobust</td>    <th>                     </th>     <td> </td>   \n",
       "</tr>\n",
       "</table>\n",
       "<table class=\"simpletable\">\n",
       "<tr>\n",
       "                         <td></td>                           <th>coef</th>     <th>std err</th>      <th>z</th>      <th>P>|z|</th>  <th>[0.025</th>    <th>0.975]</th>  \n",
       "</tr>\n",
       "<tr>\n",
       "  <th>const</th>                                          <td>    0.3300</td> <td>    0.163</td> <td>    2.030</td> <td> 0.042</td> <td>    0.011</td> <td>    0.649</td>\n",
       "</tr>\n",
       "<tr>\n",
       "  <th>Do Not Email</th>                                   <td>   -1.1854</td> <td>    0.184</td> <td>   -6.440</td> <td> 0.000</td> <td>   -1.546</td> <td>   -0.825</td>\n",
       "</tr>\n",
       "<tr>\n",
       "  <th>TotalVisits</th>                                    <td>    1.4294</td> <td>    0.336</td> <td>    4.255</td> <td> 0.000</td> <td>    0.771</td> <td>    2.088</td>\n",
       "</tr>\n",
       "<tr>\n",
       "  <th>Total Time Spent on Website</th>                    <td>    3.8692</td> <td>    0.158</td> <td>   24.557</td> <td> 0.000</td> <td>    3.560</td> <td>    4.178</td>\n",
       "</tr>\n",
       "<tr>\n",
       "  <th>Page Views Per Visit</th>                           <td>   -1.4546</td> <td>    0.303</td> <td>   -4.795</td> <td> 0.000</td> <td>   -2.049</td> <td>   -0.860</td>\n",
       "</tr>\n",
       "<tr>\n",
       "  <th>Newspaper</th>                                      <td>  -23.6644</td> <td> 4.82e+04</td> <td>   -0.000</td> <td> 1.000</td> <td>-9.45e+04</td> <td> 9.44e+04</td>\n",
       "</tr>\n",
       "<tr>\n",
       "  <th>Through Recommendations</th>                        <td>   21.8582</td> <td> 2.15e+04</td> <td>    0.001</td> <td> 0.999</td> <td>-4.21e+04</td> <td> 4.22e+04</td>\n",
       "</tr>\n",
       "<tr>\n",
       "  <th>Lead Origin_Lead Add Form</th>                      <td>    2.8179</td> <td>    0.257</td> <td>   10.968</td> <td> 0.000</td> <td>    2.314</td> <td>    3.322</td>\n",
       "</tr>\n",
       "<tr>\n",
       "  <th>Lead Source_Not Sure</th>                           <td>    0.9898</td> <td>    0.723</td> <td>    1.369</td> <td> 0.171</td> <td>   -0.428</td> <td>    2.407</td>\n",
       "</tr>\n",
       "<tr>\n",
       "  <th>Lead Source_Olark Chat</th>                         <td>    1.4091</td> <td>    0.143</td> <td>    9.879</td> <td> 0.000</td> <td>    1.130</td> <td>    1.689</td>\n",
       "</tr>\n",
       "<tr>\n",
       "  <th>Lead Source_Welingak Website</th>                   <td>    4.3960</td> <td>    1.037</td> <td>    4.239</td> <td> 0.000</td> <td>    2.363</td> <td>    6.429</td>\n",
       "</tr>\n",
       "<tr>\n",
       "  <th>Last Activity_Not Sure</th>                         <td>   -1.8911</td> <td>    0.489</td> <td>   -3.869</td> <td> 0.000</td> <td>   -2.849</td> <td>   -0.933</td>\n",
       "</tr>\n",
       "<tr>\n",
       "  <th>Last Activity_Olark Chat Conversation</th>          <td>   -1.2783</td> <td>    0.181</td> <td>   -7.063</td> <td> 0.000</td> <td>   -1.633</td> <td>   -0.924</td>\n",
       "</tr>\n",
       "<tr>\n",
       "  <th>Last Activity_View in browser link Clicked</th>     <td>  -22.4628</td> <td> 1.89e+04</td> <td>   -0.001</td> <td> 0.999</td> <td>-3.71e+04</td> <td>  3.7e+04</td>\n",
       "</tr>\n",
       "<tr>\n",
       "  <th>Lead Quality_Might be</th>                          <td>   -1.3253</td> <td>    0.151</td> <td>   -8.750</td> <td> 0.000</td> <td>   -1.622</td> <td>   -1.028</td>\n",
       "</tr>\n",
       "<tr>\n",
       "  <th>Lead Quality_Not Sure</th>                          <td>   -3.3467</td> <td>    0.135</td> <td>  -24.802</td> <td> 0.000</td> <td>   -3.611</td> <td>   -3.082</td>\n",
       "</tr>\n",
       "<tr>\n",
       "  <th>Lead Quality_Worst</th>                             <td>   -5.5295</td> <td>    0.390</td> <td>  -14.161</td> <td> 0.000</td> <td>   -6.295</td> <td>   -4.764</td>\n",
       "</tr>\n",
       "<tr>\n",
       "  <th>Last Notable Activity_Had a Phone Conversation</th> <td>    2.5262</td> <td>    1.228</td> <td>    2.057</td> <td> 0.040</td> <td>    0.120</td> <td>    4.933</td>\n",
       "</tr>\n",
       "<tr>\n",
       "  <th>Last Notable Activity_SMS Sent</th>                 <td>    1.7666</td> <td>    0.092</td> <td>   19.288</td> <td> 0.000</td> <td>    1.587</td> <td>    1.946</td>\n",
       "</tr>\n",
       "<tr>\n",
       "  <th>Last Notable Activity_Unreachable</th>              <td>    1.3528</td> <td>    0.556</td> <td>    2.433</td> <td> 0.015</td> <td>    0.263</td> <td>    2.443</td>\n",
       "</tr>\n",
       "</table>"
      ],
      "text/plain": [
       "<class 'statsmodels.iolib.summary.Summary'>\n",
       "\"\"\"\n",
       "                 Generalized Linear Model Regression Results                  \n",
       "==============================================================================\n",
       "Dep. Variable:              Converted   No. Observations:                 6298\n",
       "Model:                            GLM   Df Residuals:                     6278\n",
       "Model Family:                Binomial   Df Model:                           19\n",
       "Link Function:                  logit   Scale:                          1.0000\n",
       "Method:                          IRLS   Log-Likelihood:                -2105.1\n",
       "Date:                Tue, 18 Jul 2023   Deviance:                       4210.2\n",
       "Time:                        09:14:34   Pearson chi2:                 6.31e+03\n",
       "No. Iterations:                    21                                         \n",
       "Covariance Type:            nonrobust                                         \n",
       "==================================================================================================================\n",
       "                                                     coef    std err          z      P>|z|      [0.025      0.975]\n",
       "------------------------------------------------------------------------------------------------------------------\n",
       "const                                              0.3300      0.163      2.030      0.042       0.011       0.649\n",
       "Do Not Email                                      -1.1854      0.184     -6.440      0.000      -1.546      -0.825\n",
       "TotalVisits                                        1.4294      0.336      4.255      0.000       0.771       2.088\n",
       "Total Time Spent on Website                        3.8692      0.158     24.557      0.000       3.560       4.178\n",
       "Page Views Per Visit                              -1.4546      0.303     -4.795      0.000      -2.049      -0.860\n",
       "Newspaper                                        -23.6644   4.82e+04     -0.000      1.000   -9.45e+04    9.44e+04\n",
       "Through Recommendations                           21.8582   2.15e+04      0.001      0.999   -4.21e+04    4.22e+04\n",
       "Lead Origin_Lead Add Form                          2.8179      0.257     10.968      0.000       2.314       3.322\n",
       "Lead Source_Not Sure                               0.9898      0.723      1.369      0.171      -0.428       2.407\n",
       "Lead Source_Olark Chat                             1.4091      0.143      9.879      0.000       1.130       1.689\n",
       "Lead Source_Welingak Website                       4.3960      1.037      4.239      0.000       2.363       6.429\n",
       "Last Activity_Not Sure                            -1.8911      0.489     -3.869      0.000      -2.849      -0.933\n",
       "Last Activity_Olark Chat Conversation             -1.2783      0.181     -7.063      0.000      -1.633      -0.924\n",
       "Last Activity_View in browser link Clicked       -22.4628   1.89e+04     -0.001      0.999   -3.71e+04     3.7e+04\n",
       "Lead Quality_Might be                             -1.3253      0.151     -8.750      0.000      -1.622      -1.028\n",
       "Lead Quality_Not Sure                             -3.3467      0.135    -24.802      0.000      -3.611      -3.082\n",
       "Lead Quality_Worst                                -5.5295      0.390    -14.161      0.000      -6.295      -4.764\n",
       "Last Notable Activity_Had a Phone Conversation     2.5262      1.228      2.057      0.040       0.120       4.933\n",
       "Last Notable Activity_SMS Sent                     1.7666      0.092     19.288      0.000       1.587       1.946\n",
       "Last Notable Activity_Unreachable                  1.3528      0.556      2.433      0.015       0.263       2.443\n",
       "==================================================================================================================\n",
       "\"\"\""
      ]
     },
     "execution_count": 82,
     "metadata": {},
     "output_type": "execute_result"
    }
   ],
   "source": [
    "X_train_sm = sm.add_constant(X_train[col])\n",
    "logm2 = sm.GLM(y_train,X_train_sm, family = sm.families.Binomial())\n",
    "res = logm2.fit()\n",
    "res.summary()"
   ]
  },
  {
   "cell_type": "code",
   "execution_count": 83,
   "metadata": {},
   "outputs": [
    {
     "data": {
      "text/html": [
       "<div>\n",
       "<style scoped>\n",
       "    .dataframe tbody tr th:only-of-type {\n",
       "        vertical-align: middle;\n",
       "    }\n",
       "\n",
       "    .dataframe tbody tr th {\n",
       "        vertical-align: top;\n",
       "    }\n",
       "\n",
       "    .dataframe thead th {\n",
       "        text-align: right;\n",
       "    }\n",
       "</style>\n",
       "<table border=\"1\" class=\"dataframe\">\n",
       "  <thead>\n",
       "    <tr style=\"text-align: right;\">\n",
       "      <th></th>\n",
       "      <th>Features</th>\n",
       "      <th>VIF</th>\n",
       "    </tr>\n",
       "  </thead>\n",
       "  <tbody>\n",
       "    <tr>\n",
       "      <td>3</td>\n",
       "      <td>Page Views Per Visit</td>\n",
       "      <td>5.77</td>\n",
       "    </tr>\n",
       "    <tr>\n",
       "      <td>1</td>\n",
       "      <td>TotalVisits</td>\n",
       "      <td>4.89</td>\n",
       "    </tr>\n",
       "    <tr>\n",
       "      <td>14</td>\n",
       "      <td>Lead Quality_Not Sure</td>\n",
       "      <td>3.30</td>\n",
       "    </tr>\n",
       "    <tr>\n",
       "      <td>2</td>\n",
       "      <td>Total Time Spent on Website</td>\n",
       "      <td>2.10</td>\n",
       "    </tr>\n",
       "    <tr>\n",
       "      <td>8</td>\n",
       "      <td>Lead Source_Olark Chat</td>\n",
       "      <td>1.96</td>\n",
       "    </tr>\n",
       "    <tr>\n",
       "      <td>13</td>\n",
       "      <td>Lead Quality_Might be</td>\n",
       "      <td>1.82</td>\n",
       "    </tr>\n",
       "    <tr>\n",
       "      <td>6</td>\n",
       "      <td>Lead Origin_Lead Add Form</td>\n",
       "      <td>1.58</td>\n",
       "    </tr>\n",
       "    <tr>\n",
       "      <td>17</td>\n",
       "      <td>Last Notable Activity_SMS Sent</td>\n",
       "      <td>1.54</td>\n",
       "    </tr>\n",
       "    <tr>\n",
       "      <td>11</td>\n",
       "      <td>Last Activity_Olark Chat Conversation</td>\n",
       "      <td>1.45</td>\n",
       "    </tr>\n",
       "    <tr>\n",
       "      <td>9</td>\n",
       "      <td>Lead Source_Welingak Website</td>\n",
       "      <td>1.29</td>\n",
       "    </tr>\n",
       "    <tr>\n",
       "      <td>15</td>\n",
       "      <td>Lead Quality_Worst</td>\n",
       "      <td>1.20</td>\n",
       "    </tr>\n",
       "    <tr>\n",
       "      <td>10</td>\n",
       "      <td>Last Activity_Not Sure</td>\n",
       "      <td>1.18</td>\n",
       "    </tr>\n",
       "    <tr>\n",
       "      <td>0</td>\n",
       "      <td>Do Not Email</td>\n",
       "      <td>1.12</td>\n",
       "    </tr>\n",
       "    <tr>\n",
       "      <td>7</td>\n",
       "      <td>Lead Source_Not Sure</td>\n",
       "      <td>1.08</td>\n",
       "    </tr>\n",
       "    <tr>\n",
       "      <td>5</td>\n",
       "      <td>Through Recommendations</td>\n",
       "      <td>1.02</td>\n",
       "    </tr>\n",
       "    <tr>\n",
       "      <td>18</td>\n",
       "      <td>Last Notable Activity_Unreachable</td>\n",
       "      <td>1.02</td>\n",
       "    </tr>\n",
       "    <tr>\n",
       "      <td>16</td>\n",
       "      <td>Last Notable Activity_Had a Phone Conversation</td>\n",
       "      <td>1.01</td>\n",
       "    </tr>\n",
       "    <tr>\n",
       "      <td>12</td>\n",
       "      <td>Last Activity_View in browser link Clicked</td>\n",
       "      <td>1.00</td>\n",
       "    </tr>\n",
       "    <tr>\n",
       "      <td>4</td>\n",
       "      <td>Newspaper</td>\n",
       "      <td>1.00</td>\n",
       "    </tr>\n",
       "  </tbody>\n",
       "</table>\n",
       "</div>"
      ],
      "text/plain": [
       "                                          Features   VIF\n",
       "3                             Page Views Per Visit  5.77\n",
       "1                                      TotalVisits  4.89\n",
       "14                           Lead Quality_Not Sure  3.30\n",
       "2                      Total Time Spent on Website  2.10\n",
       "8                           Lead Source_Olark Chat  1.96\n",
       "13                           Lead Quality_Might be  1.82\n",
       "6                        Lead Origin_Lead Add Form  1.58\n",
       "17                  Last Notable Activity_SMS Sent  1.54\n",
       "11           Last Activity_Olark Chat Conversation  1.45\n",
       "9                     Lead Source_Welingak Website  1.29\n",
       "15                              Lead Quality_Worst  1.20\n",
       "10                          Last Activity_Not Sure  1.18\n",
       "0                                     Do Not Email  1.12\n",
       "7                             Lead Source_Not Sure  1.08\n",
       "5                          Through Recommendations  1.02\n",
       "18               Last Notable Activity_Unreachable  1.02\n",
       "16  Last Notable Activity_Had a Phone Conversation  1.01\n",
       "12      Last Activity_View in browser link Clicked  1.00\n",
       "4                                        Newspaper  1.00"
      ]
     },
     "execution_count": 83,
     "metadata": {},
     "output_type": "execute_result"
    }
   ],
   "source": [
    "#Checking VIF for manual fine tuning\n",
    "vif = pd.DataFrame()\n",
    "vif['Features'] = X_train[col].columns\n",
    "vif['VIF'] = [variance_inflation_factor(X_train[col].values, i) for i in range(X_train[col].shape[1])]\n",
    "vif['VIF'] = round(vif['VIF'], 2)\n",
    "vif = vif.sort_values(by = \"VIF\", ascending = False)\n",
    "vif"
   ]
  },
  {
   "cell_type": "markdown",
   "metadata": {},
   "source": [
    "#### Model 3 - Without Newspaper as it is not significant"
   ]
  },
  {
   "cell_type": "code",
   "execution_count": 84,
   "metadata": {},
   "outputs": [],
   "source": [
    "X_train = X_train.drop(\"Newspaper\",axis=1)\n",
    "col = col.drop(\"Newspaper\")"
   ]
  },
  {
   "cell_type": "code",
   "execution_count": 85,
   "metadata": {},
   "outputs": [
    {
     "data": {
      "text/html": [
       "<table class=\"simpletable\">\n",
       "<caption>Generalized Linear Model Regression Results</caption>\n",
       "<tr>\n",
       "  <th>Dep. Variable:</th>       <td>Converted</td>    <th>  No. Observations:  </th>  <td>  6298</td> \n",
       "</tr>\n",
       "<tr>\n",
       "  <th>Model:</th>                  <td>GLM</td>       <th>  Df Residuals:      </th>  <td>  6279</td> \n",
       "</tr>\n",
       "<tr>\n",
       "  <th>Model Family:</th>        <td>Binomial</td>     <th>  Df Model:          </th>  <td>    18</td> \n",
       "</tr>\n",
       "<tr>\n",
       "  <th>Link Function:</th>         <td>logit</td>      <th>  Scale:             </th> <td>  1.0000</td>\n",
       "</tr>\n",
       "<tr>\n",
       "  <th>Method:</th>                <td>IRLS</td>       <th>  Log-Likelihood:    </th> <td> -2106.5</td>\n",
       "</tr>\n",
       "<tr>\n",
       "  <th>Date:</th>            <td>Tue, 18 Jul 2023</td> <th>  Deviance:          </th> <td>  4213.0</td>\n",
       "</tr>\n",
       "<tr>\n",
       "  <th>Time:</th>                <td>09:14:34</td>     <th>  Pearson chi2:      </th> <td>6.31e+03</td>\n",
       "</tr>\n",
       "<tr>\n",
       "  <th>No. Iterations:</th>         <td>21</td>        <th>                     </th>     <td> </td>   \n",
       "</tr>\n",
       "<tr>\n",
       "  <th>Covariance Type:</th>     <td>nonrobust</td>    <th>                     </th>     <td> </td>   \n",
       "</tr>\n",
       "</table>\n",
       "<table class=\"simpletable\">\n",
       "<tr>\n",
       "                         <td></td>                           <th>coef</th>     <th>std err</th>      <th>z</th>      <th>P>|z|</th>  <th>[0.025</th>    <th>0.975]</th>  \n",
       "</tr>\n",
       "<tr>\n",
       "  <th>const</th>                                          <td>    0.3353</td> <td>    0.162</td> <td>    2.064</td> <td> 0.039</td> <td>    0.017</td> <td>    0.654</td>\n",
       "</tr>\n",
       "<tr>\n",
       "  <th>Do Not Email</th>                                   <td>   -1.1844</td> <td>    0.184</td> <td>   -6.436</td> <td> 0.000</td> <td>   -1.545</td> <td>   -0.824</td>\n",
       "</tr>\n",
       "<tr>\n",
       "  <th>TotalVisits</th>                                    <td>    1.4040</td> <td>    0.335</td> <td>    4.185</td> <td> 0.000</td> <td>    0.746</td> <td>    2.062</td>\n",
       "</tr>\n",
       "<tr>\n",
       "  <th>Total Time Spent on Website</th>                    <td>    3.8596</td> <td>    0.157</td> <td>   24.528</td> <td> 0.000</td> <td>    3.551</td> <td>    4.168</td>\n",
       "</tr>\n",
       "<tr>\n",
       "  <th>Page Views Per Visit</th>                           <td>   -1.4436</td> <td>    0.303</td> <td>   -4.762</td> <td> 0.000</td> <td>   -2.038</td> <td>   -0.849</td>\n",
       "</tr>\n",
       "<tr>\n",
       "  <th>Through Recommendations</th>                        <td>   21.8608</td> <td> 2.15e+04</td> <td>    0.001</td> <td> 0.999</td> <td>-4.21e+04</td> <td> 4.22e+04</td>\n",
       "</tr>\n",
       "<tr>\n",
       "  <th>Lead Origin_Lead Add Form</th>                      <td>    2.8133</td> <td>    0.257</td> <td>   10.951</td> <td> 0.000</td> <td>    2.310</td> <td>    3.317</td>\n",
       "</tr>\n",
       "<tr>\n",
       "  <th>Lead Source_Not Sure</th>                           <td>    0.9897</td> <td>    0.723</td> <td>    1.368</td> <td> 0.171</td> <td>   -0.428</td> <td>    2.407</td>\n",
       "</tr>\n",
       "<tr>\n",
       "  <th>Lead Source_Olark Chat</th>                         <td>    1.4053</td> <td>    0.143</td> <td>    9.856</td> <td> 0.000</td> <td>    1.126</td> <td>    1.685</td>\n",
       "</tr>\n",
       "<tr>\n",
       "  <th>Lead Source_Welingak Website</th>                   <td>    4.3965</td> <td>    1.037</td> <td>    4.239</td> <td> 0.000</td> <td>    2.364</td> <td>    6.429</td>\n",
       "</tr>\n",
       "<tr>\n",
       "  <th>Last Activity_Not Sure</th>                         <td>   -1.8863</td> <td>    0.489</td> <td>   -3.861</td> <td> 0.000</td> <td>   -2.844</td> <td>   -0.929</td>\n",
       "</tr>\n",
       "<tr>\n",
       "  <th>Last Activity_Olark Chat Conversation</th>          <td>   -1.2770</td> <td>    0.181</td> <td>   -7.058</td> <td> 0.000</td> <td>   -1.632</td> <td>   -0.922</td>\n",
       "</tr>\n",
       "<tr>\n",
       "  <th>Last Activity_View in browser link Clicked</th>     <td>  -22.4642</td> <td> 1.89e+04</td> <td>   -0.001</td> <td> 0.999</td> <td>-3.71e+04</td> <td>  3.7e+04</td>\n",
       "</tr>\n",
       "<tr>\n",
       "  <th>Lead Quality_Might be</th>                          <td>   -1.3255</td> <td>    0.151</td> <td>   -8.755</td> <td> 0.000</td> <td>   -1.622</td> <td>   -1.029</td>\n",
       "</tr>\n",
       "<tr>\n",
       "  <th>Lead Quality_Not Sure</th>                          <td>   -3.3479</td> <td>    0.135</td> <td>  -24.819</td> <td> 0.000</td> <td>   -3.612</td> <td>   -3.084</td>\n",
       "</tr>\n",
       "<tr>\n",
       "  <th>Lead Quality_Worst</th>                             <td>   -5.5271</td> <td>    0.390</td> <td>  -14.159</td> <td> 0.000</td> <td>   -6.292</td> <td>   -4.762</td>\n",
       "</tr>\n",
       "<tr>\n",
       "  <th>Last Notable Activity_Had a Phone Conversation</th> <td>    2.5244</td> <td>    1.228</td> <td>    2.056</td> <td> 0.040</td> <td>    0.118</td> <td>    4.930</td>\n",
       "</tr>\n",
       "<tr>\n",
       "  <th>Last Notable Activity_SMS Sent</th>                 <td>    1.7672</td> <td>    0.092</td> <td>   19.301</td> <td> 0.000</td> <td>    1.588</td> <td>    1.947</td>\n",
       "</tr>\n",
       "<tr>\n",
       "  <th>Last Notable Activity_Unreachable</th>              <td>    1.3535</td> <td>    0.556</td> <td>    2.433</td> <td> 0.015</td> <td>    0.263</td> <td>    2.444</td>\n",
       "</tr>\n",
       "</table>"
      ],
      "text/plain": [
       "<class 'statsmodels.iolib.summary.Summary'>\n",
       "\"\"\"\n",
       "                 Generalized Linear Model Regression Results                  \n",
       "==============================================================================\n",
       "Dep. Variable:              Converted   No. Observations:                 6298\n",
       "Model:                            GLM   Df Residuals:                     6279\n",
       "Model Family:                Binomial   Df Model:                           18\n",
       "Link Function:                  logit   Scale:                          1.0000\n",
       "Method:                          IRLS   Log-Likelihood:                -2106.5\n",
       "Date:                Tue, 18 Jul 2023   Deviance:                       4213.0\n",
       "Time:                        09:14:34   Pearson chi2:                 6.31e+03\n",
       "No. Iterations:                    21                                         \n",
       "Covariance Type:            nonrobust                                         \n",
       "==================================================================================================================\n",
       "                                                     coef    std err          z      P>|z|      [0.025      0.975]\n",
       "------------------------------------------------------------------------------------------------------------------\n",
       "const                                              0.3353      0.162      2.064      0.039       0.017       0.654\n",
       "Do Not Email                                      -1.1844      0.184     -6.436      0.000      -1.545      -0.824\n",
       "TotalVisits                                        1.4040      0.335      4.185      0.000       0.746       2.062\n",
       "Total Time Spent on Website                        3.8596      0.157     24.528      0.000       3.551       4.168\n",
       "Page Views Per Visit                              -1.4436      0.303     -4.762      0.000      -2.038      -0.849\n",
       "Through Recommendations                           21.8608   2.15e+04      0.001      0.999   -4.21e+04    4.22e+04\n",
       "Lead Origin_Lead Add Form                          2.8133      0.257     10.951      0.000       2.310       3.317\n",
       "Lead Source_Not Sure                               0.9897      0.723      1.368      0.171      -0.428       2.407\n",
       "Lead Source_Olark Chat                             1.4053      0.143      9.856      0.000       1.126       1.685\n",
       "Lead Source_Welingak Website                       4.3965      1.037      4.239      0.000       2.364       6.429\n",
       "Last Activity_Not Sure                            -1.8863      0.489     -3.861      0.000      -2.844      -0.929\n",
       "Last Activity_Olark Chat Conversation             -1.2770      0.181     -7.058      0.000      -1.632      -0.922\n",
       "Last Activity_View in browser link Clicked       -22.4642   1.89e+04     -0.001      0.999   -3.71e+04     3.7e+04\n",
       "Lead Quality_Might be                             -1.3255      0.151     -8.755      0.000      -1.622      -1.029\n",
       "Lead Quality_Not Sure                             -3.3479      0.135    -24.819      0.000      -3.612      -3.084\n",
       "Lead Quality_Worst                                -5.5271      0.390    -14.159      0.000      -6.292      -4.762\n",
       "Last Notable Activity_Had a Phone Conversation     2.5244      1.228      2.056      0.040       0.118       4.930\n",
       "Last Notable Activity_SMS Sent                     1.7672      0.092     19.301      0.000       1.588       1.947\n",
       "Last Notable Activity_Unreachable                  1.3535      0.556      2.433      0.015       0.263       2.444\n",
       "==================================================================================================================\n",
       "\"\"\""
      ]
     },
     "execution_count": 85,
     "metadata": {},
     "output_type": "execute_result"
    }
   ],
   "source": [
    "X_train_sm = sm.add_constant(X_train[col])\n",
    "logm2 = sm.GLM(y_train,X_train_sm, family = sm.families.Binomial())\n",
    "res = logm2.fit()\n",
    "res.summary()"
   ]
  },
  {
   "cell_type": "code",
   "execution_count": 86,
   "metadata": {},
   "outputs": [
    {
     "data": {
      "text/html": [
       "<div>\n",
       "<style scoped>\n",
       "    .dataframe tbody tr th:only-of-type {\n",
       "        vertical-align: middle;\n",
       "    }\n",
       "\n",
       "    .dataframe tbody tr th {\n",
       "        vertical-align: top;\n",
       "    }\n",
       "\n",
       "    .dataframe thead th {\n",
       "        text-align: right;\n",
       "    }\n",
       "</style>\n",
       "<table border=\"1\" class=\"dataframe\">\n",
       "  <thead>\n",
       "    <tr style=\"text-align: right;\">\n",
       "      <th></th>\n",
       "      <th>Features</th>\n",
       "      <th>VIF</th>\n",
       "    </tr>\n",
       "  </thead>\n",
       "  <tbody>\n",
       "    <tr>\n",
       "      <td>3</td>\n",
       "      <td>Page Views Per Visit</td>\n",
       "      <td>5.76</td>\n",
       "    </tr>\n",
       "    <tr>\n",
       "      <td>1</td>\n",
       "      <td>TotalVisits</td>\n",
       "      <td>4.88</td>\n",
       "    </tr>\n",
       "    <tr>\n",
       "      <td>13</td>\n",
       "      <td>Lead Quality_Not Sure</td>\n",
       "      <td>3.30</td>\n",
       "    </tr>\n",
       "    <tr>\n",
       "      <td>2</td>\n",
       "      <td>Total Time Spent on Website</td>\n",
       "      <td>2.10</td>\n",
       "    </tr>\n",
       "    <tr>\n",
       "      <td>7</td>\n",
       "      <td>Lead Source_Olark Chat</td>\n",
       "      <td>1.96</td>\n",
       "    </tr>\n",
       "    <tr>\n",
       "      <td>12</td>\n",
       "      <td>Lead Quality_Might be</td>\n",
       "      <td>1.82</td>\n",
       "    </tr>\n",
       "    <tr>\n",
       "      <td>5</td>\n",
       "      <td>Lead Origin_Lead Add Form</td>\n",
       "      <td>1.58</td>\n",
       "    </tr>\n",
       "    <tr>\n",
       "      <td>16</td>\n",
       "      <td>Last Notable Activity_SMS Sent</td>\n",
       "      <td>1.54</td>\n",
       "    </tr>\n",
       "    <tr>\n",
       "      <td>10</td>\n",
       "      <td>Last Activity_Olark Chat Conversation</td>\n",
       "      <td>1.45</td>\n",
       "    </tr>\n",
       "    <tr>\n",
       "      <td>8</td>\n",
       "      <td>Lead Source_Welingak Website</td>\n",
       "      <td>1.29</td>\n",
       "    </tr>\n",
       "    <tr>\n",
       "      <td>14</td>\n",
       "      <td>Lead Quality_Worst</td>\n",
       "      <td>1.20</td>\n",
       "    </tr>\n",
       "    <tr>\n",
       "      <td>9</td>\n",
       "      <td>Last Activity_Not Sure</td>\n",
       "      <td>1.18</td>\n",
       "    </tr>\n",
       "    <tr>\n",
       "      <td>0</td>\n",
       "      <td>Do Not Email</td>\n",
       "      <td>1.12</td>\n",
       "    </tr>\n",
       "    <tr>\n",
       "      <td>6</td>\n",
       "      <td>Lead Source_Not Sure</td>\n",
       "      <td>1.08</td>\n",
       "    </tr>\n",
       "    <tr>\n",
       "      <td>4</td>\n",
       "      <td>Through Recommendations</td>\n",
       "      <td>1.02</td>\n",
       "    </tr>\n",
       "    <tr>\n",
       "      <td>17</td>\n",
       "      <td>Last Notable Activity_Unreachable</td>\n",
       "      <td>1.02</td>\n",
       "    </tr>\n",
       "    <tr>\n",
       "      <td>15</td>\n",
       "      <td>Last Notable Activity_Had a Phone Conversation</td>\n",
       "      <td>1.01</td>\n",
       "    </tr>\n",
       "    <tr>\n",
       "      <td>11</td>\n",
       "      <td>Last Activity_View in browser link Clicked</td>\n",
       "      <td>1.00</td>\n",
       "    </tr>\n",
       "  </tbody>\n",
       "</table>\n",
       "</div>"
      ],
      "text/plain": [
       "                                          Features   VIF\n",
       "3                             Page Views Per Visit  5.76\n",
       "1                                      TotalVisits  4.88\n",
       "13                           Lead Quality_Not Sure  3.30\n",
       "2                      Total Time Spent on Website  2.10\n",
       "7                           Lead Source_Olark Chat  1.96\n",
       "12                           Lead Quality_Might be  1.82\n",
       "5                        Lead Origin_Lead Add Form  1.58\n",
       "16                  Last Notable Activity_SMS Sent  1.54\n",
       "10           Last Activity_Olark Chat Conversation  1.45\n",
       "8                     Lead Source_Welingak Website  1.29\n",
       "14                              Lead Quality_Worst  1.20\n",
       "9                           Last Activity_Not Sure  1.18\n",
       "0                                     Do Not Email  1.12\n",
       "6                             Lead Source_Not Sure  1.08\n",
       "4                          Through Recommendations  1.02\n",
       "17               Last Notable Activity_Unreachable  1.02\n",
       "15  Last Notable Activity_Had a Phone Conversation  1.01\n",
       "11      Last Activity_View in browser link Clicked  1.00"
      ]
     },
     "execution_count": 86,
     "metadata": {},
     "output_type": "execute_result"
    }
   ],
   "source": [
    "#Checking VIF for manual fine tuning\n",
    "vif = pd.DataFrame()\n",
    "vif['Features'] = X_train[col].columns\n",
    "vif['VIF'] = [variance_inflation_factor(X_train[col].values, i) for i in range(X_train[col].shape[1])]\n",
    "vif['VIF'] = round(vif['VIF'], 2)\n",
    "vif = vif.sort_values(by = \"VIF\", ascending = False)\n",
    "vif"
   ]
  },
  {
   "cell_type": "markdown",
   "metadata": {},
   "source": [
    "#### Model 4 - without Through Recommendations as it is not significant"
   ]
  },
  {
   "cell_type": "code",
   "execution_count": 87,
   "metadata": {},
   "outputs": [],
   "source": [
    "X_train = X_train.drop(\"Through Recommendations\",axis=1)\n",
    "col = col.drop(\"Through Recommendations\")"
   ]
  },
  {
   "cell_type": "code",
   "execution_count": 88,
   "metadata": {},
   "outputs": [
    {
     "data": {
      "text/html": [
       "<table class=\"simpletable\">\n",
       "<caption>Generalized Linear Model Regression Results</caption>\n",
       "<tr>\n",
       "  <th>Dep. Variable:</th>       <td>Converted</td>    <th>  No. Observations:  </th>  <td>  6298</td> \n",
       "</tr>\n",
       "<tr>\n",
       "  <th>Model:</th>                  <td>GLM</td>       <th>  Df Residuals:      </th>  <td>  6280</td> \n",
       "</tr>\n",
       "<tr>\n",
       "  <th>Model Family:</th>        <td>Binomial</td>     <th>  Df Model:          </th>  <td>    17</td> \n",
       "</tr>\n",
       "<tr>\n",
       "  <th>Link Function:</th>         <td>logit</td>      <th>  Scale:             </th> <td>  1.0000</td>\n",
       "</tr>\n",
       "<tr>\n",
       "  <th>Method:</th>                <td>IRLS</td>       <th>  Log-Likelihood:    </th> <td> -2108.1</td>\n",
       "</tr>\n",
       "<tr>\n",
       "  <th>Date:</th>            <td>Tue, 18 Jul 2023</td> <th>  Deviance:          </th> <td>  4216.2</td>\n",
       "</tr>\n",
       "<tr>\n",
       "  <th>Time:</th>                <td>09:14:35</td>     <th>  Pearson chi2:      </th> <td>6.31e+03</td>\n",
       "</tr>\n",
       "<tr>\n",
       "  <th>No. Iterations:</th>         <td>20</td>        <th>                     </th>     <td> </td>   \n",
       "</tr>\n",
       "<tr>\n",
       "  <th>Covariance Type:</th>     <td>nonrobust</td>    <th>                     </th>     <td> </td>   \n",
       "</tr>\n",
       "</table>\n",
       "<table class=\"simpletable\">\n",
       "<tr>\n",
       "                         <td></td>                           <th>coef</th>     <th>std err</th>      <th>z</th>      <th>P>|z|</th>  <th>[0.025</th>    <th>0.975]</th>  \n",
       "</tr>\n",
       "<tr>\n",
       "  <th>const</th>                                          <td>    0.3339</td> <td>    0.162</td> <td>    2.057</td> <td> 0.040</td> <td>    0.016</td> <td>    0.652</td>\n",
       "</tr>\n",
       "<tr>\n",
       "  <th>Do Not Email</th>                                   <td>   -1.1860</td> <td>    0.184</td> <td>   -6.443</td> <td> 0.000</td> <td>   -1.547</td> <td>   -0.825</td>\n",
       "</tr>\n",
       "<tr>\n",
       "  <th>TotalVisits</th>                                    <td>    1.4158</td> <td>    0.335</td> <td>    4.224</td> <td> 0.000</td> <td>    0.759</td> <td>    2.073</td>\n",
       "</tr>\n",
       "<tr>\n",
       "  <th>Total Time Spent on Website</th>                    <td>    3.8584</td> <td>    0.157</td> <td>   24.533</td> <td> 0.000</td> <td>    3.550</td> <td>    4.167</td>\n",
       "</tr>\n",
       "<tr>\n",
       "  <th>Page Views Per Visit</th>                           <td>   -1.4453</td> <td>    0.302</td> <td>   -4.778</td> <td> 0.000</td> <td>   -2.038</td> <td>   -0.852</td>\n",
       "</tr>\n",
       "<tr>\n",
       "  <th>Lead Origin_Lead Add Form</th>                      <td>    2.8118</td> <td>    0.257</td> <td>   10.946</td> <td> 0.000</td> <td>    2.308</td> <td>    3.315</td>\n",
       "</tr>\n",
       "<tr>\n",
       "  <th>Lead Source_Not Sure</th>                           <td>    0.9908</td> <td>    0.723</td> <td>    1.369</td> <td> 0.171</td> <td>   -0.427</td> <td>    2.409</td>\n",
       "</tr>\n",
       "<tr>\n",
       "  <th>Lead Source_Olark Chat</th>                         <td>    1.4057</td> <td>    0.142</td> <td>    9.868</td> <td> 0.000</td> <td>    1.127</td> <td>    1.685</td>\n",
       "</tr>\n",
       "<tr>\n",
       "  <th>Lead Source_Welingak Website</th>                   <td>    4.3988</td> <td>    1.037</td> <td>    4.242</td> <td> 0.000</td> <td>    2.366</td> <td>    6.431</td>\n",
       "</tr>\n",
       "<tr>\n",
       "  <th>Last Activity_Not Sure</th>                         <td>   -1.8872</td> <td>    0.488</td> <td>   -3.863</td> <td> 0.000</td> <td>   -2.845</td> <td>   -0.930</td>\n",
       "</tr>\n",
       "<tr>\n",
       "  <th>Last Activity_Olark Chat Conversation</th>          <td>   -1.2788</td> <td>    0.181</td> <td>   -7.067</td> <td> 0.000</td> <td>   -1.633</td> <td>   -0.924</td>\n",
       "</tr>\n",
       "<tr>\n",
       "  <th>Last Activity_View in browser link Clicked</th>     <td>  -21.4636</td> <td> 1.15e+04</td> <td>   -0.002</td> <td> 0.999</td> <td>-2.25e+04</td> <td> 2.24e+04</td>\n",
       "</tr>\n",
       "<tr>\n",
       "  <th>Lead Quality_Might be</th>                          <td>   -1.3157</td> <td>    0.151</td> <td>   -8.696</td> <td> 0.000</td> <td>   -1.612</td> <td>   -1.019</td>\n",
       "</tr>\n",
       "<tr>\n",
       "  <th>Lead Quality_Not Sure</th>                          <td>   -3.3469</td> <td>    0.135</td> <td>  -24.814</td> <td> 0.000</td> <td>   -3.611</td> <td>   -3.083</td>\n",
       "</tr>\n",
       "<tr>\n",
       "  <th>Lead Quality_Worst</th>                             <td>   -5.5269</td> <td>    0.390</td> <td>  -14.159</td> <td> 0.000</td> <td>   -6.292</td> <td>   -4.762</td>\n",
       "</tr>\n",
       "<tr>\n",
       "  <th>Last Notable Activity_Had a Phone Conversation</th> <td>    2.5188</td> <td>    1.229</td> <td>    2.050</td> <td> 0.040</td> <td>    0.111</td> <td>    4.927</td>\n",
       "</tr>\n",
       "<tr>\n",
       "  <th>Last Notable Activity_SMS Sent</th>                 <td>    1.7638</td> <td>    0.092</td> <td>   19.269</td> <td> 0.000</td> <td>    1.584</td> <td>    1.943</td>\n",
       "</tr>\n",
       "<tr>\n",
       "  <th>Last Notable Activity_Unreachable</th>              <td>    1.3650</td> <td>    0.552</td> <td>    2.471</td> <td> 0.013</td> <td>    0.282</td> <td>    2.448</td>\n",
       "</tr>\n",
       "</table>"
      ],
      "text/plain": [
       "<class 'statsmodels.iolib.summary.Summary'>\n",
       "\"\"\"\n",
       "                 Generalized Linear Model Regression Results                  \n",
       "==============================================================================\n",
       "Dep. Variable:              Converted   No. Observations:                 6298\n",
       "Model:                            GLM   Df Residuals:                     6280\n",
       "Model Family:                Binomial   Df Model:                           17\n",
       "Link Function:                  logit   Scale:                          1.0000\n",
       "Method:                          IRLS   Log-Likelihood:                -2108.1\n",
       "Date:                Tue, 18 Jul 2023   Deviance:                       4216.2\n",
       "Time:                        09:14:35   Pearson chi2:                 6.31e+03\n",
       "No. Iterations:                    20                                         \n",
       "Covariance Type:            nonrobust                                         \n",
       "==================================================================================================================\n",
       "                                                     coef    std err          z      P>|z|      [0.025      0.975]\n",
       "------------------------------------------------------------------------------------------------------------------\n",
       "const                                              0.3339      0.162      2.057      0.040       0.016       0.652\n",
       "Do Not Email                                      -1.1860      0.184     -6.443      0.000      -1.547      -0.825\n",
       "TotalVisits                                        1.4158      0.335      4.224      0.000       0.759       2.073\n",
       "Total Time Spent on Website                        3.8584      0.157     24.533      0.000       3.550       4.167\n",
       "Page Views Per Visit                              -1.4453      0.302     -4.778      0.000      -2.038      -0.852\n",
       "Lead Origin_Lead Add Form                          2.8118      0.257     10.946      0.000       2.308       3.315\n",
       "Lead Source_Not Sure                               0.9908      0.723      1.369      0.171      -0.427       2.409\n",
       "Lead Source_Olark Chat                             1.4057      0.142      9.868      0.000       1.127       1.685\n",
       "Lead Source_Welingak Website                       4.3988      1.037      4.242      0.000       2.366       6.431\n",
       "Last Activity_Not Sure                            -1.8872      0.488     -3.863      0.000      -2.845      -0.930\n",
       "Last Activity_Olark Chat Conversation             -1.2788      0.181     -7.067      0.000      -1.633      -0.924\n",
       "Last Activity_View in browser link Clicked       -21.4636   1.15e+04     -0.002      0.999   -2.25e+04    2.24e+04\n",
       "Lead Quality_Might be                             -1.3157      0.151     -8.696      0.000      -1.612      -1.019\n",
       "Lead Quality_Not Sure                             -3.3469      0.135    -24.814      0.000      -3.611      -3.083\n",
       "Lead Quality_Worst                                -5.5269      0.390    -14.159      0.000      -6.292      -4.762\n",
       "Last Notable Activity_Had a Phone Conversation     2.5188      1.229      2.050      0.040       0.111       4.927\n",
       "Last Notable Activity_SMS Sent                     1.7638      0.092     19.269      0.000       1.584       1.943\n",
       "Last Notable Activity_Unreachable                  1.3650      0.552      2.471      0.013       0.282       2.448\n",
       "==================================================================================================================\n",
       "\"\"\""
      ]
     },
     "execution_count": 88,
     "metadata": {},
     "output_type": "execute_result"
    }
   ],
   "source": [
    "X_train_sm = sm.add_constant(X_train[col])\n",
    "logm2 = sm.GLM(y_train,X_train_sm, family = sm.families.Binomial())\n",
    "res = logm2.fit()\n",
    "res.summary()"
   ]
  },
  {
   "cell_type": "code",
   "execution_count": 89,
   "metadata": {},
   "outputs": [
    {
     "data": {
      "text/html": [
       "<div>\n",
       "<style scoped>\n",
       "    .dataframe tbody tr th:only-of-type {\n",
       "        vertical-align: middle;\n",
       "    }\n",
       "\n",
       "    .dataframe tbody tr th {\n",
       "        vertical-align: top;\n",
       "    }\n",
       "\n",
       "    .dataframe thead th {\n",
       "        text-align: right;\n",
       "    }\n",
       "</style>\n",
       "<table border=\"1\" class=\"dataframe\">\n",
       "  <thead>\n",
       "    <tr style=\"text-align: right;\">\n",
       "      <th></th>\n",
       "      <th>Features</th>\n",
       "      <th>VIF</th>\n",
       "    </tr>\n",
       "  </thead>\n",
       "  <tbody>\n",
       "    <tr>\n",
       "      <td>3</td>\n",
       "      <td>Page Views Per Visit</td>\n",
       "      <td>5.76</td>\n",
       "    </tr>\n",
       "    <tr>\n",
       "      <td>1</td>\n",
       "      <td>TotalVisits</td>\n",
       "      <td>4.88</td>\n",
       "    </tr>\n",
       "    <tr>\n",
       "      <td>12</td>\n",
       "      <td>Lead Quality_Not Sure</td>\n",
       "      <td>3.30</td>\n",
       "    </tr>\n",
       "    <tr>\n",
       "      <td>2</td>\n",
       "      <td>Total Time Spent on Website</td>\n",
       "      <td>2.10</td>\n",
       "    </tr>\n",
       "    <tr>\n",
       "      <td>6</td>\n",
       "      <td>Lead Source_Olark Chat</td>\n",
       "      <td>1.96</td>\n",
       "    </tr>\n",
       "    <tr>\n",
       "      <td>11</td>\n",
       "      <td>Lead Quality_Might be</td>\n",
       "      <td>1.82</td>\n",
       "    </tr>\n",
       "    <tr>\n",
       "      <td>4</td>\n",
       "      <td>Lead Origin_Lead Add Form</td>\n",
       "      <td>1.58</td>\n",
       "    </tr>\n",
       "    <tr>\n",
       "      <td>15</td>\n",
       "      <td>Last Notable Activity_SMS Sent</td>\n",
       "      <td>1.54</td>\n",
       "    </tr>\n",
       "    <tr>\n",
       "      <td>9</td>\n",
       "      <td>Last Activity_Olark Chat Conversation</td>\n",
       "      <td>1.45</td>\n",
       "    </tr>\n",
       "    <tr>\n",
       "      <td>7</td>\n",
       "      <td>Lead Source_Welingak Website</td>\n",
       "      <td>1.29</td>\n",
       "    </tr>\n",
       "    <tr>\n",
       "      <td>13</td>\n",
       "      <td>Lead Quality_Worst</td>\n",
       "      <td>1.20</td>\n",
       "    </tr>\n",
       "    <tr>\n",
       "      <td>8</td>\n",
       "      <td>Last Activity_Not Sure</td>\n",
       "      <td>1.18</td>\n",
       "    </tr>\n",
       "    <tr>\n",
       "      <td>0</td>\n",
       "      <td>Do Not Email</td>\n",
       "      <td>1.12</td>\n",
       "    </tr>\n",
       "    <tr>\n",
       "      <td>5</td>\n",
       "      <td>Lead Source_Not Sure</td>\n",
       "      <td>1.08</td>\n",
       "    </tr>\n",
       "    <tr>\n",
       "      <td>14</td>\n",
       "      <td>Last Notable Activity_Had a Phone Conversation</td>\n",
       "      <td>1.01</td>\n",
       "    </tr>\n",
       "    <tr>\n",
       "      <td>16</td>\n",
       "      <td>Last Notable Activity_Unreachable</td>\n",
       "      <td>1.01</td>\n",
       "    </tr>\n",
       "    <tr>\n",
       "      <td>10</td>\n",
       "      <td>Last Activity_View in browser link Clicked</td>\n",
       "      <td>1.00</td>\n",
       "    </tr>\n",
       "  </tbody>\n",
       "</table>\n",
       "</div>"
      ],
      "text/plain": [
       "                                          Features   VIF\n",
       "3                             Page Views Per Visit  5.76\n",
       "1                                      TotalVisits  4.88\n",
       "12                           Lead Quality_Not Sure  3.30\n",
       "2                      Total Time Spent on Website  2.10\n",
       "6                           Lead Source_Olark Chat  1.96\n",
       "11                           Lead Quality_Might be  1.82\n",
       "4                        Lead Origin_Lead Add Form  1.58\n",
       "15                  Last Notable Activity_SMS Sent  1.54\n",
       "9            Last Activity_Olark Chat Conversation  1.45\n",
       "7                     Lead Source_Welingak Website  1.29\n",
       "13                              Lead Quality_Worst  1.20\n",
       "8                           Last Activity_Not Sure  1.18\n",
       "0                                     Do Not Email  1.12\n",
       "5                             Lead Source_Not Sure  1.08\n",
       "14  Last Notable Activity_Had a Phone Conversation  1.01\n",
       "16               Last Notable Activity_Unreachable  1.01\n",
       "10      Last Activity_View in browser link Clicked  1.00"
      ]
     },
     "execution_count": 89,
     "metadata": {},
     "output_type": "execute_result"
    }
   ],
   "source": [
    "vif = pd.DataFrame()\n",
    "vif['Features'] = X_train[col].columns\n",
    "vif['VIF'] = [variance_inflation_factor(X_train[col].values, i) for i in range(X_train[col].shape[1])]\n",
    "vif['VIF'] = round(vif['VIF'], 2)\n",
    "vif = vif.sort_values(by = \"VIF\", ascending = False)\n",
    "vif"
   ]
  },
  {
   "cell_type": "markdown",
   "metadata": {},
   "source": [
    "#### Model 5 - without Last Activity_View in browser link Clicked as it is not significant"
   ]
  },
  {
   "cell_type": "code",
   "execution_count": 90,
   "metadata": {},
   "outputs": [],
   "source": [
    "X_train = X_train.drop(\"Last Activity_View in browser link Clicked\",axis=1)\n",
    "col = col.drop(\"Last Activity_View in browser link Clicked\")"
   ]
  },
  {
   "cell_type": "code",
   "execution_count": 91,
   "metadata": {},
   "outputs": [
    {
     "data": {
      "text/html": [
       "<table class=\"simpletable\">\n",
       "<caption>Generalized Linear Model Regression Results</caption>\n",
       "<tr>\n",
       "  <th>Dep. Variable:</th>       <td>Converted</td>    <th>  No. Observations:  </th>  <td>  6298</td> \n",
       "</tr>\n",
       "<tr>\n",
       "  <th>Model:</th>                  <td>GLM</td>       <th>  Df Residuals:      </th>  <td>  6281</td> \n",
       "</tr>\n",
       "<tr>\n",
       "  <th>Model Family:</th>        <td>Binomial</td>     <th>  Df Model:          </th>  <td>    16</td> \n",
       "</tr>\n",
       "<tr>\n",
       "  <th>Link Function:</th>         <td>logit</td>      <th>  Scale:             </th> <td>  1.0000</td>\n",
       "</tr>\n",
       "<tr>\n",
       "  <th>Method:</th>                <td>IRLS</td>       <th>  Log-Likelihood:    </th> <td> -2110.2</td>\n",
       "</tr>\n",
       "<tr>\n",
       "  <th>Date:</th>            <td>Tue, 18 Jul 2023</td> <th>  Deviance:          </th> <td>  4220.3</td>\n",
       "</tr>\n",
       "<tr>\n",
       "  <th>Time:</th>                <td>09:14:35</td>     <th>  Pearson chi2:      </th> <td>6.31e+03</td>\n",
       "</tr>\n",
       "<tr>\n",
       "  <th>No. Iterations:</th>          <td>7</td>        <th>                     </th>     <td> </td>   \n",
       "</tr>\n",
       "<tr>\n",
       "  <th>Covariance Type:</th>     <td>nonrobust</td>    <th>                     </th>     <td> </td>   \n",
       "</tr>\n",
       "</table>\n",
       "<table class=\"simpletable\">\n",
       "<tr>\n",
       "                         <td></td>                           <th>coef</th>     <th>std err</th>      <th>z</th>      <th>P>|z|</th>  <th>[0.025</th>    <th>0.975]</th>  \n",
       "</tr>\n",
       "<tr>\n",
       "  <th>const</th>                                          <td>    0.3206</td> <td>    0.162</td> <td>    1.980</td> <td> 0.048</td> <td>    0.003</td> <td>    0.638</td>\n",
       "</tr>\n",
       "<tr>\n",
       "  <th>Do Not Email</th>                                   <td>   -1.1849</td> <td>    0.184</td> <td>   -6.439</td> <td> 0.000</td> <td>   -1.546</td> <td>   -0.824</td>\n",
       "</tr>\n",
       "<tr>\n",
       "  <th>TotalVisits</th>                                    <td>    1.4161</td> <td>    0.335</td> <td>    4.228</td> <td> 0.000</td> <td>    0.760</td> <td>    2.073</td>\n",
       "</tr>\n",
       "<tr>\n",
       "  <th>Total Time Spent on Website</th>                    <td>    3.8590</td> <td>    0.157</td> <td>   24.553</td> <td> 0.000</td> <td>    3.551</td> <td>    4.167</td>\n",
       "</tr>\n",
       "<tr>\n",
       "  <th>Page Views Per Visit</th>                           <td>   -1.4424</td> <td>    0.302</td> <td>   -4.772</td> <td> 0.000</td> <td>   -2.035</td> <td>   -0.850</td>\n",
       "</tr>\n",
       "<tr>\n",
       "  <th>Lead Origin_Lead Add Form</th>                      <td>    2.8157</td> <td>    0.257</td> <td>   10.967</td> <td> 0.000</td> <td>    2.313</td> <td>    3.319</td>\n",
       "</tr>\n",
       "<tr>\n",
       "  <th>Lead Source_Not Sure</th>                           <td>    0.9868</td> <td>    0.723</td> <td>    1.364</td> <td> 0.173</td> <td>   -0.431</td> <td>    2.405</td>\n",
       "</tr>\n",
       "<tr>\n",
       "  <th>Lead Source_Olark Chat</th>                         <td>    1.3988</td> <td>    0.142</td> <td>    9.825</td> <td> 0.000</td> <td>    1.120</td> <td>    1.678</td>\n",
       "</tr>\n",
       "<tr>\n",
       "  <th>Lead Source_Welingak Website</th>                   <td>    4.3937</td> <td>    1.037</td> <td>    4.237</td> <td> 0.000</td> <td>    2.361</td> <td>    6.426</td>\n",
       "</tr>\n",
       "<tr>\n",
       "  <th>Last Activity_Not Sure</th>                         <td>   -1.8836</td> <td>    0.488</td> <td>   -3.858</td> <td> 0.000</td> <td>   -2.840</td> <td>   -0.927</td>\n",
       "</tr>\n",
       "<tr>\n",
       "  <th>Last Activity_Olark Chat Conversation</th>          <td>   -1.2726</td> <td>    0.181</td> <td>   -7.035</td> <td> 0.000</td> <td>   -1.627</td> <td>   -0.918</td>\n",
       "</tr>\n",
       "<tr>\n",
       "  <th>Lead Quality_Might be</th>                          <td>   -1.3036</td> <td>    0.151</td> <td>   -8.640</td> <td> 0.000</td> <td>   -1.599</td> <td>   -1.008</td>\n",
       "</tr>\n",
       "<tr>\n",
       "  <th>Lead Quality_Not Sure</th>                          <td>   -3.3339</td> <td>    0.134</td> <td>  -24.814</td> <td> 0.000</td> <td>   -3.597</td> <td>   -3.071</td>\n",
       "</tr>\n",
       "<tr>\n",
       "  <th>Lead Quality_Worst</th>                             <td>   -5.5137</td> <td>    0.390</td> <td>  -14.132</td> <td> 0.000</td> <td>   -6.278</td> <td>   -4.749</td>\n",
       "</tr>\n",
       "<tr>\n",
       "  <th>Last Notable Activity_Had a Phone Conversation</th> <td>    2.5199</td> <td>    1.228</td> <td>    2.052</td> <td> 0.040</td> <td>    0.113</td> <td>    4.927</td>\n",
       "</tr>\n",
       "<tr>\n",
       "  <th>Last Notable Activity_SMS Sent</th>                 <td>    1.7645</td> <td>    0.092</td> <td>   19.280</td> <td> 0.000</td> <td>    1.585</td> <td>    1.944</td>\n",
       "</tr>\n",
       "<tr>\n",
       "  <th>Last Notable Activity_Unreachable</th>              <td>    1.3668</td> <td>    0.552</td> <td>    2.475</td> <td> 0.013</td> <td>    0.284</td> <td>    2.449</td>\n",
       "</tr>\n",
       "</table>"
      ],
      "text/plain": [
       "<class 'statsmodels.iolib.summary.Summary'>\n",
       "\"\"\"\n",
       "                 Generalized Linear Model Regression Results                  \n",
       "==============================================================================\n",
       "Dep. Variable:              Converted   No. Observations:                 6298\n",
       "Model:                            GLM   Df Residuals:                     6281\n",
       "Model Family:                Binomial   Df Model:                           16\n",
       "Link Function:                  logit   Scale:                          1.0000\n",
       "Method:                          IRLS   Log-Likelihood:                -2110.2\n",
       "Date:                Tue, 18 Jul 2023   Deviance:                       4220.3\n",
       "Time:                        09:14:35   Pearson chi2:                 6.31e+03\n",
       "No. Iterations:                     7                                         \n",
       "Covariance Type:            nonrobust                                         \n",
       "==================================================================================================================\n",
       "                                                     coef    std err          z      P>|z|      [0.025      0.975]\n",
       "------------------------------------------------------------------------------------------------------------------\n",
       "const                                              0.3206      0.162      1.980      0.048       0.003       0.638\n",
       "Do Not Email                                      -1.1849      0.184     -6.439      0.000      -1.546      -0.824\n",
       "TotalVisits                                        1.4161      0.335      4.228      0.000       0.760       2.073\n",
       "Total Time Spent on Website                        3.8590      0.157     24.553      0.000       3.551       4.167\n",
       "Page Views Per Visit                              -1.4424      0.302     -4.772      0.000      -2.035      -0.850\n",
       "Lead Origin_Lead Add Form                          2.8157      0.257     10.967      0.000       2.313       3.319\n",
       "Lead Source_Not Sure                               0.9868      0.723      1.364      0.173      -0.431       2.405\n",
       "Lead Source_Olark Chat                             1.3988      0.142      9.825      0.000       1.120       1.678\n",
       "Lead Source_Welingak Website                       4.3937      1.037      4.237      0.000       2.361       6.426\n",
       "Last Activity_Not Sure                            -1.8836      0.488     -3.858      0.000      -2.840      -0.927\n",
       "Last Activity_Olark Chat Conversation             -1.2726      0.181     -7.035      0.000      -1.627      -0.918\n",
       "Lead Quality_Might be                             -1.3036      0.151     -8.640      0.000      -1.599      -1.008\n",
       "Lead Quality_Not Sure                             -3.3339      0.134    -24.814      0.000      -3.597      -3.071\n",
       "Lead Quality_Worst                                -5.5137      0.390    -14.132      0.000      -6.278      -4.749\n",
       "Last Notable Activity_Had a Phone Conversation     2.5199      1.228      2.052      0.040       0.113       4.927\n",
       "Last Notable Activity_SMS Sent                     1.7645      0.092     19.280      0.000       1.585       1.944\n",
       "Last Notable Activity_Unreachable                  1.3668      0.552      2.475      0.013       0.284       2.449\n",
       "==================================================================================================================\n",
       "\"\"\""
      ]
     },
     "execution_count": 91,
     "metadata": {},
     "output_type": "execute_result"
    }
   ],
   "source": [
    "X_train_sm = sm.add_constant(X_train[col])\n",
    "logm2 = sm.GLM(y_train,X_train_sm, family = sm.families.Binomial())\n",
    "res = logm2.fit()\n",
    "res.summary()"
   ]
  },
  {
   "cell_type": "code",
   "execution_count": 92,
   "metadata": {},
   "outputs": [
    {
     "data": {
      "text/html": [
       "<div>\n",
       "<style scoped>\n",
       "    .dataframe tbody tr th:only-of-type {\n",
       "        vertical-align: middle;\n",
       "    }\n",
       "\n",
       "    .dataframe tbody tr th {\n",
       "        vertical-align: top;\n",
       "    }\n",
       "\n",
       "    .dataframe thead th {\n",
       "        text-align: right;\n",
       "    }\n",
       "</style>\n",
       "<table border=\"1\" class=\"dataframe\">\n",
       "  <thead>\n",
       "    <tr style=\"text-align: right;\">\n",
       "      <th></th>\n",
       "      <th>Features</th>\n",
       "      <th>VIF</th>\n",
       "    </tr>\n",
       "  </thead>\n",
       "  <tbody>\n",
       "    <tr>\n",
       "      <td>3</td>\n",
       "      <td>Page Views Per Visit</td>\n",
       "      <td>5.76</td>\n",
       "    </tr>\n",
       "    <tr>\n",
       "      <td>1</td>\n",
       "      <td>TotalVisits</td>\n",
       "      <td>4.88</td>\n",
       "    </tr>\n",
       "    <tr>\n",
       "      <td>11</td>\n",
       "      <td>Lead Quality_Not Sure</td>\n",
       "      <td>3.30</td>\n",
       "    </tr>\n",
       "    <tr>\n",
       "      <td>2</td>\n",
       "      <td>Total Time Spent on Website</td>\n",
       "      <td>2.10</td>\n",
       "    </tr>\n",
       "    <tr>\n",
       "      <td>6</td>\n",
       "      <td>Lead Source_Olark Chat</td>\n",
       "      <td>1.96</td>\n",
       "    </tr>\n",
       "    <tr>\n",
       "      <td>10</td>\n",
       "      <td>Lead Quality_Might be</td>\n",
       "      <td>1.82</td>\n",
       "    </tr>\n",
       "    <tr>\n",
       "      <td>4</td>\n",
       "      <td>Lead Origin_Lead Add Form</td>\n",
       "      <td>1.58</td>\n",
       "    </tr>\n",
       "    <tr>\n",
       "      <td>14</td>\n",
       "      <td>Last Notable Activity_SMS Sent</td>\n",
       "      <td>1.54</td>\n",
       "    </tr>\n",
       "    <tr>\n",
       "      <td>9</td>\n",
       "      <td>Last Activity_Olark Chat Conversation</td>\n",
       "      <td>1.45</td>\n",
       "    </tr>\n",
       "    <tr>\n",
       "      <td>7</td>\n",
       "      <td>Lead Source_Welingak Website</td>\n",
       "      <td>1.29</td>\n",
       "    </tr>\n",
       "    <tr>\n",
       "      <td>12</td>\n",
       "      <td>Lead Quality_Worst</td>\n",
       "      <td>1.20</td>\n",
       "    </tr>\n",
       "    <tr>\n",
       "      <td>8</td>\n",
       "      <td>Last Activity_Not Sure</td>\n",
       "      <td>1.18</td>\n",
       "    </tr>\n",
       "    <tr>\n",
       "      <td>0</td>\n",
       "      <td>Do Not Email</td>\n",
       "      <td>1.12</td>\n",
       "    </tr>\n",
       "    <tr>\n",
       "      <td>5</td>\n",
       "      <td>Lead Source_Not Sure</td>\n",
       "      <td>1.08</td>\n",
       "    </tr>\n",
       "    <tr>\n",
       "      <td>13</td>\n",
       "      <td>Last Notable Activity_Had a Phone Conversation</td>\n",
       "      <td>1.01</td>\n",
       "    </tr>\n",
       "    <tr>\n",
       "      <td>15</td>\n",
       "      <td>Last Notable Activity_Unreachable</td>\n",
       "      <td>1.01</td>\n",
       "    </tr>\n",
       "  </tbody>\n",
       "</table>\n",
       "</div>"
      ],
      "text/plain": [
       "                                          Features   VIF\n",
       "3                             Page Views Per Visit  5.76\n",
       "1                                      TotalVisits  4.88\n",
       "11                           Lead Quality_Not Sure  3.30\n",
       "2                      Total Time Spent on Website  2.10\n",
       "6                           Lead Source_Olark Chat  1.96\n",
       "10                           Lead Quality_Might be  1.82\n",
       "4                        Lead Origin_Lead Add Form  1.58\n",
       "14                  Last Notable Activity_SMS Sent  1.54\n",
       "9            Last Activity_Olark Chat Conversation  1.45\n",
       "7                     Lead Source_Welingak Website  1.29\n",
       "12                              Lead Quality_Worst  1.20\n",
       "8                           Last Activity_Not Sure  1.18\n",
       "0                                     Do Not Email  1.12\n",
       "5                             Lead Source_Not Sure  1.08\n",
       "13  Last Notable Activity_Had a Phone Conversation  1.01\n",
       "15               Last Notable Activity_Unreachable  1.01"
      ]
     },
     "execution_count": 92,
     "metadata": {},
     "output_type": "execute_result"
    }
   ],
   "source": [
    "vif = pd.DataFrame()\n",
    "vif['Features'] = X_train[col].columns\n",
    "vif['VIF'] = [variance_inflation_factor(X_train[col].values, i) for i in range(X_train[col].shape[1])]\n",
    "vif['VIF'] = round(vif['VIF'], 2)\n",
    "vif = vif.sort_values(by = \"VIF\", ascending = False)\n",
    "vif"
   ]
  },
  {
   "cell_type": "markdown",
   "metadata": {},
   "source": [
    "#### Model 6 without Lead Source_Not Sure\t"
   ]
  },
  {
   "cell_type": "code",
   "execution_count": 93,
   "metadata": {},
   "outputs": [],
   "source": [
    "X_train = X_train.drop(\"Lead Source_Not Sure\",axis=1)\n",
    "col = col.drop(\"Lead Source_Not Sure\")"
   ]
  },
  {
   "cell_type": "code",
   "execution_count": 94,
   "metadata": {},
   "outputs": [
    {
     "data": {
      "text/html": [
       "<table class=\"simpletable\">\n",
       "<caption>Generalized Linear Model Regression Results</caption>\n",
       "<tr>\n",
       "  <th>Dep. Variable:</th>       <td>Converted</td>    <th>  No. Observations:  </th>  <td>  6298</td> \n",
       "</tr>\n",
       "<tr>\n",
       "  <th>Model:</th>                  <td>GLM</td>       <th>  Df Residuals:      </th>  <td>  6282</td> \n",
       "</tr>\n",
       "<tr>\n",
       "  <th>Model Family:</th>        <td>Binomial</td>     <th>  Df Model:          </th>  <td>    15</td> \n",
       "</tr>\n",
       "<tr>\n",
       "  <th>Link Function:</th>         <td>logit</td>      <th>  Scale:             </th> <td>  1.0000</td>\n",
       "</tr>\n",
       "<tr>\n",
       "  <th>Method:</th>                <td>IRLS</td>       <th>  Log-Likelihood:    </th> <td> -2111.2</td>\n",
       "</tr>\n",
       "<tr>\n",
       "  <th>Date:</th>            <td>Tue, 18 Jul 2023</td> <th>  Deviance:          </th> <td>  4222.4</td>\n",
       "</tr>\n",
       "<tr>\n",
       "  <th>Time:</th>                <td>09:14:36</td>     <th>  Pearson chi2:      </th> <td>6.27e+03</td>\n",
       "</tr>\n",
       "<tr>\n",
       "  <th>No. Iterations:</th>          <td>7</td>        <th>                     </th>     <td> </td>   \n",
       "</tr>\n",
       "<tr>\n",
       "  <th>Covariance Type:</th>     <td>nonrobust</td>    <th>                     </th>     <td> </td>   \n",
       "</tr>\n",
       "</table>\n",
       "<table class=\"simpletable\">\n",
       "<tr>\n",
       "                         <td></td>                           <th>coef</th>     <th>std err</th>      <th>z</th>      <th>P>|z|</th>  <th>[0.025</th>    <th>0.975]</th>  \n",
       "</tr>\n",
       "<tr>\n",
       "  <th>const</th>                                          <td>    0.3123</td> <td>    0.162</td> <td>    1.931</td> <td> 0.054</td> <td>   -0.005</td> <td>    0.629</td>\n",
       "</tr>\n",
       "<tr>\n",
       "  <th>Do Not Email</th>                                   <td>   -1.1545</td> <td>    0.181</td> <td>   -6.369</td> <td> 0.000</td> <td>   -1.510</td> <td>   -0.799</td>\n",
       "</tr>\n",
       "<tr>\n",
       "  <th>TotalVisits</th>                                    <td>    1.4171</td> <td>    0.335</td> <td>    4.233</td> <td> 0.000</td> <td>    0.761</td> <td>    2.073</td>\n",
       "</tr>\n",
       "<tr>\n",
       "  <th>Total Time Spent on Website</th>                    <td>    3.8555</td> <td>    0.157</td> <td>   24.558</td> <td> 0.000</td> <td>    3.548</td> <td>    4.163</td>\n",
       "</tr>\n",
       "<tr>\n",
       "  <th>Page Views Per Visit</th>                           <td>   -1.4415</td> <td>    0.302</td> <td>   -4.773</td> <td> 0.000</td> <td>   -2.033</td> <td>   -0.850</td>\n",
       "</tr>\n",
       "<tr>\n",
       "  <th>Lead Origin_Lead Add Form</th>                      <td>    2.9300</td> <td>    0.249</td> <td>   11.750</td> <td> 0.000</td> <td>    2.441</td> <td>    3.419</td>\n",
       "</tr>\n",
       "<tr>\n",
       "  <th>Lead Source_Olark Chat</th>                         <td>    1.3968</td> <td>    0.142</td> <td>    9.818</td> <td> 0.000</td> <td>    1.118</td> <td>    1.676</td>\n",
       "</tr>\n",
       "<tr>\n",
       "  <th>Lead Source_Welingak Website</th>                   <td>    4.2924</td> <td>    1.036</td> <td>    4.144</td> <td> 0.000</td> <td>    2.262</td> <td>    6.323</td>\n",
       "</tr>\n",
       "<tr>\n",
       "  <th>Last Activity_Not Sure</th>                         <td>   -1.9645</td> <td>    0.490</td> <td>   -4.012</td> <td> 0.000</td> <td>   -2.924</td> <td>   -1.005</td>\n",
       "</tr>\n",
       "<tr>\n",
       "  <th>Last Activity_Olark Chat Conversation</th>          <td>   -1.2724</td> <td>    0.181</td> <td>   -7.035</td> <td> 0.000</td> <td>   -1.627</td> <td>   -0.918</td>\n",
       "</tr>\n",
       "<tr>\n",
       "  <th>Lead Quality_Might be</th>                          <td>   -1.2965</td> <td>    0.151</td> <td>   -8.591</td> <td> 0.000</td> <td>   -1.592</td> <td>   -1.001</td>\n",
       "</tr>\n",
       "<tr>\n",
       "  <th>Lead Quality_Not Sure</th>                          <td>   -3.3240</td> <td>    0.134</td> <td>  -24.777</td> <td> 0.000</td> <td>   -3.587</td> <td>   -3.061</td>\n",
       "</tr>\n",
       "<tr>\n",
       "  <th>Lead Quality_Worst</th>                             <td>   -5.5059</td> <td>    0.390</td> <td>  -14.116</td> <td> 0.000</td> <td>   -6.270</td> <td>   -4.741</td>\n",
       "</tr>\n",
       "<tr>\n",
       "  <th>Last Notable Activity_Had a Phone Conversation</th> <td>    2.5209</td> <td>    1.228</td> <td>    2.053</td> <td> 0.040</td> <td>    0.115</td> <td>    4.927</td>\n",
       "</tr>\n",
       "<tr>\n",
       "  <th>Last Notable Activity_SMS Sent</th>                 <td>    1.7643</td> <td>    0.091</td> <td>   19.292</td> <td> 0.000</td> <td>    1.585</td> <td>    1.944</td>\n",
       "</tr>\n",
       "<tr>\n",
       "  <th>Last Notable Activity_Unreachable</th>              <td>    1.3667</td> <td>    0.552</td> <td>    2.475</td> <td> 0.013</td> <td>    0.285</td> <td>    2.449</td>\n",
       "</tr>\n",
       "</table>"
      ],
      "text/plain": [
       "<class 'statsmodels.iolib.summary.Summary'>\n",
       "\"\"\"\n",
       "                 Generalized Linear Model Regression Results                  \n",
       "==============================================================================\n",
       "Dep. Variable:              Converted   No. Observations:                 6298\n",
       "Model:                            GLM   Df Residuals:                     6282\n",
       "Model Family:                Binomial   Df Model:                           15\n",
       "Link Function:                  logit   Scale:                          1.0000\n",
       "Method:                          IRLS   Log-Likelihood:                -2111.2\n",
       "Date:                Tue, 18 Jul 2023   Deviance:                       4222.4\n",
       "Time:                        09:14:36   Pearson chi2:                 6.27e+03\n",
       "No. Iterations:                     7                                         \n",
       "Covariance Type:            nonrobust                                         \n",
       "==================================================================================================================\n",
       "                                                     coef    std err          z      P>|z|      [0.025      0.975]\n",
       "------------------------------------------------------------------------------------------------------------------\n",
       "const                                              0.3123      0.162      1.931      0.054      -0.005       0.629\n",
       "Do Not Email                                      -1.1545      0.181     -6.369      0.000      -1.510      -0.799\n",
       "TotalVisits                                        1.4171      0.335      4.233      0.000       0.761       2.073\n",
       "Total Time Spent on Website                        3.8555      0.157     24.558      0.000       3.548       4.163\n",
       "Page Views Per Visit                              -1.4415      0.302     -4.773      0.000      -2.033      -0.850\n",
       "Lead Origin_Lead Add Form                          2.9300      0.249     11.750      0.000       2.441       3.419\n",
       "Lead Source_Olark Chat                             1.3968      0.142      9.818      0.000       1.118       1.676\n",
       "Lead Source_Welingak Website                       4.2924      1.036      4.144      0.000       2.262       6.323\n",
       "Last Activity_Not Sure                            -1.9645      0.490     -4.012      0.000      -2.924      -1.005\n",
       "Last Activity_Olark Chat Conversation             -1.2724      0.181     -7.035      0.000      -1.627      -0.918\n",
       "Lead Quality_Might be                             -1.2965      0.151     -8.591      0.000      -1.592      -1.001\n",
       "Lead Quality_Not Sure                             -3.3240      0.134    -24.777      0.000      -3.587      -3.061\n",
       "Lead Quality_Worst                                -5.5059      0.390    -14.116      0.000      -6.270      -4.741\n",
       "Last Notable Activity_Had a Phone Conversation     2.5209      1.228      2.053      0.040       0.115       4.927\n",
       "Last Notable Activity_SMS Sent                     1.7643      0.091     19.292      0.000       1.585       1.944\n",
       "Last Notable Activity_Unreachable                  1.3667      0.552      2.475      0.013       0.285       2.449\n",
       "==================================================================================================================\n",
       "\"\"\""
      ]
     },
     "execution_count": 94,
     "metadata": {},
     "output_type": "execute_result"
    }
   ],
   "source": [
    "X_train_sm = sm.add_constant(X_train[col])\n",
    "logm2 = sm.GLM(y_train,X_train_sm, family = sm.families.Binomial())\n",
    "res = logm2.fit()\n",
    "res.summary()"
   ]
  },
  {
   "cell_type": "code",
   "execution_count": 95,
   "metadata": {},
   "outputs": [
    {
     "data": {
      "text/html": [
       "<div>\n",
       "<style scoped>\n",
       "    .dataframe tbody tr th:only-of-type {\n",
       "        vertical-align: middle;\n",
       "    }\n",
       "\n",
       "    .dataframe tbody tr th {\n",
       "        vertical-align: top;\n",
       "    }\n",
       "\n",
       "    .dataframe thead th {\n",
       "        text-align: right;\n",
       "    }\n",
       "</style>\n",
       "<table border=\"1\" class=\"dataframe\">\n",
       "  <thead>\n",
       "    <tr style=\"text-align: right;\">\n",
       "      <th></th>\n",
       "      <th>Features</th>\n",
       "      <th>VIF</th>\n",
       "    </tr>\n",
       "  </thead>\n",
       "  <tbody>\n",
       "    <tr>\n",
       "      <td>3</td>\n",
       "      <td>Page Views Per Visit</td>\n",
       "      <td>5.76</td>\n",
       "    </tr>\n",
       "    <tr>\n",
       "      <td>1</td>\n",
       "      <td>TotalVisits</td>\n",
       "      <td>4.88</td>\n",
       "    </tr>\n",
       "    <tr>\n",
       "      <td>10</td>\n",
       "      <td>Lead Quality_Not Sure</td>\n",
       "      <td>3.29</td>\n",
       "    </tr>\n",
       "    <tr>\n",
       "      <td>2</td>\n",
       "      <td>Total Time Spent on Website</td>\n",
       "      <td>2.10</td>\n",
       "    </tr>\n",
       "    <tr>\n",
       "      <td>5</td>\n",
       "      <td>Lead Source_Olark Chat</td>\n",
       "      <td>1.96</td>\n",
       "    </tr>\n",
       "    <tr>\n",
       "      <td>9</td>\n",
       "      <td>Lead Quality_Might be</td>\n",
       "      <td>1.82</td>\n",
       "    </tr>\n",
       "    <tr>\n",
       "      <td>13</td>\n",
       "      <td>Last Notable Activity_SMS Sent</td>\n",
       "      <td>1.54</td>\n",
       "    </tr>\n",
       "    <tr>\n",
       "      <td>4</td>\n",
       "      <td>Lead Origin_Lead Add Form</td>\n",
       "      <td>1.51</td>\n",
       "    </tr>\n",
       "    <tr>\n",
       "      <td>8</td>\n",
       "      <td>Last Activity_Olark Chat Conversation</td>\n",
       "      <td>1.45</td>\n",
       "    </tr>\n",
       "    <tr>\n",
       "      <td>6</td>\n",
       "      <td>Lead Source_Welingak Website</td>\n",
       "      <td>1.28</td>\n",
       "    </tr>\n",
       "    <tr>\n",
       "      <td>11</td>\n",
       "      <td>Lead Quality_Worst</td>\n",
       "      <td>1.20</td>\n",
       "    </tr>\n",
       "    <tr>\n",
       "      <td>7</td>\n",
       "      <td>Last Activity_Not Sure</td>\n",
       "      <td>1.17</td>\n",
       "    </tr>\n",
       "    <tr>\n",
       "      <td>0</td>\n",
       "      <td>Do Not Email</td>\n",
       "      <td>1.11</td>\n",
       "    </tr>\n",
       "    <tr>\n",
       "      <td>12</td>\n",
       "      <td>Last Notable Activity_Had a Phone Conversation</td>\n",
       "      <td>1.01</td>\n",
       "    </tr>\n",
       "    <tr>\n",
       "      <td>14</td>\n",
       "      <td>Last Notable Activity_Unreachable</td>\n",
       "      <td>1.01</td>\n",
       "    </tr>\n",
       "  </tbody>\n",
       "</table>\n",
       "</div>"
      ],
      "text/plain": [
       "                                          Features   VIF\n",
       "3                             Page Views Per Visit  5.76\n",
       "1                                      TotalVisits  4.88\n",
       "10                           Lead Quality_Not Sure  3.29\n",
       "2                      Total Time Spent on Website  2.10\n",
       "5                           Lead Source_Olark Chat  1.96\n",
       "9                            Lead Quality_Might be  1.82\n",
       "13                  Last Notable Activity_SMS Sent  1.54\n",
       "4                        Lead Origin_Lead Add Form  1.51\n",
       "8            Last Activity_Olark Chat Conversation  1.45\n",
       "6                     Lead Source_Welingak Website  1.28\n",
       "11                              Lead Quality_Worst  1.20\n",
       "7                           Last Activity_Not Sure  1.17\n",
       "0                                     Do Not Email  1.11\n",
       "12  Last Notable Activity_Had a Phone Conversation  1.01\n",
       "14               Last Notable Activity_Unreachable  1.01"
      ]
     },
     "execution_count": 95,
     "metadata": {},
     "output_type": "execute_result"
    }
   ],
   "source": [
    "vif = pd.DataFrame()\n",
    "vif['Features'] = X_train[col].columns\n",
    "vif['VIF'] = [variance_inflation_factor(X_train[col].values, i) for i in range(X_train[col].shape[1])]\n",
    "vif['VIF'] = round(vif['VIF'], 2)\n",
    "vif = vif.sort_values(by = \"VIF\", ascending = False)\n",
    "vif"
   ]
  },
  {
   "cell_type": "markdown",
   "metadata": {},
   "source": [
    "#### Model 7 without Page Views Per Visit as it has high VIF"
   ]
  },
  {
   "cell_type": "code",
   "execution_count": 96,
   "metadata": {},
   "outputs": [],
   "source": [
    "X_train = X_train.drop(\"Page Views Per Visit\",axis=1)\n",
    "col = col.drop(\"Page Views Per Visit\")"
   ]
  },
  {
   "cell_type": "code",
   "execution_count": 97,
   "metadata": {},
   "outputs": [
    {
     "data": {
      "text/html": [
       "<table class=\"simpletable\">\n",
       "<caption>Generalized Linear Model Regression Results</caption>\n",
       "<tr>\n",
       "  <th>Dep. Variable:</th>       <td>Converted</td>    <th>  No. Observations:  </th>  <td>  6298</td> \n",
       "</tr>\n",
       "<tr>\n",
       "  <th>Model:</th>                  <td>GLM</td>       <th>  Df Residuals:      </th>  <td>  6283</td> \n",
       "</tr>\n",
       "<tr>\n",
       "  <th>Model Family:</th>        <td>Binomial</td>     <th>  Df Model:          </th>  <td>    14</td> \n",
       "</tr>\n",
       "<tr>\n",
       "  <th>Link Function:</th>         <td>logit</td>      <th>  Scale:             </th> <td>  1.0000</td>\n",
       "</tr>\n",
       "<tr>\n",
       "  <th>Method:</th>                <td>IRLS</td>       <th>  Log-Likelihood:    </th> <td> -2122.8</td>\n",
       "</tr>\n",
       "<tr>\n",
       "  <th>Date:</th>            <td>Tue, 18 Jul 2023</td> <th>  Deviance:          </th> <td>  4245.7</td>\n",
       "</tr>\n",
       "<tr>\n",
       "  <th>Time:</th>                <td>09:14:36</td>     <th>  Pearson chi2:      </th> <td>6.23e+03</td>\n",
       "</tr>\n",
       "<tr>\n",
       "  <th>No. Iterations:</th>          <td>7</td>        <th>                     </th>     <td> </td>   \n",
       "</tr>\n",
       "<tr>\n",
       "  <th>Covariance Type:</th>     <td>nonrobust</td>    <th>                     </th>     <td> </td>   \n",
       "</tr>\n",
       "</table>\n",
       "<table class=\"simpletable\">\n",
       "<tr>\n",
       "                         <td></td>                           <th>coef</th>     <th>std err</th>      <th>z</th>      <th>P>|z|</th>  <th>[0.025</th>    <th>0.975]</th>  \n",
       "</tr>\n",
       "<tr>\n",
       "  <th>const</th>                                          <td>    0.0270</td> <td>    0.150</td> <td>    0.180</td> <td> 0.857</td> <td>   -0.267</td> <td>    0.321</td>\n",
       "</tr>\n",
       "<tr>\n",
       "  <th>Do Not Email</th>                                   <td>   -1.1583</td> <td>    0.181</td> <td>   -6.416</td> <td> 0.000</td> <td>   -1.512</td> <td>   -0.804</td>\n",
       "</tr>\n",
       "<tr>\n",
       "  <th>TotalVisits</th>                                    <td>    0.5565</td> <td>    0.280</td> <td>    1.989</td> <td> 0.047</td> <td>    0.008</td> <td>    1.105</td>\n",
       "</tr>\n",
       "<tr>\n",
       "  <th>Total Time Spent on Website</th>                    <td>    3.8573</td> <td>    0.157</td> <td>   24.604</td> <td> 0.000</td> <td>    3.550</td> <td>    4.165</td>\n",
       "</tr>\n",
       "<tr>\n",
       "  <th>Lead Origin_Lead Add Form</th>                      <td>    3.1958</td> <td>    0.243</td> <td>   13.162</td> <td> 0.000</td> <td>    2.720</td> <td>    3.672</td>\n",
       "</tr>\n",
       "<tr>\n",
       "  <th>Lead Source_Olark Chat</th>                         <td>    1.6538</td> <td>    0.133</td> <td>   12.456</td> <td> 0.000</td> <td>    1.394</td> <td>    1.914</td>\n",
       "</tr>\n",
       "<tr>\n",
       "  <th>Lead Source_Welingak Website</th>                   <td>    4.2698</td> <td>    1.035</td> <td>    4.124</td> <td> 0.000</td> <td>    2.241</td> <td>    6.299</td>\n",
       "</tr>\n",
       "<tr>\n",
       "  <th>Last Activity_Not Sure</th>                         <td>   -2.0684</td> <td>    0.497</td> <td>   -4.162</td> <td> 0.000</td> <td>   -3.043</td> <td>   -1.094</td>\n",
       "</tr>\n",
       "<tr>\n",
       "  <th>Last Activity_Olark Chat Conversation</th>          <td>   -1.2509</td> <td>    0.180</td> <td>   -6.942</td> <td> 0.000</td> <td>   -1.604</td> <td>   -0.898</td>\n",
       "</tr>\n",
       "<tr>\n",
       "  <th>Lead Quality_Might be</th>                          <td>   -1.2943</td> <td>    0.151</td> <td>   -8.593</td> <td> 0.000</td> <td>   -1.589</td> <td>   -0.999</td>\n",
       "</tr>\n",
       "<tr>\n",
       "  <th>Lead Quality_Not Sure</th>                          <td>   -3.2936</td> <td>    0.134</td> <td>  -24.668</td> <td> 0.000</td> <td>   -3.555</td> <td>   -3.032</td>\n",
       "</tr>\n",
       "<tr>\n",
       "  <th>Lead Quality_Worst</th>                             <td>   -5.4473</td> <td>    0.390</td> <td>  -13.970</td> <td> 0.000</td> <td>   -6.212</td> <td>   -4.683</td>\n",
       "</tr>\n",
       "<tr>\n",
       "  <th>Last Notable Activity_Had a Phone Conversation</th> <td>    2.4607</td> <td>    1.247</td> <td>    1.973</td> <td> 0.048</td> <td>    0.016</td> <td>    4.905</td>\n",
       "</tr>\n",
       "<tr>\n",
       "  <th>Last Notable Activity_SMS Sent</th>                 <td>    1.7211</td> <td>    0.090</td> <td>   19.047</td> <td> 0.000</td> <td>    1.544</td> <td>    1.898</td>\n",
       "</tr>\n",
       "<tr>\n",
       "  <th>Last Notable Activity_Unreachable</th>              <td>    1.2954</td> <td>    0.557</td> <td>    2.325</td> <td> 0.020</td> <td>    0.204</td> <td>    2.387</td>\n",
       "</tr>\n",
       "</table>"
      ],
      "text/plain": [
       "<class 'statsmodels.iolib.summary.Summary'>\n",
       "\"\"\"\n",
       "                 Generalized Linear Model Regression Results                  \n",
       "==============================================================================\n",
       "Dep. Variable:              Converted   No. Observations:                 6298\n",
       "Model:                            GLM   Df Residuals:                     6283\n",
       "Model Family:                Binomial   Df Model:                           14\n",
       "Link Function:                  logit   Scale:                          1.0000\n",
       "Method:                          IRLS   Log-Likelihood:                -2122.8\n",
       "Date:                Tue, 18 Jul 2023   Deviance:                       4245.7\n",
       "Time:                        09:14:36   Pearson chi2:                 6.23e+03\n",
       "No. Iterations:                     7                                         \n",
       "Covariance Type:            nonrobust                                         \n",
       "==================================================================================================================\n",
       "                                                     coef    std err          z      P>|z|      [0.025      0.975]\n",
       "------------------------------------------------------------------------------------------------------------------\n",
       "const                                              0.0270      0.150      0.180      0.857      -0.267       0.321\n",
       "Do Not Email                                      -1.1583      0.181     -6.416      0.000      -1.512      -0.804\n",
       "TotalVisits                                        0.5565      0.280      1.989      0.047       0.008       1.105\n",
       "Total Time Spent on Website                        3.8573      0.157     24.604      0.000       3.550       4.165\n",
       "Lead Origin_Lead Add Form                          3.1958      0.243     13.162      0.000       2.720       3.672\n",
       "Lead Source_Olark Chat                             1.6538      0.133     12.456      0.000       1.394       1.914\n",
       "Lead Source_Welingak Website                       4.2698      1.035      4.124      0.000       2.241       6.299\n",
       "Last Activity_Not Sure                            -2.0684      0.497     -4.162      0.000      -3.043      -1.094\n",
       "Last Activity_Olark Chat Conversation             -1.2509      0.180     -6.942      0.000      -1.604      -0.898\n",
       "Lead Quality_Might be                             -1.2943      0.151     -8.593      0.000      -1.589      -0.999\n",
       "Lead Quality_Not Sure                             -3.2936      0.134    -24.668      0.000      -3.555      -3.032\n",
       "Lead Quality_Worst                                -5.4473      0.390    -13.970      0.000      -6.212      -4.683\n",
       "Last Notable Activity_Had a Phone Conversation     2.4607      1.247      1.973      0.048       0.016       4.905\n",
       "Last Notable Activity_SMS Sent                     1.7211      0.090     19.047      0.000       1.544       1.898\n",
       "Last Notable Activity_Unreachable                  1.2954      0.557      2.325      0.020       0.204       2.387\n",
       "==================================================================================================================\n",
       "\"\"\""
      ]
     },
     "execution_count": 97,
     "metadata": {},
     "output_type": "execute_result"
    }
   ],
   "source": [
    "X_train_sm = sm.add_constant(X_train[col])\n",
    "logm2 = sm.GLM(y_train,X_train_sm, family = sm.families.Binomial())\n",
    "res = logm2.fit()\n",
    "res.summary()"
   ]
  },
  {
   "cell_type": "code",
   "execution_count": 98,
   "metadata": {},
   "outputs": [
    {
     "data": {
      "text/html": [
       "<div>\n",
       "<style scoped>\n",
       "    .dataframe tbody tr th:only-of-type {\n",
       "        vertical-align: middle;\n",
       "    }\n",
       "\n",
       "    .dataframe tbody tr th {\n",
       "        vertical-align: top;\n",
       "    }\n",
       "\n",
       "    .dataframe thead th {\n",
       "        text-align: right;\n",
       "    }\n",
       "</style>\n",
       "<table border=\"1\" class=\"dataframe\">\n",
       "  <thead>\n",
       "    <tr style=\"text-align: right;\">\n",
       "      <th></th>\n",
       "      <th>Features</th>\n",
       "      <th>VIF</th>\n",
       "    </tr>\n",
       "  </thead>\n",
       "  <tbody>\n",
       "    <tr>\n",
       "      <td>9</td>\n",
       "      <td>Lead Quality_Not Sure</td>\n",
       "      <td>2.90</td>\n",
       "    </tr>\n",
       "    <tr>\n",
       "      <td>1</td>\n",
       "      <td>TotalVisits</td>\n",
       "      <td>2.76</td>\n",
       "    </tr>\n",
       "    <tr>\n",
       "      <td>2</td>\n",
       "      <td>Total Time Spent on Website</td>\n",
       "      <td>2.05</td>\n",
       "    </tr>\n",
       "    <tr>\n",
       "      <td>4</td>\n",
       "      <td>Lead Source_Olark Chat</td>\n",
       "      <td>1.85</td>\n",
       "    </tr>\n",
       "    <tr>\n",
       "      <td>8</td>\n",
       "      <td>Lead Quality_Might be</td>\n",
       "      <td>1.74</td>\n",
       "    </tr>\n",
       "    <tr>\n",
       "      <td>12</td>\n",
       "      <td>Last Notable Activity_SMS Sent</td>\n",
       "      <td>1.53</td>\n",
       "    </tr>\n",
       "    <tr>\n",
       "      <td>3</td>\n",
       "      <td>Lead Origin_Lead Add Form</td>\n",
       "      <td>1.49</td>\n",
       "    </tr>\n",
       "    <tr>\n",
       "      <td>7</td>\n",
       "      <td>Last Activity_Olark Chat Conversation</td>\n",
       "      <td>1.44</td>\n",
       "    </tr>\n",
       "    <tr>\n",
       "      <td>5</td>\n",
       "      <td>Lead Source_Welingak Website</td>\n",
       "      <td>1.27</td>\n",
       "    </tr>\n",
       "    <tr>\n",
       "      <td>6</td>\n",
       "      <td>Last Activity_Not Sure</td>\n",
       "      <td>1.17</td>\n",
       "    </tr>\n",
       "    <tr>\n",
       "      <td>10</td>\n",
       "      <td>Lead Quality_Worst</td>\n",
       "      <td>1.17</td>\n",
       "    </tr>\n",
       "    <tr>\n",
       "      <td>0</td>\n",
       "      <td>Do Not Email</td>\n",
       "      <td>1.11</td>\n",
       "    </tr>\n",
       "    <tr>\n",
       "      <td>11</td>\n",
       "      <td>Last Notable Activity_Had a Phone Conversation</td>\n",
       "      <td>1.01</td>\n",
       "    </tr>\n",
       "    <tr>\n",
       "      <td>13</td>\n",
       "      <td>Last Notable Activity_Unreachable</td>\n",
       "      <td>1.01</td>\n",
       "    </tr>\n",
       "  </tbody>\n",
       "</table>\n",
       "</div>"
      ],
      "text/plain": [
       "                                          Features   VIF\n",
       "9                            Lead Quality_Not Sure  2.90\n",
       "1                                      TotalVisits  2.76\n",
       "2                      Total Time Spent on Website  2.05\n",
       "4                           Lead Source_Olark Chat  1.85\n",
       "8                            Lead Quality_Might be  1.74\n",
       "12                  Last Notable Activity_SMS Sent  1.53\n",
       "3                        Lead Origin_Lead Add Form  1.49\n",
       "7            Last Activity_Olark Chat Conversation  1.44\n",
       "5                     Lead Source_Welingak Website  1.27\n",
       "6                           Last Activity_Not Sure  1.17\n",
       "10                              Lead Quality_Worst  1.17\n",
       "0                                     Do Not Email  1.11\n",
       "11  Last Notable Activity_Had a Phone Conversation  1.01\n",
       "13               Last Notable Activity_Unreachable  1.01"
      ]
     },
     "execution_count": 98,
     "metadata": {},
     "output_type": "execute_result"
    }
   ],
   "source": [
    "vif = pd.DataFrame()\n",
    "vif['Features'] = X_train[col].columns\n",
    "vif['VIF'] = [variance_inflation_factor(X_train[col].values, i) for i in range(X_train[col].shape[1])]\n",
    "vif['VIF'] = round(vif['VIF'], 2)\n",
    "vif = vif.sort_values(by = \"VIF\", ascending = False)\n",
    "vif"
   ]
  },
  {
   "cell_type": "markdown",
   "metadata": {},
   "source": [
    "#### Model 8 without Last Notable Activity_Unreachable as it is not significant"
   ]
  },
  {
   "cell_type": "code",
   "execution_count": 99,
   "metadata": {},
   "outputs": [],
   "source": [
    "X_train = X_train.drop(\"Last Notable Activity_Unreachable\",axis=1)\n",
    "col = col.drop(\"Last Notable Activity_Unreachable\")"
   ]
  },
  {
   "cell_type": "code",
   "execution_count": 100,
   "metadata": {},
   "outputs": [
    {
     "data": {
      "text/html": [
       "<table class=\"simpletable\">\n",
       "<caption>Generalized Linear Model Regression Results</caption>\n",
       "<tr>\n",
       "  <th>Dep. Variable:</th>       <td>Converted</td>    <th>  No. Observations:  </th>  <td>  6298</td> \n",
       "</tr>\n",
       "<tr>\n",
       "  <th>Model:</th>                  <td>GLM</td>       <th>  Df Residuals:      </th>  <td>  6284</td> \n",
       "</tr>\n",
       "<tr>\n",
       "  <th>Model Family:</th>        <td>Binomial</td>     <th>  Df Model:          </th>  <td>    13</td> \n",
       "</tr>\n",
       "<tr>\n",
       "  <th>Link Function:</th>         <td>logit</td>      <th>  Scale:             </th> <td>  1.0000</td>\n",
       "</tr>\n",
       "<tr>\n",
       "  <th>Method:</th>                <td>IRLS</td>       <th>  Log-Likelihood:    </th> <td> -2125.6</td>\n",
       "</tr>\n",
       "<tr>\n",
       "  <th>Date:</th>            <td>Tue, 18 Jul 2023</td> <th>  Deviance:          </th> <td>  4251.1</td>\n",
       "</tr>\n",
       "<tr>\n",
       "  <th>Time:</th>                <td>09:14:37</td>     <th>  Pearson chi2:      </th> <td>6.23e+03</td>\n",
       "</tr>\n",
       "<tr>\n",
       "  <th>No. Iterations:</th>          <td>7</td>        <th>                     </th>     <td> </td>   \n",
       "</tr>\n",
       "<tr>\n",
       "  <th>Covariance Type:</th>     <td>nonrobust</td>    <th>                     </th>     <td> </td>   \n",
       "</tr>\n",
       "</table>\n",
       "<table class=\"simpletable\">\n",
       "<tr>\n",
       "                         <td></td>                           <th>coef</th>     <th>std err</th>      <th>z</th>      <th>P>|z|</th>  <th>[0.025</th>    <th>0.975]</th>  \n",
       "</tr>\n",
       "<tr>\n",
       "  <th>const</th>                                          <td>    0.0406</td> <td>    0.150</td> <td>    0.272</td> <td> 0.786</td> <td>   -0.253</td> <td>    0.334</td>\n",
       "</tr>\n",
       "<tr>\n",
       "  <th>Do Not Email</th>                                   <td>   -1.1640</td> <td>    0.180</td> <td>   -6.450</td> <td> 0.000</td> <td>   -1.518</td> <td>   -0.810</td>\n",
       "</tr>\n",
       "<tr>\n",
       "  <th>TotalVisits</th>                                    <td>    0.5633</td> <td>    0.280</td> <td>    2.014</td> <td> 0.044</td> <td>    0.015</td> <td>    1.111</td>\n",
       "</tr>\n",
       "<tr>\n",
       "  <th>Total Time Spent on Website</th>                    <td>    3.8495</td> <td>    0.157</td> <td>   24.588</td> <td> 0.000</td> <td>    3.543</td> <td>    4.156</td>\n",
       "</tr>\n",
       "<tr>\n",
       "  <th>Lead Origin_Lead Add Form</th>                      <td>    3.1901</td> <td>    0.243</td> <td>   13.145</td> <td> 0.000</td> <td>    2.714</td> <td>    3.666</td>\n",
       "</tr>\n",
       "<tr>\n",
       "  <th>Lead Source_Olark Chat</th>                         <td>    1.6511</td> <td>    0.133</td> <td>   12.449</td> <td> 0.000</td> <td>    1.391</td> <td>    1.911</td>\n",
       "</tr>\n",
       "<tr>\n",
       "  <th>Lead Source_Welingak Website</th>                   <td>    4.2686</td> <td>    1.035</td> <td>    4.123</td> <td> 0.000</td> <td>    2.240</td> <td>    6.298</td>\n",
       "</tr>\n",
       "<tr>\n",
       "  <th>Last Activity_Not Sure</th>                         <td>   -2.0750</td> <td>    0.497</td> <td>   -4.177</td> <td> 0.000</td> <td>   -3.049</td> <td>   -1.101</td>\n",
       "</tr>\n",
       "<tr>\n",
       "  <th>Last Activity_Olark Chat Conversation</th>          <td>   -1.2601</td> <td>    0.180</td> <td>   -6.995</td> <td> 0.000</td> <td>   -1.613</td> <td>   -0.907</td>\n",
       "</tr>\n",
       "<tr>\n",
       "  <th>Lead Quality_Might be</th>                          <td>   -1.2917</td> <td>    0.151</td> <td>   -8.582</td> <td> 0.000</td> <td>   -1.587</td> <td>   -0.997</td>\n",
       "</tr>\n",
       "<tr>\n",
       "  <th>Lead Quality_Not Sure</th>                          <td>   -3.2962</td> <td>    0.133</td> <td>  -24.704</td> <td> 0.000</td> <td>   -3.558</td> <td>   -3.035</td>\n",
       "</tr>\n",
       "<tr>\n",
       "  <th>Lead Quality_Worst</th>                             <td>   -5.4565</td> <td>    0.390</td> <td>  -13.996</td> <td> 0.000</td> <td>   -6.221</td> <td>   -4.692</td>\n",
       "</tr>\n",
       "<tr>\n",
       "  <th>Last Notable Activity_Had a Phone Conversation</th> <td>    2.4469</td> <td>    1.248</td> <td>    1.961</td> <td> 0.050</td> <td>    0.001</td> <td>    4.893</td>\n",
       "</tr>\n",
       "<tr>\n",
       "  <th>Last Notable Activity_SMS Sent</th>                 <td>    1.7106</td> <td>    0.090</td> <td>   18.967</td> <td> 0.000</td> <td>    1.534</td> <td>    1.887</td>\n",
       "</tr>\n",
       "</table>"
      ],
      "text/plain": [
       "<class 'statsmodels.iolib.summary.Summary'>\n",
       "\"\"\"\n",
       "                 Generalized Linear Model Regression Results                  \n",
       "==============================================================================\n",
       "Dep. Variable:              Converted   No. Observations:                 6298\n",
       "Model:                            GLM   Df Residuals:                     6284\n",
       "Model Family:                Binomial   Df Model:                           13\n",
       "Link Function:                  logit   Scale:                          1.0000\n",
       "Method:                          IRLS   Log-Likelihood:                -2125.6\n",
       "Date:                Tue, 18 Jul 2023   Deviance:                       4251.1\n",
       "Time:                        09:14:37   Pearson chi2:                 6.23e+03\n",
       "No. Iterations:                     7                                         \n",
       "Covariance Type:            nonrobust                                         \n",
       "==================================================================================================================\n",
       "                                                     coef    std err          z      P>|z|      [0.025      0.975]\n",
       "------------------------------------------------------------------------------------------------------------------\n",
       "const                                              0.0406      0.150      0.272      0.786      -0.253       0.334\n",
       "Do Not Email                                      -1.1640      0.180     -6.450      0.000      -1.518      -0.810\n",
       "TotalVisits                                        0.5633      0.280      2.014      0.044       0.015       1.111\n",
       "Total Time Spent on Website                        3.8495      0.157     24.588      0.000       3.543       4.156\n",
       "Lead Origin_Lead Add Form                          3.1901      0.243     13.145      0.000       2.714       3.666\n",
       "Lead Source_Olark Chat                             1.6511      0.133     12.449      0.000       1.391       1.911\n",
       "Lead Source_Welingak Website                       4.2686      1.035      4.123      0.000       2.240       6.298\n",
       "Last Activity_Not Sure                            -2.0750      0.497     -4.177      0.000      -3.049      -1.101\n",
       "Last Activity_Olark Chat Conversation             -1.2601      0.180     -6.995      0.000      -1.613      -0.907\n",
       "Lead Quality_Might be                             -1.2917      0.151     -8.582      0.000      -1.587      -0.997\n",
       "Lead Quality_Not Sure                             -3.2962      0.133    -24.704      0.000      -3.558      -3.035\n",
       "Lead Quality_Worst                                -5.4565      0.390    -13.996      0.000      -6.221      -4.692\n",
       "Last Notable Activity_Had a Phone Conversation     2.4469      1.248      1.961      0.050       0.001       4.893\n",
       "Last Notable Activity_SMS Sent                     1.7106      0.090     18.967      0.000       1.534       1.887\n",
       "==================================================================================================================\n",
       "\"\"\""
      ]
     },
     "execution_count": 100,
     "metadata": {},
     "output_type": "execute_result"
    }
   ],
   "source": [
    "X_train_sm = sm.add_constant(X_train[col])\n",
    "logm2 = sm.GLM(y_train,X_train_sm, family = sm.families.Binomial())\n",
    "res = logm2.fit()\n",
    "res.summary()"
   ]
  },
  {
   "cell_type": "code",
   "execution_count": 101,
   "metadata": {},
   "outputs": [
    {
     "data": {
      "text/html": [
       "<div>\n",
       "<style scoped>\n",
       "    .dataframe tbody tr th:only-of-type {\n",
       "        vertical-align: middle;\n",
       "    }\n",
       "\n",
       "    .dataframe tbody tr th {\n",
       "        vertical-align: top;\n",
       "    }\n",
       "\n",
       "    .dataframe thead th {\n",
       "        text-align: right;\n",
       "    }\n",
       "</style>\n",
       "<table border=\"1\" class=\"dataframe\">\n",
       "  <thead>\n",
       "    <tr style=\"text-align: right;\">\n",
       "      <th></th>\n",
       "      <th>Features</th>\n",
       "      <th>VIF</th>\n",
       "    </tr>\n",
       "  </thead>\n",
       "  <tbody>\n",
       "    <tr>\n",
       "      <td>9</td>\n",
       "      <td>Lead Quality_Not Sure</td>\n",
       "      <td>2.90</td>\n",
       "    </tr>\n",
       "    <tr>\n",
       "      <td>1</td>\n",
       "      <td>TotalVisits</td>\n",
       "      <td>2.75</td>\n",
       "    </tr>\n",
       "    <tr>\n",
       "      <td>2</td>\n",
       "      <td>Total Time Spent on Website</td>\n",
       "      <td>2.05</td>\n",
       "    </tr>\n",
       "    <tr>\n",
       "      <td>4</td>\n",
       "      <td>Lead Source_Olark Chat</td>\n",
       "      <td>1.85</td>\n",
       "    </tr>\n",
       "    <tr>\n",
       "      <td>8</td>\n",
       "      <td>Lead Quality_Might be</td>\n",
       "      <td>1.74</td>\n",
       "    </tr>\n",
       "    <tr>\n",
       "      <td>12</td>\n",
       "      <td>Last Notable Activity_SMS Sent</td>\n",
       "      <td>1.53</td>\n",
       "    </tr>\n",
       "    <tr>\n",
       "      <td>3</td>\n",
       "      <td>Lead Origin_Lead Add Form</td>\n",
       "      <td>1.49</td>\n",
       "    </tr>\n",
       "    <tr>\n",
       "      <td>7</td>\n",
       "      <td>Last Activity_Olark Chat Conversation</td>\n",
       "      <td>1.44</td>\n",
       "    </tr>\n",
       "    <tr>\n",
       "      <td>5</td>\n",
       "      <td>Lead Source_Welingak Website</td>\n",
       "      <td>1.27</td>\n",
       "    </tr>\n",
       "    <tr>\n",
       "      <td>6</td>\n",
       "      <td>Last Activity_Not Sure</td>\n",
       "      <td>1.17</td>\n",
       "    </tr>\n",
       "    <tr>\n",
       "      <td>10</td>\n",
       "      <td>Lead Quality_Worst</td>\n",
       "      <td>1.17</td>\n",
       "    </tr>\n",
       "    <tr>\n",
       "      <td>0</td>\n",
       "      <td>Do Not Email</td>\n",
       "      <td>1.11</td>\n",
       "    </tr>\n",
       "    <tr>\n",
       "      <td>11</td>\n",
       "      <td>Last Notable Activity_Had a Phone Conversation</td>\n",
       "      <td>1.01</td>\n",
       "    </tr>\n",
       "  </tbody>\n",
       "</table>\n",
       "</div>"
      ],
      "text/plain": [
       "                                          Features   VIF\n",
       "9                            Lead Quality_Not Sure  2.90\n",
       "1                                      TotalVisits  2.75\n",
       "2                      Total Time Spent on Website  2.05\n",
       "4                           Lead Source_Olark Chat  1.85\n",
       "8                            Lead Quality_Might be  1.74\n",
       "12                  Last Notable Activity_SMS Sent  1.53\n",
       "3                        Lead Origin_Lead Add Form  1.49\n",
       "7            Last Activity_Olark Chat Conversation  1.44\n",
       "5                     Lead Source_Welingak Website  1.27\n",
       "6                           Last Activity_Not Sure  1.17\n",
       "10                              Lead Quality_Worst  1.17\n",
       "0                                     Do Not Email  1.11\n",
       "11  Last Notable Activity_Had a Phone Conversation  1.01"
      ]
     },
     "execution_count": 101,
     "metadata": {},
     "output_type": "execute_result"
    }
   ],
   "source": [
    "vif = pd.DataFrame()\n",
    "vif['Features'] = X_train[col].columns\n",
    "vif['VIF'] = [variance_inflation_factor(X_train[col].values, i) for i in range(X_train[col].shape[1])]\n",
    "vif['VIF'] = round(vif['VIF'], 2)\n",
    "vif = vif.sort_values(by = \"VIF\", ascending = False)\n",
    "vif"
   ]
  },
  {
   "cell_type": "markdown",
   "metadata": {},
   "source": [
    "### Model 8 looks stable with low vif and significant p-values. Will consider this as the Final Model for now"
   ]
  },
  {
   "cell_type": "code",
   "execution_count": 102,
   "metadata": {},
   "outputs": [
    {
     "data": {
      "text/plain": [
       "4714    0.167349\n",
       "5794    0.974656\n",
       "876     0.053928\n",
       "7767    0.721225\n",
       "7895    0.296118\n",
       "1182    0.246172\n",
       "959     0.389443\n",
       "1444    0.974985\n",
       "106     0.063224\n",
       "4615    0.051103\n",
       "dtype: float64"
      ]
     },
     "execution_count": 102,
     "metadata": {},
     "output_type": "execute_result"
    }
   ],
   "source": [
    "# Getting the predicted values on the train set\n",
    "y_train_pred = res.predict(X_train_sm)\n",
    "y_train_pred[:10]"
   ]
  },
  {
   "cell_type": "code",
   "execution_count": 103,
   "metadata": {},
   "outputs": [
    {
     "data": {
      "text/html": [
       "<div>\n",
       "<style scoped>\n",
       "    .dataframe tbody tr th:only-of-type {\n",
       "        vertical-align: middle;\n",
       "    }\n",
       "\n",
       "    .dataframe tbody tr th {\n",
       "        vertical-align: top;\n",
       "    }\n",
       "\n",
       "    .dataframe thead th {\n",
       "        text-align: right;\n",
       "    }\n",
       "</style>\n",
       "<table border=\"1\" class=\"dataframe\">\n",
       "  <thead>\n",
       "    <tr style=\"text-align: right;\">\n",
       "      <th></th>\n",
       "      <th>Converted</th>\n",
       "      <th>Converted_Prob</th>\n",
       "      <th>Id</th>\n",
       "    </tr>\n",
       "  </thead>\n",
       "  <tbody>\n",
       "    <tr>\n",
       "      <td>4714</td>\n",
       "      <td>0</td>\n",
       "      <td>0.167349</td>\n",
       "      <td>4714</td>\n",
       "    </tr>\n",
       "    <tr>\n",
       "      <td>5794</td>\n",
       "      <td>1</td>\n",
       "      <td>0.974656</td>\n",
       "      <td>5794</td>\n",
       "    </tr>\n",
       "    <tr>\n",
       "      <td>876</td>\n",
       "      <td>1</td>\n",
       "      <td>0.053928</td>\n",
       "      <td>876</td>\n",
       "    </tr>\n",
       "    <tr>\n",
       "      <td>7767</td>\n",
       "      <td>1</td>\n",
       "      <td>0.721225</td>\n",
       "      <td>7767</td>\n",
       "    </tr>\n",
       "    <tr>\n",
       "      <td>7895</td>\n",
       "      <td>1</td>\n",
       "      <td>0.296118</td>\n",
       "      <td>7895</td>\n",
       "    </tr>\n",
       "  </tbody>\n",
       "</table>\n",
       "</div>"
      ],
      "text/plain": [
       "      Converted  Converted_Prob    Id\n",
       "4714          0        0.167349  4714\n",
       "5794          1        0.974656  5794\n",
       "876           1        0.053928   876\n",
       "7767          1        0.721225  7767\n",
       "7895          1        0.296118  7895"
      ]
     },
     "execution_count": 103,
     "metadata": {},
     "output_type": "execute_result"
    }
   ],
   "source": [
    "#Creating a collated dataframe with the actual and predict prob\n",
    "y_train_pred_final = pd.DataFrame({'Converted':y_train.values, 'Converted_Prob':y_train_pred})\n",
    "y_train_pred_final['Id'] = y_train.index\n",
    "y_train_pred_final.head()"
   ]
  },
  {
   "cell_type": "code",
   "execution_count": 104,
   "metadata": {},
   "outputs": [
    {
     "data": {
      "text/html": [
       "<div>\n",
       "<style scoped>\n",
       "    .dataframe tbody tr th:only-of-type {\n",
       "        vertical-align: middle;\n",
       "    }\n",
       "\n",
       "    .dataframe tbody tr th {\n",
       "        vertical-align: top;\n",
       "    }\n",
       "\n",
       "    .dataframe thead th {\n",
       "        text-align: right;\n",
       "    }\n",
       "</style>\n",
       "<table border=\"1\" class=\"dataframe\">\n",
       "  <thead>\n",
       "    <tr style=\"text-align: right;\">\n",
       "      <th></th>\n",
       "      <th>Converted</th>\n",
       "      <th>Converted_Prob</th>\n",
       "      <th>Id</th>\n",
       "      <th>predicted</th>\n",
       "    </tr>\n",
       "  </thead>\n",
       "  <tbody>\n",
       "    <tr>\n",
       "      <td>4714</td>\n",
       "      <td>0</td>\n",
       "      <td>0.167349</td>\n",
       "      <td>4714</td>\n",
       "      <td>0</td>\n",
       "    </tr>\n",
       "    <tr>\n",
       "      <td>5794</td>\n",
       "      <td>1</td>\n",
       "      <td>0.974656</td>\n",
       "      <td>5794</td>\n",
       "      <td>1</td>\n",
       "    </tr>\n",
       "    <tr>\n",
       "      <td>876</td>\n",
       "      <td>1</td>\n",
       "      <td>0.053928</td>\n",
       "      <td>876</td>\n",
       "      <td>0</td>\n",
       "    </tr>\n",
       "    <tr>\n",
       "      <td>7767</td>\n",
       "      <td>1</td>\n",
       "      <td>0.721225</td>\n",
       "      <td>7767</td>\n",
       "      <td>1</td>\n",
       "    </tr>\n",
       "    <tr>\n",
       "      <td>7895</td>\n",
       "      <td>1</td>\n",
       "      <td>0.296118</td>\n",
       "      <td>7895</td>\n",
       "      <td>0</td>\n",
       "    </tr>\n",
       "  </tbody>\n",
       "</table>\n",
       "</div>"
      ],
      "text/plain": [
       "      Converted  Converted_Prob    Id  predicted\n",
       "4714          0        0.167349  4714          0\n",
       "5794          1        0.974656  5794          1\n",
       "876           1        0.053928   876          0\n",
       "7767          1        0.721225  7767          1\n",
       "7895          1        0.296118  7895          0"
      ]
     },
     "execution_count": 104,
     "metadata": {},
     "output_type": "execute_result"
    }
   ],
   "source": [
    "#Considering 0.5 as cutoff and dividing data based on it\n",
    "y_train_pred_final['predicted'] = y_train_pred_final.Converted_Prob.map(lambda x: 1 if x > 0.5 else 0)\n",
    "y_train_pred_final.head()"
   ]
  },
  {
   "cell_type": "markdown",
   "metadata": {},
   "source": [
    "### Addilng Lead Score"
   ]
  },
  {
   "cell_type": "code",
   "execution_count": 105,
   "metadata": {},
   "outputs": [
    {
     "data": {
      "text/html": [
       "<div>\n",
       "<style scoped>\n",
       "    .dataframe tbody tr th:only-of-type {\n",
       "        vertical-align: middle;\n",
       "    }\n",
       "\n",
       "    .dataframe tbody tr th {\n",
       "        vertical-align: top;\n",
       "    }\n",
       "\n",
       "    .dataframe thead th {\n",
       "        text-align: right;\n",
       "    }\n",
       "</style>\n",
       "<table border=\"1\" class=\"dataframe\">\n",
       "  <thead>\n",
       "    <tr style=\"text-align: right;\">\n",
       "      <th></th>\n",
       "      <th>Converted</th>\n",
       "      <th>Converted_Prob</th>\n",
       "      <th>Id</th>\n",
       "      <th>predicted</th>\n",
       "      <th>Lead_score</th>\n",
       "    </tr>\n",
       "  </thead>\n",
       "  <tbody>\n",
       "    <tr>\n",
       "      <td>4714</td>\n",
       "      <td>0</td>\n",
       "      <td>0.167349</td>\n",
       "      <td>4714</td>\n",
       "      <td>0</td>\n",
       "      <td>17</td>\n",
       "    </tr>\n",
       "    <tr>\n",
       "      <td>5794</td>\n",
       "      <td>1</td>\n",
       "      <td>0.974656</td>\n",
       "      <td>5794</td>\n",
       "      <td>1</td>\n",
       "      <td>97</td>\n",
       "    </tr>\n",
       "    <tr>\n",
       "      <td>876</td>\n",
       "      <td>1</td>\n",
       "      <td>0.053928</td>\n",
       "      <td>876</td>\n",
       "      <td>0</td>\n",
       "      <td>5</td>\n",
       "    </tr>\n",
       "    <tr>\n",
       "      <td>7767</td>\n",
       "      <td>1</td>\n",
       "      <td>0.721225</td>\n",
       "      <td>7767</td>\n",
       "      <td>1</td>\n",
       "      <td>72</td>\n",
       "    </tr>\n",
       "    <tr>\n",
       "      <td>7895</td>\n",
       "      <td>1</td>\n",
       "      <td>0.296118</td>\n",
       "      <td>7895</td>\n",
       "      <td>0</td>\n",
       "      <td>30</td>\n",
       "    </tr>\n",
       "    <tr>\n",
       "      <td>1182</td>\n",
       "      <td>0</td>\n",
       "      <td>0.246172</td>\n",
       "      <td>1182</td>\n",
       "      <td>0</td>\n",
       "      <td>25</td>\n",
       "    </tr>\n",
       "    <tr>\n",
       "      <td>959</td>\n",
       "      <td>0</td>\n",
       "      <td>0.389443</td>\n",
       "      <td>959</td>\n",
       "      <td>0</td>\n",
       "      <td>39</td>\n",
       "    </tr>\n",
       "    <tr>\n",
       "      <td>1444</td>\n",
       "      <td>1</td>\n",
       "      <td>0.974985</td>\n",
       "      <td>1444</td>\n",
       "      <td>1</td>\n",
       "      <td>97</td>\n",
       "    </tr>\n",
       "    <tr>\n",
       "      <td>106</td>\n",
       "      <td>0</td>\n",
       "      <td>0.063224</td>\n",
       "      <td>106</td>\n",
       "      <td>0</td>\n",
       "      <td>6</td>\n",
       "    </tr>\n",
       "    <tr>\n",
       "      <td>4615</td>\n",
       "      <td>0</td>\n",
       "      <td>0.051103</td>\n",
       "      <td>4615</td>\n",
       "      <td>0</td>\n",
       "      <td>5</td>\n",
       "    </tr>\n",
       "  </tbody>\n",
       "</table>\n",
       "</div>"
      ],
      "text/plain": [
       "      Converted  Converted_Prob    Id  predicted  Lead_score\n",
       "4714          0        0.167349  4714          0          17\n",
       "5794          1        0.974656  5794          1          97\n",
       "876           1        0.053928   876          0           5\n",
       "7767          1        0.721225  7767          1          72\n",
       "7895          1        0.296118  7895          0          30\n",
       "1182          0        0.246172  1182          0          25\n",
       "959           0        0.389443   959          0          39\n",
       "1444          1        0.974985  1444          1          97\n",
       "106           0        0.063224   106          0           6\n",
       "4615          0        0.051103  4615          0           5"
      ]
     },
     "execution_count": 105,
     "metadata": {},
     "output_type": "execute_result"
    }
   ],
   "source": [
    "y_train_pred_final['Lead_score'] = y_train_pred_final.Converted_Prob.map(lambda x: round(x*100))\n",
    "y_train_pred_final.head(10)"
   ]
  },
  {
   "cell_type": "code",
   "execution_count": 106,
   "metadata": {},
   "outputs": [
    {
     "data": {
      "text/plain": [
       "1    1900\n",
       "0     508\n",
       "Name: predicted, dtype: int64"
      ]
     },
     "execution_count": 106,
     "metadata": {},
     "output_type": "execute_result"
    }
   ],
   "source": [
    "#Checking if we have 80% correct prediction [WHICH IS TRUE POSITIVE]\n",
    "check_df = y_train_pred_final.loc[y_train_pred_final['Converted']==1,['Converted','predicted']]\n",
    "check_df['predicted'].value_counts()"
   ]
  },
  {
   "cell_type": "code",
   "execution_count": 107,
   "metadata": {},
   "outputs": [
    {
     "data": {
      "text/plain": [
       "0.7890365448504983"
      ]
     },
     "execution_count": 107,
     "metadata": {},
     "output_type": "execute_result"
    }
   ],
   "source": [
    "1900/(1900+508)"
   ]
  },
  {
   "cell_type": "markdown",
   "metadata": {},
   "source": [
    "#### Our correct prediction score is around 80%, which was expected from the beginning"
   ]
  },
  {
   "cell_type": "code",
   "execution_count": 108,
   "metadata": {},
   "outputs": [],
   "source": [
    "from sklearn import metrics"
   ]
  },
  {
   "cell_type": "markdown",
   "metadata": {},
   "source": [
    "#### Building confusion matrix to evaluate train model parameters"
   ]
  },
  {
   "cell_type": "code",
   "execution_count": 109,
   "metadata": {},
   "outputs": [
    {
     "name": "stdout",
     "output_type": "stream",
     "text": [
      "[[3524  366]\n",
      " [ 508 1900]]\n"
     ]
    }
   ],
   "source": [
    "# Confusion matrix \n",
    "confusion = metrics.confusion_matrix(y_train_pred_final.Converted, y_train_pred_final.predicted )\n",
    "print(confusion)"
   ]
  },
  {
   "cell_type": "code",
   "execution_count": 110,
   "metadata": {},
   "outputs": [],
   "source": [
    "# Predicted     not_lead    lead\n",
    "# Actual\n",
    "# not_lead        3524      366\n",
    "# lead            508       1900 "
   ]
  },
  {
   "cell_type": "code",
   "execution_count": 111,
   "metadata": {},
   "outputs": [
    {
     "name": "stdout",
     "output_type": "stream",
     "text": [
      "0.8612257859637981\n"
     ]
    }
   ],
   "source": [
    "# Let's check the overall accuracy.\n",
    "print(metrics.accuracy_score(y_train_pred_final.Converted, y_train_pred_final.predicted))"
   ]
  },
  {
   "cell_type": "code",
   "execution_count": 112,
   "metadata": {},
   "outputs": [],
   "source": [
    "TP = confusion[1,1] # true positive \n",
    "TN = confusion[0,0] # true negatives\n",
    "FP = confusion[0,1] # false positives\n",
    "FN = confusion[1,0] # false negatives"
   ]
  },
  {
   "cell_type": "code",
   "execution_count": 113,
   "metadata": {},
   "outputs": [
    {
     "data": {
      "text/plain": [
       "0.7890365448504983"
      ]
     },
     "execution_count": 113,
     "metadata": {},
     "output_type": "execute_result"
    }
   ],
   "source": [
    "# Let's see the sensitivity of our logistic regression model\n",
    "TP / float(TP+FN)"
   ]
  },
  {
   "cell_type": "code",
   "execution_count": 114,
   "metadata": {},
   "outputs": [
    {
     "data": {
      "text/plain": [
       "0.9059125964010283"
      ]
     },
     "execution_count": 114,
     "metadata": {},
     "output_type": "execute_result"
    }
   ],
   "source": [
    "# Let us calculate specificity\n",
    "TN / float(TN+FP)"
   ]
  },
  {
   "cell_type": "code",
   "execution_count": 115,
   "metadata": {},
   "outputs": [
    {
     "name": "stdout",
     "output_type": "stream",
     "text": [
      "0.09408740359897172\n"
     ]
    }
   ],
   "source": [
    "# Calculate false postive rate -  predicting lead when customer was not a lead\n",
    "print(FP/ float(TN+FP))"
   ]
  },
  {
   "cell_type": "code",
   "execution_count": 116,
   "metadata": {},
   "outputs": [
    {
     "name": "stdout",
     "output_type": "stream",
     "text": [
      "0.8384819064430715\n"
     ]
    }
   ],
   "source": [
    "# positive predictive value \n",
    "print (TP / float(TP+FP))"
   ]
  },
  {
   "cell_type": "code",
   "execution_count": 117,
   "metadata": {},
   "outputs": [
    {
     "name": "stdout",
     "output_type": "stream",
     "text": [
      "0.8740079365079365\n"
     ]
    }
   ],
   "source": [
    "# Negative predictive value\n",
    "print (TN / float(TN+ FN))"
   ]
  },
  {
   "cell_type": "markdown",
   "metadata": {},
   "source": [
    "### Checking ROC & AUC"
   ]
  },
  {
   "cell_type": "code",
   "execution_count": 118,
   "metadata": {},
   "outputs": [],
   "source": [
    "def draw_roc( actual, probs ):\n",
    "    fpr, tpr, thresholds = metrics.roc_curve( actual, probs,\n",
    "                                              drop_intermediate = False )\n",
    "    auc_score = metrics.roc_auc_score( actual, probs )\n",
    "    plt.figure(figsize=(5, 5))\n",
    "    plt.plot( fpr, tpr, label='ROC curve (area = %0.2f)' % auc_score )\n",
    "    plt.plot([0, 1], [0, 1], 'k--')\n",
    "    plt.xlim([0.0, 1.0])\n",
    "    plt.ylim([0.0, 1.05])\n",
    "    plt.xlabel('False Positive Rate or [1 - True Negative Rate]')\n",
    "    plt.ylabel('True Positive Rate')\n",
    "    plt.title('Receiver operating characteristic example')\n",
    "    plt.legend(loc=\"lower right\")\n",
    "    plt.show()\n",
    "\n",
    "    return None"
   ]
  },
  {
   "cell_type": "code",
   "execution_count": 119,
   "metadata": {},
   "outputs": [],
   "source": [
    "fpr, tpr, thresholds = metrics.roc_curve( y_train_pred_final.Converted, y_train_pred_final.Converted_Prob, drop_intermediate = False )"
   ]
  },
  {
   "cell_type": "code",
   "execution_count": 120,
   "metadata": {},
   "outputs": [
    {
     "data": {
      "image/png": "[encoded data removed]",
      "text/plain": [
       "<Figure size 360x360 with 1 Axes>"
      ]
     },
     "metadata": {
      "needs_background": "light"
     },
     "output_type": "display_data"
    }
   ],
   "source": [
    "draw_roc(y_train_pred_final.Converted, y_train_pred_final.Converted_Prob)"
   ]
  },
  {
   "cell_type": "code",
   "execution_count": 121,
   "metadata": {},
   "outputs": [
    {
     "data": {
      "text/html": [
       "<div>\n",
       "<style scoped>\n",
       "    .dataframe tbody tr th:only-of-type {\n",
       "        vertical-align: middle;\n",
       "    }\n",
       "\n",
       "    .dataframe tbody tr th {\n",
       "        vertical-align: top;\n",
       "    }\n",
       "\n",
       "    .dataframe thead th {\n",
       "        text-align: right;\n",
       "    }\n",
       "</style>\n",
       "<table border=\"1\" class=\"dataframe\">\n",
       "  <thead>\n",
       "    <tr style=\"text-align: right;\">\n",
       "      <th></th>\n",
       "      <th>Converted</th>\n",
       "      <th>Converted_Prob</th>\n",
       "      <th>Id</th>\n",
       "      <th>predicted</th>\n",
       "      <th>Lead_score</th>\n",
       "      <th>0.0</th>\n",
       "      <th>0.1</th>\n",
       "      <th>0.2</th>\n",
       "      <th>0.3</th>\n",
       "      <th>0.4</th>\n",
       "      <th>0.5</th>\n",
       "      <th>0.6</th>\n",
       "      <th>0.7</th>\n",
       "      <th>0.8</th>\n",
       "      <th>0.9</th>\n",
       "    </tr>\n",
       "  </thead>\n",
       "  <tbody>\n",
       "    <tr>\n",
       "      <td>4714</td>\n",
       "      <td>0</td>\n",
       "      <td>0.167349</td>\n",
       "      <td>4714</td>\n",
       "      <td>0</td>\n",
       "      <td>17</td>\n",
       "      <td>1</td>\n",
       "      <td>1</td>\n",
       "      <td>0</td>\n",
       "      <td>0</td>\n",
       "      <td>0</td>\n",
       "      <td>0</td>\n",
       "      <td>0</td>\n",
       "      <td>0</td>\n",
       "      <td>0</td>\n",
       "      <td>0</td>\n",
       "    </tr>\n",
       "    <tr>\n",
       "      <td>5794</td>\n",
       "      <td>1</td>\n",
       "      <td>0.974656</td>\n",
       "      <td>5794</td>\n",
       "      <td>1</td>\n",
       "      <td>97</td>\n",
       "      <td>1</td>\n",
       "      <td>1</td>\n",
       "      <td>1</td>\n",
       "      <td>1</td>\n",
       "      <td>1</td>\n",
       "      <td>1</td>\n",
       "      <td>1</td>\n",
       "      <td>1</td>\n",
       "      <td>1</td>\n",
       "      <td>1</td>\n",
       "    </tr>\n",
       "    <tr>\n",
       "      <td>876</td>\n",
       "      <td>1</td>\n",
       "      <td>0.053928</td>\n",
       "      <td>876</td>\n",
       "      <td>0</td>\n",
       "      <td>5</td>\n",
       "      <td>1</td>\n",
       "      <td>0</td>\n",
       "      <td>0</td>\n",
       "      <td>0</td>\n",
       "      <td>0</td>\n",
       "      <td>0</td>\n",
       "      <td>0</td>\n",
       "      <td>0</td>\n",
       "      <td>0</td>\n",
       "      <td>0</td>\n",
       "    </tr>\n",
       "    <tr>\n",
       "      <td>7767</td>\n",
       "      <td>1</td>\n",
       "      <td>0.721225</td>\n",
       "      <td>7767</td>\n",
       "      <td>1</td>\n",
       "      <td>72</td>\n",
       "      <td>1</td>\n",
       "      <td>1</td>\n",
       "      <td>1</td>\n",
       "      <td>1</td>\n",
       "      <td>1</td>\n",
       "      <td>1</td>\n",
       "      <td>1</td>\n",
       "      <td>1</td>\n",
       "      <td>0</td>\n",
       "      <td>0</td>\n",
       "    </tr>\n",
       "    <tr>\n",
       "      <td>7895</td>\n",
       "      <td>1</td>\n",
       "      <td>0.296118</td>\n",
       "      <td>7895</td>\n",
       "      <td>0</td>\n",
       "      <td>30</td>\n",
       "      <td>1</td>\n",
       "      <td>1</td>\n",
       "      <td>1</td>\n",
       "      <td>0</td>\n",
       "      <td>0</td>\n",
       "      <td>0</td>\n",
       "      <td>0</td>\n",
       "      <td>0</td>\n",
       "      <td>0</td>\n",
       "      <td>0</td>\n",
       "    </tr>\n",
       "  </tbody>\n",
       "</table>\n",
       "</div>"
      ],
      "text/plain": [
       "      Converted  Converted_Prob    Id  predicted  Lead_score  0.0  0.1  0.2  \\\n",
       "4714          0        0.167349  4714          0          17    1    1    0   \n",
       "5794          1        0.974656  5794          1          97    1    1    1   \n",
       "876           1        0.053928   876          0           5    1    0    0   \n",
       "7767          1        0.721225  7767          1          72    1    1    1   \n",
       "7895          1        0.296118  7895          0          30    1    1    1   \n",
       "\n",
       "      0.3  0.4  0.5  0.6  0.7  0.8  0.9  \n",
       "4714    0    0    0    0    0    0    0  \n",
       "5794    1    1    1    1    1    1    1  \n",
       "876     0    0    0    0    0    0    0  \n",
       "7767    1    1    1    1    1    0    0  \n",
       "7895    0    0    0    0    0    0    0  "
      ]
     },
     "execution_count": 121,
     "metadata": {},
     "output_type": "execute_result"
    }
   ],
   "source": [
    "# Let's create columns with different probability cutoffs \n",
    "numbers = [float(x)/10 for x in range(10)]\n",
    "for i in numbers:\n",
    "    y_train_pred_final[i]= y_train_pred_final.Converted_Prob.map(lambda x: 1 if x > i else 0)\n",
    "y_train_pred_final.head()"
   ]
  },
  {
   "cell_type": "code",
   "execution_count": 122,
   "metadata": {},
   "outputs": [
    {
     "name": "stdout",
     "output_type": "stream",
     "text": [
      "     prob  accuracy     sensi     speci\n",
      "0.0   0.0  0.382344  1.000000  0.000000\n",
      "0.1   0.1  0.741346  0.960548  0.605656\n",
      "0.2   0.2  0.817402  0.915282  0.756812\n",
      "0.3   0.3  0.840426  0.867525  0.823650\n",
      "0.4   0.4  0.856621  0.825581  0.875835\n",
      "0.5   0.5  0.861226  0.789037  0.905913\n",
      "0.6   0.6  0.845189  0.711794  0.927763\n",
      "0.7   0.7  0.835662  0.652409  0.949100\n",
      "0.8   0.8  0.820102  0.575581  0.971465\n",
      "0.9   0.9  0.765640  0.408638  0.986632\n"
     ]
    }
   ],
   "source": [
    "# Now let's calculate accuracy sensitivity and specificity for various probability cutoffs.\n",
    "cutoff_df = pd.DataFrame( columns = ['prob','accuracy','sensi','speci'])\n",
    "from sklearn.metrics import confusion_matrix\n",
    "\n",
    "# TP = confusion[1,1] # true positive \n",
    "# TN = confusion[0,0] # true negatives\n",
    "# FP = confusion[0,1] # false positives\n",
    "# FN = confusion[1,0] # false negatives\n",
    "\n",
    "num = [0.0,0.1,0.2,0.3,0.4,0.5,0.6,0.7,0.8,0.9]\n",
    "for i in num:\n",
    "    cm1 = metrics.confusion_matrix(y_train_pred_final.Converted, y_train_pred_final[i] )\n",
    "    total1=sum(sum(cm1))\n",
    "    accuracy = (cm1[0,0]+cm1[1,1])/total1\n",
    "    \n",
    "    speci = cm1[0,0]/(cm1[0,0]+cm1[0,1])\n",
    "    sensi = cm1[1,1]/(cm1[1,0]+cm1[1,1])\n",
    "    cutoff_df.loc[i] =[ i ,accuracy,sensi,speci]\n",
    "print(cutoff_df)"
   ]
  },
  {
   "cell_type": "code",
   "execution_count": 123,
   "metadata": {},
   "outputs": [
    {
     "data": {
      "image/png": "[encoded data removed]",
      "text/plain": [
       "<Figure size 432x288 with 1 Axes>"
      ]
     },
     "metadata": {
      "needs_background": "light"
     },
     "output_type": "display_data"
    }
   ],
   "source": [
    "# Let's plot accuracy sensitivity and specificity for various probabilities.\n",
    "cutoff_df.plot.line(x='prob', y=['accuracy','sensi','speci'])\n",
    "plt.show()"
   ]
  },
  {
   "cell_type": "code",
   "execution_count": 124,
   "metadata": {},
   "outputs": [],
   "source": [
    "from sklearn.metrics import precision_recall_curve"
   ]
  },
  {
   "cell_type": "code",
   "execution_count": 125,
   "metadata": {},
   "outputs": [],
   "source": [
    "p, r, thresholds = precision_recall_curve(y_train_pred_final.Converted, y_train_pred_final.Converted_Prob)"
   ]
  },
  {
   "cell_type": "code",
   "execution_count": 126,
   "metadata": {},
   "outputs": [
    {
     "data": {
      "image/png": "[encoded data removed]",
      "text/plain": [
       "<Figure size 432x288 with 1 Axes>"
      ]
     },
     "metadata": {
      "needs_background": "light"
     },
     "output_type": "display_data"
    }
   ],
   "source": [
    "plt.plot(thresholds, p[:-1], \"g-\")\n",
    "plt.plot(thresholds, r[:-1], \"r-\")\n",
    "plt.show()"
   ]
  },
  {
   "cell_type": "code",
   "execution_count": 127,
   "metadata": {},
   "outputs": [
    {
     "data": {
      "text/html": [
       "<div>\n",
       "<style scoped>\n",
       "    .dataframe tbody tr th:only-of-type {\n",
       "        vertical-align: middle;\n",
       "    }\n",
       "\n",
       "    .dataframe tbody tr th {\n",
       "        vertical-align: top;\n",
       "    }\n",
       "\n",
       "    .dataframe thead th {\n",
       "        text-align: right;\n",
       "    }\n",
       "</style>\n",
       "<table border=\"1\" class=\"dataframe\">\n",
       "  <thead>\n",
       "    <tr style=\"text-align: right;\">\n",
       "      <th></th>\n",
       "      <th>Converted</th>\n",
       "      <th>Converted_Prob</th>\n",
       "      <th>Id</th>\n",
       "      <th>predicted</th>\n",
       "      <th>Lead_score</th>\n",
       "      <th>0.0</th>\n",
       "      <th>0.1</th>\n",
       "      <th>0.2</th>\n",
       "      <th>0.3</th>\n",
       "      <th>0.4</th>\n",
       "      <th>0.5</th>\n",
       "      <th>0.6</th>\n",
       "      <th>0.7</th>\n",
       "      <th>0.8</th>\n",
       "      <th>0.9</th>\n",
       "      <th>final_predicted</th>\n",
       "    </tr>\n",
       "  </thead>\n",
       "  <tbody>\n",
       "    <tr>\n",
       "      <td>4714</td>\n",
       "      <td>0</td>\n",
       "      <td>0.167349</td>\n",
       "      <td>4714</td>\n",
       "      <td>0</td>\n",
       "      <td>17</td>\n",
       "      <td>1</td>\n",
       "      <td>1</td>\n",
       "      <td>0</td>\n",
       "      <td>0</td>\n",
       "      <td>0</td>\n",
       "      <td>0</td>\n",
       "      <td>0</td>\n",
       "      <td>0</td>\n",
       "      <td>0</td>\n",
       "      <td>0</td>\n",
       "      <td>0</td>\n",
       "    </tr>\n",
       "    <tr>\n",
       "      <td>5794</td>\n",
       "      <td>1</td>\n",
       "      <td>0.974656</td>\n",
       "      <td>5794</td>\n",
       "      <td>1</td>\n",
       "      <td>97</td>\n",
       "      <td>1</td>\n",
       "      <td>1</td>\n",
       "      <td>1</td>\n",
       "      <td>1</td>\n",
       "      <td>1</td>\n",
       "      <td>1</td>\n",
       "      <td>1</td>\n",
       "      <td>1</td>\n",
       "      <td>1</td>\n",
       "      <td>1</td>\n",
       "      <td>1</td>\n",
       "    </tr>\n",
       "    <tr>\n",
       "      <td>876</td>\n",
       "      <td>1</td>\n",
       "      <td>0.053928</td>\n",
       "      <td>876</td>\n",
       "      <td>0</td>\n",
       "      <td>5</td>\n",
       "      <td>1</td>\n",
       "      <td>0</td>\n",
       "      <td>0</td>\n",
       "      <td>0</td>\n",
       "      <td>0</td>\n",
       "      <td>0</td>\n",
       "      <td>0</td>\n",
       "      <td>0</td>\n",
       "      <td>0</td>\n",
       "      <td>0</td>\n",
       "      <td>0</td>\n",
       "    </tr>\n",
       "    <tr>\n",
       "      <td>7767</td>\n",
       "      <td>1</td>\n",
       "      <td>0.721225</td>\n",
       "      <td>7767</td>\n",
       "      <td>1</td>\n",
       "      <td>72</td>\n",
       "      <td>1</td>\n",
       "      <td>1</td>\n",
       "      <td>1</td>\n",
       "      <td>1</td>\n",
       "      <td>1</td>\n",
       "      <td>1</td>\n",
       "      <td>1</td>\n",
       "      <td>1</td>\n",
       "      <td>0</td>\n",
       "      <td>0</td>\n",
       "      <td>1</td>\n",
       "    </tr>\n",
       "    <tr>\n",
       "      <td>7895</td>\n",
       "      <td>1</td>\n",
       "      <td>0.296118</td>\n",
       "      <td>7895</td>\n",
       "      <td>0</td>\n",
       "      <td>30</td>\n",
       "      <td>1</td>\n",
       "      <td>1</td>\n",
       "      <td>1</td>\n",
       "      <td>0</td>\n",
       "      <td>0</td>\n",
       "      <td>0</td>\n",
       "      <td>0</td>\n",
       "      <td>0</td>\n",
       "      <td>0</td>\n",
       "      <td>0</td>\n",
       "      <td>0</td>\n",
       "    </tr>\n",
       "  </tbody>\n",
       "</table>\n",
       "</div>"
      ],
      "text/plain": [
       "      Converted  Converted_Prob    Id  predicted  Lead_score  0.0  0.1  0.2  \\\n",
       "4714          0        0.167349  4714          0          17    1    1    0   \n",
       "5794          1        0.974656  5794          1          97    1    1    1   \n",
       "876           1        0.053928   876          0           5    1    0    0   \n",
       "7767          1        0.721225  7767          1          72    1    1    1   \n",
       "7895          1        0.296118  7895          0          30    1    1    1   \n",
       "\n",
       "      0.3  0.4  0.5  0.6  0.7  0.8  0.9  final_predicted  \n",
       "4714    0    0    0    0    0    0    0                0  \n",
       "5794    1    1    1    1    1    1    1                1  \n",
       "876     0    0    0    0    0    0    0                0  \n",
       "7767    1    1    1    1    1    0    0                1  \n",
       "7895    0    0    0    0    0    0    0                0  "
      ]
     },
     "execution_count": 127,
     "metadata": {},
     "output_type": "execute_result"
    }
   ],
   "source": [
    "#Using 0.33 as a cutoff and then categorizing data\n",
    "y_train_pred_final['final_predicted'] = y_train_pred_final.Converted_Prob.map( lambda x: 1 if x > 0.33 else 0)\n",
    "\n",
    "y_train_pred_final.head()"
   ]
  },
  {
   "cell_type": "code",
   "execution_count": 128,
   "metadata": {},
   "outputs": [
    {
     "data": {
      "text/plain": [
       "0.8478882184820578"
      ]
     },
     "execution_count": 128,
     "metadata": {},
     "output_type": "execute_result"
    }
   ],
   "source": [
    "# Let's check the overall accuracy.\n",
    "metrics.accuracy_score(y_train_pred_final.Converted, y_train_pred_final.final_predicted)"
   ]
  },
  {
   "cell_type": "code",
   "execution_count": 129,
   "metadata": {},
   "outputs": [
    {
     "data": {
      "text/plain": [
       "array([[3283,  607],\n",
       "       [ 351, 2057]], dtype=int64)"
      ]
     },
     "execution_count": 129,
     "metadata": {},
     "output_type": "execute_result"
    }
   ],
   "source": [
    "confusion2 = metrics.confusion_matrix(y_train_pred_final.Converted, y_train_pred_final.final_predicted )\n",
    "confusion2"
   ]
  },
  {
   "cell_type": "code",
   "execution_count": 130,
   "metadata": {},
   "outputs": [],
   "source": [
    "TP_1 = confusion2[1,1] # true positive \n",
    "TN_1 = confusion2[0,0] # true negatives\n",
    "FP_1 = confusion2[0,1] # false positives\n",
    "FN_1 = confusion2[1,0] # false negatives"
   ]
  },
  {
   "cell_type": "code",
   "execution_count": 131,
   "metadata": {},
   "outputs": [
    {
     "data": {
      "text/plain": [
       "0.854235880398671"
      ]
     },
     "execution_count": 131,
     "metadata": {},
     "output_type": "execute_result"
    }
   ],
   "source": [
    "# Let's see the sensitivity of our logistic regression model\n",
    "TP_1 / float(TP_1+FN_1)"
   ]
  },
  {
   "cell_type": "code",
   "execution_count": 132,
   "metadata": {},
   "outputs": [
    {
     "data": {
      "text/plain": [
       "0.8439588688946016"
      ]
     },
     "execution_count": 132,
     "metadata": {},
     "output_type": "execute_result"
    }
   ],
   "source": [
    "# Let us calculate specificity\n",
    "TN_1 / float(TN_1+FP_1)"
   ]
  },
  {
   "cell_type": "code",
   "execution_count": 133,
   "metadata": {},
   "outputs": [
    {
     "name": "stdout",
     "output_type": "stream",
     "text": [
      "0.15604113110539847\n"
     ]
    }
   ],
   "source": [
    "# Calculate false postive rate - predicting lead when customer was not a lead\n",
    "print(FP_1/ float(TN_1+FP_1))"
   ]
  },
  {
   "cell_type": "code",
   "execution_count": 134,
   "metadata": {},
   "outputs": [
    {
     "name": "stdout",
     "output_type": "stream",
     "text": [
      "0.7721471471471472\n"
     ]
    }
   ],
   "source": [
    "# Positive predictive value \n",
    "print (TP_1 / float(TP_1+FP_1))"
   ]
  },
  {
   "cell_type": "code",
   "execution_count": 135,
   "metadata": {},
   "outputs": [
    {
     "name": "stdout",
     "output_type": "stream",
     "text": [
      "0.903412217941662\n"
     ]
    }
   ],
   "source": [
    "# Negative predictive value\n",
    "print (TN_1 / float(TN_1+ FN_1))"
   ]
  },
  {
   "cell_type": "markdown",
   "metadata": {},
   "source": [
    "### Time for testing \"test set\" "
   ]
  },
  {
   "cell_type": "code",
   "execution_count": 136,
   "metadata": {},
   "outputs": [],
   "source": [
    "X_test[num_cols] = scaler.transform(X_test[num_cols])"
   ]
  },
  {
   "cell_type": "code",
   "execution_count": 137,
   "metadata": {},
   "outputs": [
    {
     "data": {
      "text/html": [
       "<div>\n",
       "<style scoped>\n",
       "    .dataframe tbody tr th:only-of-type {\n",
       "        vertical-align: middle;\n",
       "    }\n",
       "\n",
       "    .dataframe tbody tr th {\n",
       "        vertical-align: top;\n",
       "    }\n",
       "\n",
       "    .dataframe thead th {\n",
       "        text-align: right;\n",
       "    }\n",
       "</style>\n",
       "<table border=\"1\" class=\"dataframe\">\n",
       "  <thead>\n",
       "    <tr style=\"text-align: right;\">\n",
       "      <th></th>\n",
       "      <th>Do Not Email</th>\n",
       "      <th>TotalVisits</th>\n",
       "      <th>Total Time Spent on Website</th>\n",
       "      <th>Lead Origin_Lead Add Form</th>\n",
       "      <th>Lead Source_Olark Chat</th>\n",
       "      <th>Lead Source_Welingak Website</th>\n",
       "      <th>Last Activity_Not Sure</th>\n",
       "      <th>Last Activity_Olark Chat Conversation</th>\n",
       "      <th>Lead Quality_Might be</th>\n",
       "      <th>Lead Quality_Not Sure</th>\n",
       "      <th>Lead Quality_Worst</th>\n",
       "      <th>Last Notable Activity_Had a Phone Conversation</th>\n",
       "      <th>Last Notable Activity_SMS Sent</th>\n",
       "    </tr>\n",
       "  </thead>\n",
       "  <tbody>\n",
       "    <tr>\n",
       "      <td>9122</td>\n",
       "      <td>0</td>\n",
       "      <td>0.000000</td>\n",
       "      <td>0.000000</td>\n",
       "      <td>0</td>\n",
       "      <td>1</td>\n",
       "      <td>0</td>\n",
       "      <td>0</td>\n",
       "      <td>0</td>\n",
       "      <td>0</td>\n",
       "      <td>1</td>\n",
       "      <td>0</td>\n",
       "      <td>0</td>\n",
       "      <td>0</td>\n",
       "    </tr>\n",
       "    <tr>\n",
       "      <td>4366</td>\n",
       "      <td>0</td>\n",
       "      <td>0.294118</td>\n",
       "      <td>0.043502</td>\n",
       "      <td>0</td>\n",
       "      <td>0</td>\n",
       "      <td>0</td>\n",
       "      <td>0</td>\n",
       "      <td>0</td>\n",
       "      <td>0</td>\n",
       "      <td>1</td>\n",
       "      <td>0</td>\n",
       "      <td>0</td>\n",
       "      <td>0</td>\n",
       "    </tr>\n",
       "    <tr>\n",
       "      <td>4044</td>\n",
       "      <td>0</td>\n",
       "      <td>0.000000</td>\n",
       "      <td>0.000000</td>\n",
       "      <td>0</td>\n",
       "      <td>1</td>\n",
       "      <td>0</td>\n",
       "      <td>0</td>\n",
       "      <td>0</td>\n",
       "      <td>0</td>\n",
       "      <td>0</td>\n",
       "      <td>0</td>\n",
       "      <td>0</td>\n",
       "      <td>1</td>\n",
       "    </tr>\n",
       "    <tr>\n",
       "      <td>5527</td>\n",
       "      <td>0</td>\n",
       "      <td>0.000000</td>\n",
       "      <td>0.000000</td>\n",
       "      <td>0</td>\n",
       "      <td>1</td>\n",
       "      <td>0</td>\n",
       "      <td>0</td>\n",
       "      <td>1</td>\n",
       "      <td>0</td>\n",
       "      <td>1</td>\n",
       "      <td>0</td>\n",
       "      <td>0</td>\n",
       "      <td>0</td>\n",
       "    </tr>\n",
       "    <tr>\n",
       "      <td>2752</td>\n",
       "      <td>0</td>\n",
       "      <td>0.176471</td>\n",
       "      <td>0.030995</td>\n",
       "      <td>0</td>\n",
       "      <td>0</td>\n",
       "      <td>0</td>\n",
       "      <td>0</td>\n",
       "      <td>0</td>\n",
       "      <td>0</td>\n",
       "      <td>1</td>\n",
       "      <td>0</td>\n",
       "      <td>0</td>\n",
       "      <td>0</td>\n",
       "    </tr>\n",
       "  </tbody>\n",
       "</table>\n",
       "</div>"
      ],
      "text/plain": [
       "      Do Not Email  TotalVisits  Total Time Spent on Website  \\\n",
       "9122             0     0.000000                     0.000000   \n",
       "4366             0     0.294118                     0.043502   \n",
       "4044             0     0.000000                     0.000000   \n",
       "5527             0     0.000000                     0.000000   \n",
       "2752             0     0.176471                     0.030995   \n",
       "\n",
       "      Lead Origin_Lead Add Form  Lead Source_Olark Chat  \\\n",
       "9122                          0                       1   \n",
       "4366                          0                       0   \n",
       "4044                          0                       1   \n",
       "5527                          0                       1   \n",
       "2752                          0                       0   \n",
       "\n",
       "      Lead Source_Welingak Website  Last Activity_Not Sure  \\\n",
       "9122                             0                       0   \n",
       "4366                             0                       0   \n",
       "4044                             0                       0   \n",
       "5527                             0                       0   \n",
       "2752                             0                       0   \n",
       "\n",
       "      Last Activity_Olark Chat Conversation  Lead Quality_Might be  \\\n",
       "9122                                      0                      0   \n",
       "4366                                      0                      0   \n",
       "4044                                      0                      0   \n",
       "5527                                      1                      0   \n",
       "2752                                      0                      0   \n",
       "\n",
       "      Lead Quality_Not Sure  Lead Quality_Worst  \\\n",
       "9122                      1                   0   \n",
       "4366                      1                   0   \n",
       "4044                      0                   0   \n",
       "5527                      1                   0   \n",
       "2752                      1                   0   \n",
       "\n",
       "      Last Notable Activity_Had a Phone Conversation  \\\n",
       "9122                                               0   \n",
       "4366                                               0   \n",
       "4044                                               0   \n",
       "5527                                               0   \n",
       "2752                                               0   \n",
       "\n",
       "      Last Notable Activity_SMS Sent  \n",
       "9122                               0  \n",
       "4366                               0  \n",
       "4044                               1  \n",
       "5527                               0  \n",
       "2752                               0  "
      ]
     },
     "execution_count": 137,
     "metadata": {},
     "output_type": "execute_result"
    }
   ],
   "source": [
    "X_test = X_test[col]\n",
    "X_test.head()"
   ]
  },
  {
   "cell_type": "code",
   "execution_count": 138,
   "metadata": {},
   "outputs": [],
   "source": [
    "X_test_sm = sm.add_constant(X_test)"
   ]
  },
  {
   "cell_type": "code",
   "execution_count": 139,
   "metadata": {},
   "outputs": [],
   "source": [
    "y_test_pred = res.predict(X_test_sm)"
   ]
  },
  {
   "cell_type": "code",
   "execution_count": 140,
   "metadata": {},
   "outputs": [],
   "source": [
    "# Converting y_pred to a dataframe which is an array\n",
    "y_pred_1 = pd.DataFrame(y_test_pred)"
   ]
  },
  {
   "cell_type": "code",
   "execution_count": 141,
   "metadata": {},
   "outputs": [],
   "source": [
    "# Converting y_test to dataframe\n",
    "y_test_df = pd.DataFrame(y_test)"
   ]
  },
  {
   "cell_type": "code",
   "execution_count": 142,
   "metadata": {},
   "outputs": [],
   "source": [
    "# Putting ID to index\n",
    "y_test_df['ID'] = y_test_df.index"
   ]
  },
  {
   "cell_type": "code",
   "execution_count": 143,
   "metadata": {},
   "outputs": [],
   "source": [
    "# Removing index for both dataframes to append them side by side \n",
    "y_pred_1.reset_index(drop=True, inplace=True)\n",
    "y_test_df.reset_index(drop=True, inplace=True)"
   ]
  },
  {
   "cell_type": "code",
   "execution_count": 144,
   "metadata": {},
   "outputs": [],
   "source": [
    "# Appending y_test_df and y_pred_1\n",
    "y_pred_final = pd.concat([y_test_df, y_pred_1],axis=1)"
   ]
  },
  {
   "cell_type": "code",
   "execution_count": 145,
   "metadata": {},
   "outputs": [
    {
     "data": {
      "text/html": [
       "<div>\n",
       "<style scoped>\n",
       "    .dataframe tbody tr th:only-of-type {\n",
       "        vertical-align: middle;\n",
       "    }\n",
       "\n",
       "    .dataframe tbody tr th {\n",
       "        vertical-align: top;\n",
       "    }\n",
       "\n",
       "    .dataframe thead th {\n",
       "        text-align: right;\n",
       "    }\n",
       "</style>\n",
       "<table border=\"1\" class=\"dataframe\">\n",
       "  <thead>\n",
       "    <tr style=\"text-align: right;\">\n",
       "      <th></th>\n",
       "      <th>Converted</th>\n",
       "      <th>ID</th>\n",
       "      <th>0</th>\n",
       "    </tr>\n",
       "  </thead>\n",
       "  <tbody>\n",
       "    <tr>\n",
       "      <td>0</td>\n",
       "      <td>0</td>\n",
       "      <td>9122</td>\n",
       "      <td>0.167349</td>\n",
       "    </tr>\n",
       "    <tr>\n",
       "      <td>1</td>\n",
       "      <td>0</td>\n",
       "      <td>4366</td>\n",
       "      <td>0.051053</td>\n",
       "    </tr>\n",
       "    <tr>\n",
       "      <td>2</td>\n",
       "      <td>1</td>\n",
       "      <td>4044</td>\n",
       "      <td>0.967776</td>\n",
       "    </tr>\n",
       "    <tr>\n",
       "      <td>3</td>\n",
       "      <td>0</td>\n",
       "      <td>5527</td>\n",
       "      <td>0.053928</td>\n",
       "    </tr>\n",
       "    <tr>\n",
       "      <td>4</td>\n",
       "      <td>0</td>\n",
       "      <td>2752</td>\n",
       "      <td>0.045786</td>\n",
       "    </tr>\n",
       "  </tbody>\n",
       "</table>\n",
       "</div>"
      ],
      "text/plain": [
       "   Converted    ID         0\n",
       "0          0  9122  0.167349\n",
       "1          0  4366  0.051053\n",
       "2          1  4044  0.967776\n",
       "3          0  5527  0.053928\n",
       "4          0  2752  0.045786"
      ]
     },
     "execution_count": 145,
     "metadata": {},
     "output_type": "execute_result"
    }
   ],
   "source": [
    "y_pred_final.head()"
   ]
  },
  {
   "cell_type": "code",
   "execution_count": 146,
   "metadata": {},
   "outputs": [],
   "source": [
    "# Renaming the column \n",
    "y_pred_final= y_pred_final.rename(columns={ 0 : 'Converted_Prob'})"
   ]
  },
  {
   "cell_type": "code",
   "execution_count": 147,
   "metadata": {},
   "outputs": [
    {
     "data": {
      "text/html": [
       "<div>\n",
       "<style scoped>\n",
       "    .dataframe tbody tr th:only-of-type {\n",
       "        vertical-align: middle;\n",
       "    }\n",
       "\n",
       "    .dataframe tbody tr th {\n",
       "        vertical-align: top;\n",
       "    }\n",
       "\n",
       "    .dataframe thead th {\n",
       "        text-align: right;\n",
       "    }\n",
       "</style>\n",
       "<table border=\"1\" class=\"dataframe\">\n",
       "  <thead>\n",
       "    <tr style=\"text-align: right;\">\n",
       "      <th></th>\n",
       "      <th>Converted</th>\n",
       "      <th>ID</th>\n",
       "      <th>Converted_Prob</th>\n",
       "    </tr>\n",
       "  </thead>\n",
       "  <tbody>\n",
       "    <tr>\n",
       "      <td>0</td>\n",
       "      <td>0</td>\n",
       "      <td>9122</td>\n",
       "      <td>0.167349</td>\n",
       "    </tr>\n",
       "    <tr>\n",
       "      <td>1</td>\n",
       "      <td>0</td>\n",
       "      <td>4366</td>\n",
       "      <td>0.051053</td>\n",
       "    </tr>\n",
       "    <tr>\n",
       "      <td>2</td>\n",
       "      <td>1</td>\n",
       "      <td>4044</td>\n",
       "      <td>0.967776</td>\n",
       "    </tr>\n",
       "    <tr>\n",
       "      <td>3</td>\n",
       "      <td>0</td>\n",
       "      <td>5527</td>\n",
       "      <td>0.053928</td>\n",
       "    </tr>\n",
       "    <tr>\n",
       "      <td>4</td>\n",
       "      <td>0</td>\n",
       "      <td>2752</td>\n",
       "      <td>0.045786</td>\n",
       "    </tr>\n",
       "  </tbody>\n",
       "</table>\n",
       "</div>"
      ],
      "text/plain": [
       "   Converted    ID  Converted_Prob\n",
       "0          0  9122        0.167349\n",
       "1          0  4366        0.051053\n",
       "2          1  4044        0.967776\n",
       "3          0  5527        0.053928\n",
       "4          0  2752        0.045786"
      ]
     },
     "execution_count": 147,
     "metadata": {},
     "output_type": "execute_result"
    }
   ],
   "source": [
    "y_pred_final.head()"
   ]
  },
  {
   "cell_type": "code",
   "execution_count": 148,
   "metadata": {},
   "outputs": [],
   "source": [
    "y_pred_final['final_predicted'] = y_pred_final.Converted_Prob.map(lambda x: 1 if x > 0.33 else 0)"
   ]
  },
  {
   "cell_type": "markdown",
   "metadata": {},
   "source": [
    "### Addilng Lead Score"
   ]
  },
  {
   "cell_type": "code",
   "execution_count": 149,
   "metadata": {},
   "outputs": [
    {
     "data": {
      "text/html": [
       "<div>\n",
       "<style scoped>\n",
       "    .dataframe tbody tr th:only-of-type {\n",
       "        vertical-align: middle;\n",
       "    }\n",
       "\n",
       "    .dataframe tbody tr th {\n",
       "        vertical-align: top;\n",
       "    }\n",
       "\n",
       "    .dataframe thead th {\n",
       "        text-align: right;\n",
       "    }\n",
       "</style>\n",
       "<table border=\"1\" class=\"dataframe\">\n",
       "  <thead>\n",
       "    <tr style=\"text-align: right;\">\n",
       "      <th></th>\n",
       "      <th>Converted</th>\n",
       "      <th>ID</th>\n",
       "      <th>Converted_Prob</th>\n",
       "      <th>final_predicted</th>\n",
       "      <th>Lead_score</th>\n",
       "    </tr>\n",
       "  </thead>\n",
       "  <tbody>\n",
       "    <tr>\n",
       "      <td>0</td>\n",
       "      <td>0</td>\n",
       "      <td>9122</td>\n",
       "      <td>0.167349</td>\n",
       "      <td>0</td>\n",
       "      <td>17</td>\n",
       "    </tr>\n",
       "    <tr>\n",
       "      <td>1</td>\n",
       "      <td>0</td>\n",
       "      <td>4366</td>\n",
       "      <td>0.051053</td>\n",
       "      <td>0</td>\n",
       "      <td>5</td>\n",
       "    </tr>\n",
       "    <tr>\n",
       "      <td>2</td>\n",
       "      <td>1</td>\n",
       "      <td>4044</td>\n",
       "      <td>0.967776</td>\n",
       "      <td>1</td>\n",
       "      <td>97</td>\n",
       "    </tr>\n",
       "    <tr>\n",
       "      <td>3</td>\n",
       "      <td>0</td>\n",
       "      <td>5527</td>\n",
       "      <td>0.053928</td>\n",
       "      <td>0</td>\n",
       "      <td>5</td>\n",
       "    </tr>\n",
       "    <tr>\n",
       "      <td>4</td>\n",
       "      <td>0</td>\n",
       "      <td>2752</td>\n",
       "      <td>0.045786</td>\n",
       "      <td>0</td>\n",
       "      <td>5</td>\n",
       "    </tr>\n",
       "    <tr>\n",
       "      <td>5</td>\n",
       "      <td>1</td>\n",
       "      <td>4165</td>\n",
       "      <td>0.375775</td>\n",
       "      <td>1</td>\n",
       "      <td>38</td>\n",
       "    </tr>\n",
       "    <tr>\n",
       "      <td>6</td>\n",
       "      <td>0</td>\n",
       "      <td>8744</td>\n",
       "      <td>0.001530</td>\n",
       "      <td>0</td>\n",
       "      <td>0</td>\n",
       "    </tr>\n",
       "    <tr>\n",
       "      <td>7</td>\n",
       "      <td>0</td>\n",
       "      <td>1600</td>\n",
       "      <td>0.603254</td>\n",
       "      <td>1</td>\n",
       "      <td>60</td>\n",
       "    </tr>\n",
       "    <tr>\n",
       "      <td>8</td>\n",
       "      <td>1</td>\n",
       "      <td>7641</td>\n",
       "      <td>0.996399</td>\n",
       "      <td>1</td>\n",
       "      <td>100</td>\n",
       "    </tr>\n",
       "    <tr>\n",
       "      <td>9</td>\n",
       "      <td>0</td>\n",
       "      <td>4741</td>\n",
       "      <td>0.057797</td>\n",
       "      <td>0</td>\n",
       "      <td>6</td>\n",
       "    </tr>\n",
       "  </tbody>\n",
       "</table>\n",
       "</div>"
      ],
      "text/plain": [
       "   Converted    ID  Converted_Prob  final_predicted  Lead_score\n",
       "0          0  9122        0.167349                0          17\n",
       "1          0  4366        0.051053                0           5\n",
       "2          1  4044        0.967776                1          97\n",
       "3          0  5527        0.053928                0           5\n",
       "4          0  2752        0.045786                0           5\n",
       "5          1  4165        0.375775                1          38\n",
       "6          0  8744        0.001530                0           0\n",
       "7          0  1600        0.603254                1          60\n",
       "8          1  7641        0.996399                1         100\n",
       "9          0  4741        0.057797                0           6"
      ]
     },
     "execution_count": 149,
     "metadata": {},
     "output_type": "execute_result"
    }
   ],
   "source": [
    "y_pred_final['Lead_score'] = y_pred_final.Converted_Prob.map(lambda x: round(x*100))\n",
    "y_pred_final.head(10)"
   ]
  },
  {
   "cell_type": "code",
   "execution_count": 150,
   "metadata": {},
   "outputs": [
    {
     "data": {
      "text/plain": [
       "1    859\n",
       "0    166\n",
       "Name: final_predicted, dtype: int64"
      ]
     },
     "execution_count": 150,
     "metadata": {},
     "output_type": "execute_result"
    }
   ],
   "source": [
    "#Checking if we have 80% correct prediction [WHICH IS TRUE POSITIVE]\n",
    "check_df = y_pred_final.loc[y_pred_final['Converted']==1,['Converted','final_predicted']]\n",
    "check_df['final_predicted'].value_counts()"
   ]
  },
  {
   "cell_type": "code",
   "execution_count": 151,
   "metadata": {},
   "outputs": [
    {
     "data": {
      "text/plain": [
       "0.8380487804878048"
      ]
     },
     "execution_count": 151,
     "metadata": {},
     "output_type": "execute_result"
    }
   ],
   "source": [
    "859/(859+166)"
   ]
  },
  {
   "cell_type": "markdown",
   "metadata": {},
   "source": [
    "#### Over 80% correct score categorization for hot leads"
   ]
  },
  {
   "cell_type": "markdown",
   "metadata": {},
   "source": [
    "### Checking the model parameters for evauation"
   ]
  },
  {
   "cell_type": "code",
   "execution_count": 152,
   "metadata": {},
   "outputs": [
    {
     "data": {
      "text/plain": [
       "0.8240740740740741"
      ]
     },
     "execution_count": 152,
     "metadata": {},
     "output_type": "execute_result"
    }
   ],
   "source": [
    "# Let's check the overall accuracy.\n",
    "metrics.accuracy_score(y_pred_final.Converted, y_pred_final.final_predicted)"
   ]
  },
  {
   "cell_type": "code",
   "execution_count": 153,
   "metadata": {},
   "outputs": [
    {
     "data": {
      "text/plain": [
       "array([[1366,  309],\n",
       "       [ 166,  859]], dtype=int64)"
      ]
     },
     "execution_count": 153,
     "metadata": {},
     "output_type": "execute_result"
    }
   ],
   "source": [
    "confusion2 = metrics.confusion_matrix(y_pred_final.Converted, y_pred_final.final_predicted )\n",
    "confusion2"
   ]
  },
  {
   "cell_type": "code",
   "execution_count": 154,
   "metadata": {},
   "outputs": [],
   "source": [
    "TP_2 = confusion2[1,1] # true positive \n",
    "TN_2 = confusion2[0,0] # true negatives\n",
    "FP_2 = confusion2[0,1] # false positives\n",
    "FN_2 = confusion2[1,0] # false negatives"
   ]
  },
  {
   "cell_type": "code",
   "execution_count": 155,
   "metadata": {},
   "outputs": [
    {
     "data": {
      "text/plain": [
       "0.8380487804878048"
      ]
     },
     "execution_count": 155,
     "metadata": {},
     "output_type": "execute_result"
    }
   ],
   "source": [
    "# Let's see the sensitivity of our logistic regression model\n",
    "TP_2 / float(TP_2+FN_2)"
   ]
  },
  {
   "cell_type": "code",
   "execution_count": 156,
   "metadata": {},
   "outputs": [
    {
     "data": {
      "text/plain": [
       "0.8155223880597015"
      ]
     },
     "execution_count": 156,
     "metadata": {},
     "output_type": "execute_result"
    }
   ],
   "source": [
    "# Let us calculate specificity\n",
    "TN_2 / float(TN_2+FP_2)"
   ]
  },
  {
   "cell_type": "code",
   "execution_count": 157,
   "metadata": {},
   "outputs": [
    {
     "name": "stdout",
     "output_type": "stream",
     "text": [
      "Train Accuracy 0.8478882184820578\n",
      "Train Sensitivity 0.854235880398671\n",
      "Train Specificity 0.8439588688946016\n",
      "------------------------------\n",
      "Test Accuracy 0.8240740740740741\n",
      "Test Sensitivity 0.8380487804878048\n",
      "Test Specificity 0.8155223880597015\n"
     ]
    }
   ],
   "source": [
    "print(\"Train Accuracy\",(TP_1+TN_1)/(TP_1+TN_1+FP_1+FN_1))\n",
    "print(\"Train Sensitivity\",(TP_1)/(TP_1+FN_1))\n",
    "print(\"Train Specificity\",(TN_1)/(TN_1+FP_1))\n",
    "\n",
    "print(\"------------------------------\")\n",
    "print(\"Test Accuracy\",(TP_2+TN_2)/(TP_2+TN_2+FP_2+FN_2))\n",
    "print(\"Test Sensitivity\",(TP_2)/(TP_2+FN_2))\n",
    "print(\"Test Specificity\",(TN_2)/(TN_2+FP_2))"
   ]
  },
  {
   "cell_type": "markdown",
   "metadata": {},
   "source": [
    "## The model is performing well on both the train data and the test data. We will consider this model as our final model."
   ]
  }
 ],
 "metadata": {
  "kernelspec": {
   "display_name": "Python 3",
   "language": "python",
   "name": "python3"
  },
  "language_info": {
   "codemirror_mode": {
    "name": "ipython",
    "version": 3
   },
   "file_extension": ".py",
   "mimetype": "text/x-python",
   "name": "python",
   "nbconvert_exporter": "python",
   "pygments_lexer": "ipython3",
   "version": "3.7.4"
  }
 },
 "nbformat": 4,
 "nbformat_minor": 2
}
